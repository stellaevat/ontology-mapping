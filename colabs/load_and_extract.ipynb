{
  "nbformat": 4,
  "nbformat_minor": 0,
  "metadata": {
    "colab": {
      "provenance": [],
      "authorship_tag": "ABX9TyNxZzvGUrZ++i2xYe+iplgl",
      "include_colab_link": true
    },
    "kernelspec": {
      "name": "python3",
      "display_name": "Python 3"
    },
    "language_info": {
      "name": "python"
    }
  },
  "cells": [
    {
      "cell_type": "markdown",
      "metadata": {
        "id": "view-in-github",
        "colab_type": "text"
      },
      "source": [
        "<a href=\"https://colab.research.google.com/github/stellaevat/ontology-mapping/blob/main/colabs/load_and_extract.ipynb\" target=\"_parent\"><img src=\"https://colab.research.google.com/assets/colab-badge.svg\" alt=\"Open In Colab\"/></a>"
      ]
    },
    {
      "cell_type": "code",
      "execution_count": null,
      "metadata": {
        "id": "g_3vYAktNfuX"
      },
      "outputs": [],
      "source": [
        "!pip install pronto owlready2 \\\n",
        "&& wget -O doid.obo https://gla-my.sharepoint.com/:u:/g/personal/2526934t_student_gla_ac_uk/EfUC_RdrfZdOsOrtmNATjuoBPDaIkSTUMyxJXyO2KKC6yw?download=1 \\\n",
        "&& wget -O ncit.obo https://gla-my.sharepoint.com/:u:/g/personal/2526934t_student_gla_ac_uk/ETmaJIC0fAlItdsp8WQxS_wBzKN_6x08EZrtsOxVnbzvSg?download=1 \\\n",
        "&& wget -O doid.owl https://gla-my.sharepoint.com/:u:/g/personal/2526934t_student_gla_ac_uk/EVjp-NoZlZtDq42LqxZH08ABz2h7IWqdw2gxetzvA-u3hQ?download=1"
      ]
    },
    {
      "cell_type": "code",
      "source": [
        "import pronto\n",
        "import owlready2\n",
        "import numpy as np\n",
        "from tqdm import tqdm\n",
        "from collections import Counter"
      ],
      "metadata": {
        "id": "iF7osbmPQIZJ"
      },
      "execution_count": 2,
      "outputs": []
    },
    {
      "cell_type": "code",
      "source": [
        "ncit = pronto.Ontology(\"ncit.obo\")\n",
        "doid = pronto.Ontology(\"doid.obo\")\n",
        "doid_owl = owlready2.get_ontology(\"doid.owl\").load()"
      ],
      "metadata": {
        "id": "JimB2a7ic-fx"
      },
      "execution_count": 3,
      "outputs": []
    },
    {
      "cell_type": "markdown",
      "source": [
        "# Extract equivalences"
      ],
      "metadata": {
        "id": "m2PuvvobBAlQ"
      }
    },
    {
      "cell_type": "code",
      "source": [
        "# Get Property object with the given name, from the given owlready2 Ontology\n",
        "\n",
        "def get_owl_property(onto, target_prop_name):\n",
        "  all_props = list(onto.properties())\n",
        "  target_prop = None\n",
        "  for prop in all_props:\n",
        "    if prop.python_name == target_prop_name:\n",
        "      target_prop = prop\n",
        "      break\n",
        "  return target_prop\n",
        "\n",
        "print(\"Found: \", get_owl_property(doid_owl, \"hasDbXref\"))"
      ],
      "metadata": {
        "colab": {
          "base_uri": "https://localhost:8080/"
        },
        "id": "U4X1zUbCldXo",
        "outputId": "d8952646-8c3a-486a-8d05-0949ff9854d9"
      },
      "execution_count": 4,
      "outputs": [
        {
          "output_type": "stream",
          "name": "stdout",
          "text": [
            "Found:  oboInOwl.hasDbXref\n"
          ]
        }
      ]
    },
    {
      "cell_type": "code",
      "source": [
        "# Correct the ontology code in the given entity id\n",
        "\n",
        "def correct_code(entity_id, corrections={\"NCI\" : \"NCIT\"}, delimiter=\":\"):\n",
        "  code, num = entity_id.split(delimiter)\n",
        "  if code in corrections:\n",
        "    return corrections[code] + delimiter + num\n",
        "  else:\n",
        "    return entity_id\n",
        "\n",
        "# Get entity equivalences encoded by the given Property name to the given target ontology, in the given owlready2 Ontology\n",
        "\n",
        "def get_owl_entity_equivalences(source_onto, target_onto_code=\"NCI:\", xref_prop_name=\"hasDbXref\"):\n",
        "  all_equivalences = {}\n",
        "  xref_prop = get_owl_property(source_onto, xref_prop_name)\n",
        "\n",
        "  if xref_prop:\n",
        "    for entity in list(source_onto.classes()):\n",
        "      if xref_prop in entity.get_properties(entity):\n",
        "        xrefs = [correct_code(ref) for ref in xref_prop[entity] if target_onto_code in ref]\n",
        "        # Only keep equivalences with single target\n",
        "        if xrefs and len(xrefs) == 1:\n",
        "          all_equivalences[correct_code(entity.id[0])] = xrefs[0]\n",
        "  return all_equivalences"
      ],
      "metadata": {
        "id": "adxRnVI9iVmB"
      },
      "execution_count": 5,
      "outputs": []
    },
    {
      "cell_type": "code",
      "source": [
        "def write_mappings(mappings, filepath):\n",
        "  with open(filepath, \"w\") as f:\n",
        "    for source_id, target_id in mappings.items():\n",
        "      f.write(f\"{source_id},{target_id}\\n\")"
      ],
      "metadata": {
        "id": "Ikinwsx2YVoq"
      },
      "execution_count": 6,
      "outputs": []
    },
    {
      "cell_type": "code",
      "source": [
        "all_equivalences = get_owl_entity_equivalences(doid_owl)\n",
        "# print(\"Equivalences (DOID to NCIT): \", all_equivalences)\n",
        "print(\"Total equivalences: \", len(all_equivalences))"
      ],
      "metadata": {
        "id": "LWCKc_SEnsqY",
        "colab": {
          "base_uri": "https://localhost:8080/"
        },
        "outputId": "3c5abe4b-2afa-42af-d565-a0a756916541"
      },
      "execution_count": 7,
      "outputs": [
        {
          "output_type": "stream",
          "name": "stdout",
          "text": [
            "Total equivalences:  4331\n"
          ]
        }
      ]
    },
    {
      "cell_type": "code",
      "source": [
        "write_mappings(all_equivalences, \"equiv_doid2ncit.csv\")\n",
        "write_mappings({v:k for (k,v) in all_equivalences.items()}, \"equiv_ncit2doid.csv\")"
      ],
      "metadata": {
        "id": "ysakzHF5BDum"
      },
      "execution_count": 8,
      "outputs": []
    },
    {
      "cell_type": "markdown",
      "source": [
        "# Derive subsumptions"
      ],
      "metadata": {
        "id": "C-zxv0gAxmtQ"
      }
    },
    {
      "cell_type": "code",
      "source": [
        "def get_subsumptions_from_equivalences(equivalences, source_onto, target_onto, negative=False, reverse=False):\n",
        "  np.random.seed(3)\n",
        "  source_ids = [term.id for term in source_onto.terms()]\n",
        "  target_ids = [term.id for term in target_onto.terms()]\n",
        "  subsumptions = {}\n",
        "\n",
        "  source_parent_counts = []\n",
        "  target_parent_counts = []\n",
        "\n",
        "  for source_id, target_id in tqdm(equivalences.items()):\n",
        "    if source_id in source_onto.terms():\n",
        "      source_entity = source_onto.get_term(source_id)\n",
        "      source_parents = set(source_entity.superclasses(distance=1, with_self=False))\n",
        "      source_parent_counts.append(len(source_parents))\n",
        "\n",
        "      if target_id in target_onto.terms():\n",
        "        target_entity = target_onto.get_term(target_id)\n",
        "        target_parents = set(target_entity.superclasses(distance=1, with_self=False))\n",
        "        target_parent_counts.append(len(target_parents))\n",
        "\n",
        "        # Only keep mappings with single parents\n",
        "        if target_parents and source_parents and len(target_parents) == 1 and len(source_parents) == 1:\n",
        "\n",
        "          if not negative:\n",
        "            if reverse:\n",
        "              subsumptions[target_id] = source_parents.pop().id\n",
        "            else:\n",
        "              subsumptions[source_id] = target_parents.pop().id\n",
        "\n",
        "          else:\n",
        "            if reverse:\n",
        "              source_parent_id = source_parents.pop().id\n",
        "              neg_sub = source_ids[np.random.randint(0, len(source_ids))]\n",
        "              while neg_sub == source_parent_id:\n",
        "                neg_sub = source_ids[np.random.randint(0, len(source_ids))]\n",
        "              subsumptions[target_id] = neg_sub\n",
        "            else:\n",
        "              target_parent_id = target_parents.pop().id\n",
        "              neg_sub = target_ids[np.random.randint(0, len(target_ids))]\n",
        "              while neg_sub == target_parent_id:\n",
        "                neg_sub = target_ids[np.random.randint(0, len(target_ids))]\n",
        "              subsumptions[source_id] = neg_sub\n",
        "  print()\n",
        "  print(\"Source parent counts: \", Counter(source_parent_counts))\n",
        "  print(\"Target parent counts: \", Counter(target_parent_counts))\n",
        "  return subsumptions"
      ],
      "metadata": {
        "id": "fWX88gEq-WQn"
      },
      "execution_count": 15,
      "outputs": []
    },
    {
      "cell_type": "code",
      "source": [
        "doid_to_ncit_subs = get_subsumptions_from_equivalences(all_equivalences, doid, ncit)\n",
        "# print(\"Subsumption relations (DOID to NCIT): \", doid_to_ncit_subs)\n",
        "print(\"Total subsumptions (DOID to NCIT): \", len(doid_to_ncit_subs))"
      ],
      "metadata": {
        "id": "sylB4TTzsRJq",
        "colab": {
          "base_uri": "https://localhost:8080/"
        },
        "outputId": "493f3283-fc7d-4ae0-e554-1ba3cbdeb61e"
      },
      "execution_count": 10,
      "outputs": [
        {
          "output_type": "stream",
          "name": "stderr",
          "text": [
            "100%|██████████| 4331/4331 [00:00<00:00, 5199.66it/s]"
          ]
        },
        {
          "output_type": "stream",
          "name": "stdout",
          "text": [
            "\n",
            "Source parent counts:  Counter({1: 3242, 2: 983, 3: 81, 0: 10, 4: 10, 5: 2, 6: 2, 7: 1})\n",
            "Target parent counts:  Counter({1: 2209, 2: 1701, 3: 356, 4: 50, 5: 13, 6: 1})\n",
            "Total subsumptions (DOID to NCIT):  1883\n"
          ]
        },
        {
          "output_type": "stream",
          "name": "stderr",
          "text": [
            "\n"
          ]
        }
      ]
    },
    {
      "cell_type": "code",
      "source": [
        "neg_doid_to_ncit_subs = get_subsumptions_from_equivalences(all_equivalences, doid, ncit, negative=True)\n",
        "# print(\"Negative subsumption relations (DOID to NCIT): \", neg_doid_to_ncit_subs)\n",
        "print(\"Total negative subsumptions (DOID to NCIT): \", len(neg_doid_to_ncit_subs))"
      ],
      "metadata": {
        "colab": {
          "base_uri": "https://localhost:8080/"
        },
        "id": "9_5FYPC5HHuX",
        "outputId": "88b7edc6-b020-4193-90c3-a447c8ee5d73"
      },
      "execution_count": 16,
      "outputs": [
        {
          "output_type": "stream",
          "name": "stderr",
          "text": [
            "100%|██████████| 4331/4331 [00:00<00:00, 5732.28it/s]"
          ]
        },
        {
          "output_type": "stream",
          "name": "stdout",
          "text": [
            "\n",
            "Source parent counts:  Counter({1: 3242, 2: 983, 3: 81, 0: 10, 4: 10, 5: 2, 6: 2, 7: 1})\n",
            "Target parent counts:  Counter({1: 2209, 2: 1701, 3: 356, 4: 50, 5: 13, 6: 1})\n",
            "Total negative subsumptions (DOID to NCIT):  1883\n"
          ]
        },
        {
          "output_type": "stream",
          "name": "stderr",
          "text": [
            "\n"
          ]
        }
      ]
    },
    {
      "cell_type": "code",
      "source": [
        "ncit_to_doid_subs = get_subsumptions_from_equivalences(all_equivalences, doid, ncit, reverse=True)\n",
        "# print(\"Subsumption relations (NCIT to DOID): \", ncit_to_doid_subs)\n",
        "print(\"Total subsumptions (NCIT to DOID): \", len(ncit_to_doid_subs))"
      ],
      "metadata": {
        "id": "H3wykwdpww7e",
        "colab": {
          "base_uri": "https://localhost:8080/"
        },
        "outputId": "f5804057-2259-4990-ff2d-6b4c5976a4b9"
      },
      "execution_count": 12,
      "outputs": [
        {
          "output_type": "stream",
          "name": "stderr",
          "text": [
            "100%|██████████| 4331/4331 [00:00<00:00, 9071.40it/s]"
          ]
        },
        {
          "output_type": "stream",
          "name": "stdout",
          "text": [
            "\n",
            "Source parent counts:  Counter({1: 3242, 2: 983, 3: 81, 0: 10, 4: 10, 5: 2, 6: 2, 7: 1})\n",
            "Target parent counts:  Counter({1: 2209, 2: 1701, 3: 356, 4: 50, 5: 13, 6: 1})\n",
            "Total subsumptions (NCIT to DOID):  1873\n"
          ]
        },
        {
          "output_type": "stream",
          "name": "stderr",
          "text": [
            "\n"
          ]
        }
      ]
    },
    {
      "cell_type": "code",
      "source": [
        "neg_ncit_to_doid_subs = get_subsumptions_from_equivalences(all_equivalences, doid, ncit, negative=True, reverse=True)\n",
        "# print(\"Negative subsumption relations (NCIT to DOID): \", neg_ncit_to_doid_subs)\n",
        "print(\"Total negative subsumptions (NCIT to DOID): \", len(neg_ncit_to_doid_subs))"
      ],
      "metadata": {
        "colab": {
          "base_uri": "https://localhost:8080/"
        },
        "id": "mAWvUq16HH4d",
        "outputId": "ba066404-4174-4e36-e95a-b3a123179c4f"
      },
      "execution_count": 17,
      "outputs": [
        {
          "output_type": "stream",
          "name": "stderr",
          "text": [
            "100%|██████████| 4331/4331 [00:00<00:00, 8990.94it/s]"
          ]
        },
        {
          "output_type": "stream",
          "name": "stdout",
          "text": [
            "\n",
            "Source parent counts:  Counter({1: 3242, 2: 983, 3: 81, 0: 10, 4: 10, 5: 2, 6: 2, 7: 1})\n",
            "Target parent counts:  Counter({1: 2209, 2: 1701, 3: 356, 4: 50, 5: 13, 6: 1})\n",
            "Total negative subsumptions (NCIT to DOID):  1873\n"
          ]
        },
        {
          "output_type": "stream",
          "name": "stderr",
          "text": [
            "\n"
          ]
        }
      ]
    },
    {
      "cell_type": "code",
      "source": [
        "write_mappings(doid_to_ncit_subs, \"subs_doid2ncit.csv\")\n",
        "write_mappings(neg_doid_to_ncit_subs, \"neg_subs_doid2ncit.csv\")\n",
        "write_mappings(ncit_to_doid_subs, \"subs_ncit2doid.csv\")\n",
        "write_mappings(neg_ncit_to_doid_subs, \"neg_subs_ncit2doid.csv\")"
      ],
      "metadata": {
        "id": "S172YgAJ-65_"
      },
      "execution_count": 19,
      "outputs": []
    }
  ]
}
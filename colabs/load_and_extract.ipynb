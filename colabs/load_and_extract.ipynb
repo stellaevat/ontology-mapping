{
  "nbformat": 4,
  "nbformat_minor": 0,
  "metadata": {
    "colab": {
      "provenance": [],
      "authorship_tag": "ABX9TyPOmGjRO+org1KjkfBPMPTj",
      "include_colab_link": true
    },
    "kernelspec": {
      "name": "python3",
      "display_name": "Python 3"
    },
    "language_info": {
      "name": "python"
    }
  },
  "cells": [
    {
      "cell_type": "markdown",
      "metadata": {
        "id": "view-in-github",
        "colab_type": "text"
      },
      "source": [
        "<a href=\"https://colab.research.google.com/github/stellaevat/ontology-mapping/blob/main/colabs/load_and_extract.ipynb\" target=\"_parent\"><img src=\"https://colab.research.google.com/assets/colab-badge.svg\" alt=\"Open In Colab\"/></a>"
      ]
    },
    {
      "cell_type": "code",
      "execution_count": null,
      "metadata": {
        "id": "g_3vYAktNfuX"
      },
      "outputs": [],
      "source": [
        "!pip install pronto \\\n",
        "&& wget -O doid.obo https://gla-my.sharepoint.com/:u:/g/personal/2526934t_student_gla_ac_uk/EfUC_RdrfZdOsOrtmNATjuoBPDaIkSTUMyxJXyO2KKC6yw?download=1 \\\n",
        "&& wget -O ncit.obo https://gla-my.sharepoint.com/:u:/g/personal/2526934t_student_gla_ac_uk/ETmaJIC0fAlItdsp8WQxS_wBzKN_6x08EZrtsOxVnbzvSg?download=1"
      ]
    },
    {
      "cell_type": "code",
      "source": [
        "import pronto\n",
        "import editdistance\n",
        "import numpy as np\n",
        "import matplotlib.pyplot as plt\n",
        "from tqdm import tqdm\n",
        "from collections import Counter"
      ],
      "metadata": {
        "id": "iF7osbmPQIZJ"
      },
      "execution_count": 2,
      "outputs": []
    },
    {
      "cell_type": "code",
      "source": [
        "ncit = pronto.Ontology(\"ncit.obo\")\n",
        "doid = pronto.Ontology(\"doid.obo\")"
      ],
      "metadata": {
        "id": "JimB2a7ic-fx"
      },
      "execution_count": 3,
      "outputs": []
    },
    {
      "cell_type": "code",
      "source": [
        "def write_mappings(mappings, filepath):\n",
        "  with open(filepath, \"w\") as f:\n",
        "    for (source_id, target_id) in mappings.items():\n",
        "      if isinstance(target_id, str):\n",
        "        f.write(f\"{source_id},{target_id}\\n\")\n",
        "      else:\n",
        "        for id in target_id:\n",
        "          f.write(f\"{source_id},{id}\\n\")"
      ],
      "metadata": {
        "id": "Ikinwsx2YVoq"
      },
      "execution_count": 263,
      "outputs": []
    },
    {
      "cell_type": "code",
      "source": [
        "def write_biencoder_sentences(sentences, filepath):\n",
        "  source_sentences, target_sentences, labels = sentences\n",
        "  with open(filepath, \"w\") as f:\n",
        "    for (source_sentence, target_sentence, label) in zip(source_sentences, target_sentences, labels):\n",
        "      f.write(f'\"{source_sentence}\",\"{target_sentence}\",\"{label}\"\\n')"
      ],
      "metadata": {
        "id": "7gJu5HHfq5dj"
      },
      "execution_count": 264,
      "outputs": []
    },
    {
      "cell_type": "markdown",
      "source": [
        "# Extract equivalences"
      ],
      "metadata": {
        "id": "m2PuvvobBAlQ"
      }
    },
    {
      "cell_type": "code",
      "source": [
        "def correct_id(id, corrections=[(\"NCI:\", \"NCIT:C\"), (\"NCIT:CC\", \"NCIT:C\")]):\n",
        "  for (before, after) in corrections:\n",
        "    id = id.replace(before, after)\n",
        "  return id\n",
        "\n",
        "def get_entity_equivalences(source_onto, target_onto, target_code=\"NCIT:\"):\n",
        "  all_equivalences = {}\n",
        "\n",
        "  for term in source_onto.terms():\n",
        "    xref_ids = [correct_id(xref.id) for xref in term.xrefs]\n",
        "    xref_ids = [id for id in xref_ids if target_code in id and id in target_onto.terms()]\n",
        "    if len(xref_ids) == 1:\n",
        "      all_equivalences[correct_id(term.id)] = correct_id(xref_ids[0])\n",
        "\n",
        "  return all_equivalences"
      ],
      "metadata": {
        "id": "adxRnVI9iVmB"
      },
      "execution_count": 265,
      "outputs": []
    },
    {
      "cell_type": "code",
      "source": [
        "equiv_doid2ncit = get_entity_equivalences(doid, ncit)\n",
        "equiv_ncit2doid = {v:k for (k,v) in equiv_doid2ncit.items()}\n",
        "print(\"Total equivalences: \", len(equiv_doid2ncit))"
      ],
      "metadata": {
        "id": "LWCKc_SEnsqY",
        "colab": {
          "base_uri": "https://localhost:8080/"
        },
        "outputId": "57f03f7a-fa48-45a4-f3fb-a060a52e967a"
      },
      "execution_count": 266,
      "outputs": [
        {
          "output_type": "stream",
          "name": "stdout",
          "text": [
            "Total equivalences:  4331\n"
          ]
        }
      ]
    },
    {
      "cell_type": "code",
      "source": [
        "write_mappings(equiv_ncit2doid, \"equiv_ncit2doid.csv\")"
      ],
      "metadata": {
        "id": "ysakzHF5BDum"
      },
      "execution_count": 267,
      "outputs": []
    },
    {
      "cell_type": "markdown",
      "source": [
        "# Derive subsumptions"
      ],
      "metadata": {
        "id": "C-zxv0gAxmtQ"
      }
    },
    {
      "cell_type": "code",
      "source": [
        "def get_one_hop_neighbours(term, max_neighbours):\n",
        "  parents = list(term.superclasses(distance=1, with_self=False))\n",
        "  children = list(term.subclasses(distance=1, with_self=False))\n",
        "  neighbours = parents + children\n",
        "\n",
        "  total_neighbours = len(neighbours)\n",
        "  if total_neighbours > max_neighbours:\n",
        "    neighbours = np.random.choice(\n",
        "        neighbours,\n",
        "        size=max_neighbours,\n",
        "        replace=False\n",
        "    )\n",
        "  return neighbours, total_neighbours\n",
        "\n",
        "\n",
        "def get_random_targets(subsumptions, max_targets):\n",
        "  target_ids = set(subsumptions.values())\n",
        "  target_counts = {}\n",
        "  total_count = 0\n",
        "  for target_id in subsumptions.values():\n",
        "    target_counts[target_id] = target_counts.get(target_id, 0) + max_targets\n",
        "    total_count += max_targets\n",
        "\n",
        "  neg_subsumptions = {}\n",
        "  for (source_id, target_id) in tqdm(subsumptions.items()):\n",
        "    choice = list(target_ids - {target_id})\n",
        "    # Probability of choosing target proportional to how many times it can be used\n",
        "    probabilities = [target_counts[id] / (total_count - target_counts[target_id]) for id in choice]\n",
        "\n",
        "    neg_target_ids = choice if len(choice) <= max_targets else np.random.choice(choice, size=max_targets, replace=False, p=probabilities)\n",
        "    neg_subsumptions[source_id] = neg_target_ids\n",
        "\n",
        "    for id in neg_target_ids:\n",
        "      target_counts[id] -= 1\n",
        "      if target_counts[id] <= 0:\n",
        "        target_ids.remove(id)\n",
        "\n",
        "    total_count -= max_targets\n",
        "  return neg_subsumptions\n",
        "\n",
        "\n",
        "def get_subsumptions_from_equivalences(equivalences, target_onto, negative=False):\n",
        "  assert negative in [False, 'random', 'multi', 'neighbours'], \"Negative sampling method must be 'random', 'multi' or 'neighbours'.\"\n",
        "\n",
        "  np.random.seed(3)\n",
        "  subsumptions = {}\n",
        "  target_parent_counts = []\n",
        "  target_parent_neighbour_counts = []\n",
        "  target_ids = list(equivalences.values())\n",
        "\n",
        "  for (source_id, target_id) in tqdm(equivalences.items()):\n",
        "    if target_id in target_onto.terms():\n",
        "      target_entity = target_onto.get_term(target_id)\n",
        "      target_parents = set(target_entity.superclasses(distance=1, with_self=False))\n",
        "      target_parent_counts.append(len(target_parents))\n",
        "\n",
        "      # Only keep targets with single parents\n",
        "      if len(target_parents) == 1:\n",
        "        target_parent = target_parents.pop()\n",
        "        if negative == 'neighbours':\n",
        "          target_parent_neighbours, total_neighbours = get_one_hop_neighbours(target_parent, max_neighbours=10)\n",
        "          target_parent_neighbour_counts.append(total_neighbours)\n",
        "          subsumptions[source_id] = [target.id for target in target_parent_neighbours]\n",
        "        else:\n",
        "          subsumptions[source_id] = target_parent.id\n",
        "\n",
        "  if negative == 'random':\n",
        "    subsumptions = get_random_targets(subsumptions, max_targets=1)\n",
        "  elif negative == 'multi':\n",
        "    subsumptions = get_random_targets(subsumptions, max_targets=7)\n",
        "\n",
        "  print()\n",
        "  print(\"Target parent counts: \", Counter(target_parent_counts))\n",
        "  if negative == 'neighbours':\n",
        "    print(\"Target parent neighbour counts: \", Counter(target_parent_neighbour_counts))\n",
        "  return subsumptions"
      ],
      "metadata": {
        "id": "fWX88gEq-WQn"
      },
      "execution_count": 268,
      "outputs": []
    },
    {
      "cell_type": "code",
      "source": [
        "subs_doid2ncit = get_subsumptions_from_equivalences(equiv_doid2ncit, ncit)\n",
        "print(\"Total subsumptions (DOID to NCIT): \", len(subs_doid2ncit))"
      ],
      "metadata": {
        "id": "sylB4TTzsRJq",
        "colab": {
          "base_uri": "https://localhost:8080/"
        },
        "outputId": "989c1bdb-afc8-415e-d78d-0412aa1fef36"
      },
      "execution_count": 269,
      "outputs": [
        {
          "output_type": "stream",
          "name": "stderr",
          "text": [
            "100%|██████████| 4331/4331 [00:00<00:00, 16090.30it/s]"
          ]
        },
        {
          "output_type": "stream",
          "name": "stdout",
          "text": [
            "\n",
            "Target parent counts:  Counter({1: 2210, 2: 1701, 3: 356, 4: 50, 5: 13, 6: 1})\n",
            "Total subsumptions (DOID to NCIT):  2210\n"
          ]
        },
        {
          "output_type": "stream",
          "name": "stderr",
          "text": [
            "\n"
          ]
        }
      ]
    },
    {
      "cell_type": "code",
      "source": [
        "subs_ncit2doid = get_subsumptions_from_equivalences(equiv_ncit2doid, doid)\n",
        "print(\"Total subsumptions (NCIT to DOID): \", len(subs_ncit2doid))"
      ],
      "metadata": {
        "id": "H3wykwdpww7e",
        "colab": {
          "base_uri": "https://localhost:8080/"
        },
        "outputId": "d41d6351-8ca2-44e8-ebf7-d4a8798f817e"
      },
      "execution_count": 270,
      "outputs": [
        {
          "output_type": "stream",
          "name": "stderr",
          "text": [
            "100%|██████████| 4297/4297 [00:00<00:00, 17550.81it/s]"
          ]
        },
        {
          "output_type": "stream",
          "name": "stdout",
          "text": [
            "\n",
            "Target parent counts:  Counter({1: 3217, 2: 974, 3: 81, 4: 10, 0: 10, 5: 2, 6: 2, 7: 1})\n",
            "Total subsumptions (NCIT to DOID):  3217\n"
          ]
        },
        {
          "output_type": "stream",
          "name": "stderr",
          "text": [
            "\n"
          ]
        }
      ]
    },
    {
      "cell_type": "code",
      "source": [
        "neg_random_doid2ncit = get_subsumptions_from_equivalences(equiv_doid2ncit, ncit, negative='random')\n",
        "print(\"Total (random) negative subsumptions (DOID to NCIT): \", len(neg_random_doid2ncit))"
      ],
      "metadata": {
        "colab": {
          "base_uri": "https://localhost:8080/"
        },
        "id": "9_5FYPC5HHuX",
        "outputId": "a2da10b2-621e-473f-f605-573c2b62f6af"
      },
      "execution_count": 273,
      "outputs": [
        {
          "output_type": "stream",
          "name": "stderr",
          "text": [
            "100%|██████████| 4331/4331 [00:00<00:00, 10215.72it/s]\n",
            "100%|██████████| 2210/2210 [00:01<00:00, 1270.59it/s]"
          ]
        },
        {
          "output_type": "stream",
          "name": "stdout",
          "text": [
            "\n",
            "Target parent counts:  Counter({1: 2210, 2: 1701, 3: 356, 4: 50, 5: 13, 6: 1})\n",
            "Total (random) negative subsumptions (DOID to NCIT):  2210\n"
          ]
        },
        {
          "output_type": "stream",
          "name": "stderr",
          "text": [
            "\n"
          ]
        }
      ]
    },
    {
      "cell_type": "code",
      "source": [
        "neg_random_ncit2doid = get_subsumptions_from_equivalences(equiv_ncit2doid, doid, negative='random')\n",
        "print(\"Total (random) negative subsumptions (NCIT to DOID): \", len(neg_random_ncit2doid))"
      ],
      "metadata": {
        "colab": {
          "base_uri": "https://localhost:8080/"
        },
        "id": "mAWvUq16HH4d",
        "outputId": "63af5417-59e4-49f6-cef8-9039def7d933"
      },
      "execution_count": 274,
      "outputs": [
        {
          "output_type": "stream",
          "name": "stderr",
          "text": [
            "100%|██████████| 4297/4297 [00:00<00:00, 11166.03it/s]\n",
            "100%|██████████| 3217/3217 [00:02<00:00, 1092.81it/s]"
          ]
        },
        {
          "output_type": "stream",
          "name": "stdout",
          "text": [
            "\n",
            "Target parent counts:  Counter({1: 3217, 2: 974, 3: 81, 4: 10, 0: 10, 5: 2, 6: 2, 7: 1})\n",
            "Total (random) negative subsumptions (NCIT to DOID):  3217\n"
          ]
        },
        {
          "output_type": "stream",
          "name": "stderr",
          "text": [
            "\n"
          ]
        }
      ]
    },
    {
      "cell_type": "code",
      "source": [
        "neg_multi_doid2ncit = get_subsumptions_from_equivalences(equiv_doid2ncit, ncit, negative='multi')\n",
        "print(\"Total (multiple random) negative subsumptions (DOID to NCIT): \", sum(map(len, neg_multi_doid2ncit.values())))"
      ],
      "metadata": {
        "colab": {
          "base_uri": "https://localhost:8080/"
        },
        "id": "WtdrPA93jneG",
        "outputId": "49d6beb8-25d7-493b-a525-4c5cbc8d8b93"
      },
      "execution_count": 275,
      "outputs": [
        {
          "output_type": "stream",
          "name": "stderr",
          "text": [
            "100%|██████████| 4331/4331 [00:00<00:00, 17147.82it/s]\n",
            "100%|██████████| 2210/2210 [00:01<00:00, 1514.25it/s]"
          ]
        },
        {
          "output_type": "stream",
          "name": "stdout",
          "text": [
            "\n",
            "Target parent counts:  Counter({1: 2210, 2: 1701, 3: 356, 4: 50, 5: 13, 6: 1})\n",
            "Total (multiple random) negative subsumptions (DOID to NCIT):  15468\n"
          ]
        },
        {
          "output_type": "stream",
          "name": "stderr",
          "text": [
            "\n"
          ]
        }
      ]
    },
    {
      "cell_type": "code",
      "source": [
        "neg_multi_ncit2doid = get_subsumptions_from_equivalences(equiv_ncit2doid, doid, negative='multi')\n",
        "print(\"Total (multiple random) negative subsumptions (DOID to NCIT): \", sum(map(len, neg_multi_ncit2doid.values())))"
      ],
      "metadata": {
        "colab": {
          "base_uri": "https://localhost:8080/"
        },
        "id": "rEp_v7aZuUMY",
        "outputId": "e8231182-6186-47d5-f1b0-63a31f91d6ed"
      },
      "execution_count": 276,
      "outputs": [
        {
          "output_type": "stream",
          "name": "stderr",
          "text": [
            "100%|██████████| 4297/4297 [00:00<00:00, 18535.10it/s]\n",
            "100%|██████████| 3217/3217 [00:02<00:00, 1156.97it/s]"
          ]
        },
        {
          "output_type": "stream",
          "name": "stdout",
          "text": [
            "\n",
            "Target parent counts:  Counter({1: 3217, 2: 974, 3: 81, 4: 10, 0: 10, 5: 2, 6: 2, 7: 1})\n",
            "Total (multiple random) negative subsumptions (DOID to NCIT):  22519\n"
          ]
        },
        {
          "output_type": "stream",
          "name": "stderr",
          "text": [
            "\n"
          ]
        }
      ]
    },
    {
      "cell_type": "code",
      "source": [
        "neg_neighbour_doid2ncit = get_subsumptions_from_equivalences(equiv_doid2ncit, ncit, negative='neighbours')\n",
        "print(\"Total (neighbouring) negative subsumptions (DOID to NCIT): \", sum(map(len, neg_neighbour_doid2ncit.values())))"
      ],
      "metadata": {
        "colab": {
          "base_uri": "https://localhost:8080/"
        },
        "id": "jBm0nWzVJD0H",
        "outputId": "38d68ae0-7496-4d0b-c487-f21dd0a37db6"
      },
      "execution_count": 271,
      "outputs": [
        {
          "output_type": "stream",
          "name": "stderr",
          "text": [
            "100%|██████████| 4331/4331 [00:02<00:00, 1641.08it/s]"
          ]
        },
        {
          "output_type": "stream",
          "name": "stdout",
          "text": [
            "\n",
            "Target parent counts:  Counter({1: 2210, 2: 1701, 3: 356, 4: 50, 5: 13, 6: 1})\n",
            "Target parent neighbour counts:  Counter({4: 163, 5: 162, 6: 158, 3: 140, 7: 119, 8: 109, 12: 85, 11: 83, 9: 80, 608: 79, 2: 75, 17: 72, 10: 68, 550: 65, 18: 58, 13: 55, 14: 48, 16: 45, 20: 40, 15: 38, 19: 32, 36: 31, 24: 27, 30: 21, 21: 20, 23: 19, 39: 19, 28: 19, 84: 19, 33: 18, 41: 18, 59: 17, 32: 17, 43: 16, 25: 15, 34: 12, 89: 11, 31: 11, 38: 11, 52: 8, 45: 8, 64: 7, 53: 7, 56: 6, 65: 6, 95: 5, 26: 5, 27: 5, 76: 5, 48: 5, 241: 4, 29: 4, 68: 4, 35: 4, 63: 3, 22: 3, 40: 3, 75: 3, 54: 2, 44: 2, 86: 2, 57: 2, 70: 2, 321: 2, 130: 2, 2455: 1, 710: 1, 310: 1, 51: 1, 281: 1, 60: 1})\n",
            "Total (neighbouring) negative subsumptions (DOID to NCIT):  17445\n"
          ]
        },
        {
          "output_type": "stream",
          "name": "stderr",
          "text": [
            "\n"
          ]
        }
      ]
    },
    {
      "cell_type": "code",
      "source": [
        "neg_neighbour_ncit2doid = get_subsumptions_from_equivalences(equiv_ncit2doid, doid, negative='neighbours')\n",
        "print(\"Total (neighbouring) negative subsumptions (NCIT to DOID): \", sum(map(len, neg_neighbour_ncit2doid.values())))"
      ],
      "metadata": {
        "colab": {
          "base_uri": "https://localhost:8080/"
        },
        "id": "MwMfPPZ1KM3_",
        "outputId": "40a3bc87-e3c4-43dd-de30-62bcd7515939"
      },
      "execution_count": 272,
      "outputs": [
        {
          "output_type": "stream",
          "name": "stderr",
          "text": [
            "100%|██████████| 4297/4297 [00:01<00:00, 3272.44it/s]"
          ]
        },
        {
          "output_type": "stream",
          "name": "stdout",
          "text": [
            "\n",
            "Target parent counts:  Counter({1: 3217, 2: 974, 3: 81, 4: 10, 0: 10, 5: 2, 6: 2, 7: 1})\n",
            "Target parent neighbour counts:  Counter({3: 362, 4: 351, 5: 253, 6: 231, 7: 224, 2: 200, 8: 191, 10: 168, 13: 130, 9: 120, 11: 109, 12: 96, 17: 69, 14: 65, 18: 51, 22: 44, 20: 39, 44: 33, 432: 33, 40: 33, 15: 31, 93: 28, 57: 26, 16: 25, 48: 24, 21: 24, 98: 22, 24: 21, 26: 19, 25: 16, 19: 15, 59: 14, 89: 13, 23: 13, 28: 12, 33: 12, 29: 11, 45: 11, 43: 11, 41: 10, 34: 10, 27: 9, 49: 8, 100: 8, 52: 7, 67: 5, 73: 4, 55: 3, 61: 1, 47: 1, 39: 1})\n",
            "Total (neighbouring) negative subsumptions (NCIT to DOID):  22567\n"
          ]
        },
        {
          "output_type": "stream",
          "name": "stderr",
          "text": [
            "\n"
          ]
        }
      ]
    },
    {
      "cell_type": "code",
      "source": [
        "write_mappings(subs_ncit2doid, \"subs_ncit2doid.csv\")\n",
        "write_mappings(neg_random_ncit2doid, \"neg_random_ncit2doid.csv\")\n",
        "write_mappings(neg_multi_ncit2doid, \"neg_multi_ncit2doid.csv\")\n",
        "write_mappings(neg_neighbour_ncit2doid, \"neg_neighbour_ncit2doid.csv\")"
      ],
      "metadata": {
        "id": "S172YgAJ-65_"
      },
      "execution_count": 277,
      "outputs": []
    },
    {
      "cell_type": "markdown",
      "source": [
        "# Generate sentences"
      ],
      "metadata": {
        "id": "1te96nrJMBzw"
      }
    },
    {
      "cell_type": "code",
      "source": [
        "def get_sentence(term_id, term_onto, features=None):\n",
        "  sep = '[SEP]'\n",
        "  term = term_onto.get_term(term_id)\n",
        "  sentence = [term.name]\n",
        "\n",
        "  if features == 'properties':\n",
        "    definition = [term.definition] if term.definition else []\n",
        "    synonyms = [synonym.description for synonym in term.synonyms]\n",
        "    sentence += definition + synonyms\n",
        "  elif features == 'parents':\n",
        "    parents = term.superclasses(distance=1, with_self=False)\n",
        "    sentence += [parent.name for parent in parents]\n",
        "  elif features == 'children':\n",
        "    children = term.subclasses(distance=1, with_self=False)\n",
        "    sentence += [child.name for child in children]\n",
        "\n",
        "  sentence = sep.join(sentence)\n",
        "  return sentence\n",
        "\n",
        "\n",
        "def get_labelled_biencoder_sentences(subs, neg_subs, source_onto, target_onto, features=None):\n",
        "  assert features in [None, 'internal', 'external'], \"Features included must be 'internal', 'external' or None for just the term itself.\"\n",
        "  source_features, target_features = ('parents', 'children') if features == 'external' else (features, features)\n",
        "\n",
        "  np.random.seed(3)\n",
        "  source_sentences = []\n",
        "  target_sentences = []\n",
        "  labels = []\n",
        "\n",
        "  pairs = list(subs.items())\n",
        "  if isinstance(list(neg_subs.values())[0], str):\n",
        "    neg_pairs = list(neg_subs.items())\n",
        "  else:\n",
        "    neg_pairs = [(source_id, target_id) for (source_id, target_ids) in neg_subs.items() for target_id in target_ids]\n",
        "\n",
        "  ones_and_zeros = [1] * len(pairs) + [0] * len(neg_pairs)\n",
        "  labelled_pairs = list(zip(ones_and_zeros, pairs + neg_pairs))\n",
        "  np.random.shuffle(labelled_pairs)\n",
        "\n",
        "  for label, (source_id, target_id) in tqdm(labelled_pairs):\n",
        "    if source_id not in source_onto.terms() or target_id not in target_onto.terms():\n",
        "      continue\n",
        "\n",
        "    source_sentence = get_sentence(source_id, source_onto, features=source_features)\n",
        "    target_sentence = get_sentence(target_id, target_onto, features=target_features)\n",
        "    if source_sentence and target_sentence:\n",
        "      source_sentences.append(source_sentence)\n",
        "      target_sentences.append(target_sentence)\n",
        "      labels.append(label)\n",
        "\n",
        "  print()\n",
        "  return source_sentences, target_sentences, labels"
      ],
      "metadata": {
        "id": "zvJDQXjbMIY3"
      },
      "execution_count": 278,
      "outputs": []
    },
    {
      "cell_type": "code",
      "source": [
        "sentences_term_random_ncit2doid = get_labelled_biencoder_sentences(subs_ncit2doid, neg_random_ncit2doid, ncit, doid, features=None)\n",
        "print(\"Total (term) sentences (NCIT to DOID, random neg. sampling): \", len(sentences_term_random_ncit2doid[0]))"
      ],
      "metadata": {
        "colab": {
          "base_uri": "https://localhost:8080/"
        },
        "id": "boApbNtVcuJw",
        "outputId": "46c9f54a-fc88-4af7-d8e4-41a87d9729e0"
      },
      "execution_count": 279,
      "outputs": [
        {
          "output_type": "stream",
          "name": "stderr",
          "text": [
            "100%|██████████| 6434/6434 [00:00<00:00, 41844.12it/s]"
          ]
        },
        {
          "output_type": "stream",
          "name": "stdout",
          "text": [
            "\n",
            "Total (term) sentences (NCIT to DOID, random neg. sampling):  6434\n"
          ]
        },
        {
          "output_type": "stream",
          "name": "stderr",
          "text": [
            "\n"
          ]
        }
      ]
    },
    {
      "cell_type": "code",
      "source": [
        "sentences_int_random_ncit2doid = get_labelled_biencoder_sentences(subs_ncit2doid, neg_random_ncit2doid, ncit, doid, features='internal')\n",
        "print(\"Total (internal) sentences (NCIT to DOID, random neg. sampling): \", len(sentences_int_random_ncit2doid[0]))"
      ],
      "metadata": {
        "colab": {
          "base_uri": "https://localhost:8080/"
        },
        "id": "6Jc6SDUTgswS",
        "outputId": "2c7bcd73-4ca0-4534-ba41-8f5ea0c59974"
      },
      "execution_count": 280,
      "outputs": [
        {
          "output_type": "stream",
          "name": "stderr",
          "text": [
            "100%|██████████| 6434/6434 [00:00<00:00, 41518.18it/s]"
          ]
        },
        {
          "output_type": "stream",
          "name": "stdout",
          "text": [
            "\n",
            "Total (internal) sentences (NCIT to DOID, random neg. sampling):  6434\n"
          ]
        },
        {
          "output_type": "stream",
          "name": "stderr",
          "text": [
            "\n"
          ]
        }
      ]
    },
    {
      "cell_type": "code",
      "source": [
        "sentences_ext_random_ncit2doid = get_labelled_biencoder_sentences(subs_ncit2doid, neg_random_ncit2doid, ncit, doid, features='external')\n",
        "print(\"Total (external) sentences (NCIT to DOID, random neg. sampling): \", len(sentences_ext_random_ncit2doid[0]))"
      ],
      "metadata": {
        "colab": {
          "base_uri": "https://localhost:8080/"
        },
        "id": "jOSGCWq0g2LX",
        "outputId": "5cf79af8-3260-4e0a-a99c-55ef14799466"
      },
      "execution_count": 281,
      "outputs": [
        {
          "output_type": "stream",
          "name": "stderr",
          "text": [
            "100%|██████████| 6434/6434 [00:02<00:00, 3157.00it/s]"
          ]
        },
        {
          "output_type": "stream",
          "name": "stdout",
          "text": [
            "\n",
            "Total (external) sentences (NCIT to DOID, random neg. sampling):  6434\n"
          ]
        },
        {
          "output_type": "stream",
          "name": "stderr",
          "text": [
            "\n"
          ]
        }
      ]
    },
    {
      "cell_type": "code",
      "source": [
        "sentences_term_multi_ncit2doid = get_labelled_biencoder_sentences(subs_ncit2doid, neg_multi_ncit2doid, ncit, doid, features=None)\n",
        "print(\"Total (term) sentences (NCIT to DOID, multi neg. sampling): \", len(sentences_term_multi_ncit2doid[0]))"
      ],
      "metadata": {
        "colab": {
          "base_uri": "https://localhost:8080/"
        },
        "id": "CcurS80thYKI",
        "outputId": "9d61ed90-b65a-41fe-e05d-977331b9cf07"
      },
      "execution_count": 282,
      "outputs": [
        {
          "output_type": "stream",
          "name": "stderr",
          "text": [
            "100%|██████████| 25736/25736 [00:00<00:00, 37619.92it/s]"
          ]
        },
        {
          "output_type": "stream",
          "name": "stdout",
          "text": [
            "\n",
            "Total (term) sentences (NCIT to DOID, multi neg. sampling):  25736\n"
          ]
        },
        {
          "output_type": "stream",
          "name": "stderr",
          "text": [
            "\n"
          ]
        }
      ]
    },
    {
      "cell_type": "code",
      "source": [
        "sentences_int_multi_ncit2doid = get_labelled_biencoder_sentences(subs_ncit2doid, neg_multi_ncit2doid, ncit, doid, features='internal')\n",
        "print(\"Total (internal) sentences (NCIT to DOID, multi neg. sampling): \", len(sentences_int_multi_ncit2doid[0]))"
      ],
      "metadata": {
        "colab": {
          "base_uri": "https://localhost:8080/"
        },
        "id": "RzdvAch9oqLf",
        "outputId": "6fe454d3-e1ca-4fff-cb56-16a2b9253b0a"
      },
      "execution_count": 283,
      "outputs": [
        {
          "output_type": "stream",
          "name": "stderr",
          "text": [
            "100%|██████████| 25736/25736 [00:00<00:00, 40390.24it/s]"
          ]
        },
        {
          "output_type": "stream",
          "name": "stdout",
          "text": [
            "\n",
            "Total (internal) sentences (NCIT to DOID, multi neg. sampling):  25736\n"
          ]
        },
        {
          "output_type": "stream",
          "name": "stderr",
          "text": [
            "\n"
          ]
        }
      ]
    },
    {
      "cell_type": "code",
      "source": [
        "sentences_ext_multi_ncit2doid = get_labelled_biencoder_sentences(subs_ncit2doid, neg_multi_ncit2doid, ncit, doid, features='external')\n",
        "print(\"Total (external) sentences (NCIT to DOID, multi neg. sampling): \", len(sentences_ext_multi_ncit2doid[0]))"
      ],
      "metadata": {
        "colab": {
          "base_uri": "https://localhost:8080/"
        },
        "id": "sXhgC_4hoxyA",
        "outputId": "c1a7c393-9f31-4572-a192-e6f15228bcfb"
      },
      "execution_count": 284,
      "outputs": [
        {
          "output_type": "stream",
          "name": "stderr",
          "text": [
            "100%|██████████| 25736/25736 [00:10<00:00, 2529.85it/s]"
          ]
        },
        {
          "output_type": "stream",
          "name": "stdout",
          "text": [
            "\n",
            "Total (external) sentences (NCIT to DOID, multi neg. sampling):  25736\n"
          ]
        },
        {
          "output_type": "stream",
          "name": "stderr",
          "text": [
            "\n"
          ]
        }
      ]
    },
    {
      "cell_type": "code",
      "source": [
        "sentences_term_neighbour_ncit2doid = get_labelled_biencoder_sentences(subs_ncit2doid, neg_neighbour_ncit2doid, ncit, doid, features=None)\n",
        "print(\"Total (term) sentences (NCIT to DOID, neighbour neg. sampling): \", len(sentences_term_neighbour_ncit2doid[0]))"
      ],
      "metadata": {
        "colab": {
          "base_uri": "https://localhost:8080/"
        },
        "id": "dYN0VHEnppWR",
        "outputId": "e2575a70-357a-42b9-961b-c94760ffd01d"
      },
      "execution_count": 285,
      "outputs": [
        {
          "output_type": "stream",
          "name": "stderr",
          "text": [
            "100%|██████████| 25784/25784 [00:00<00:00, 39058.13it/s]"
          ]
        },
        {
          "output_type": "stream",
          "name": "stdout",
          "text": [
            "\n",
            "Total (term) sentences (NCIT to DOID, neighbour neg. sampling):  25784\n"
          ]
        },
        {
          "output_type": "stream",
          "name": "stderr",
          "text": [
            "\n"
          ]
        }
      ]
    },
    {
      "cell_type": "code",
      "source": [
        "sentences_int_neighbour_ncit2doid = get_labelled_biencoder_sentences(subs_ncit2doid, neg_neighbour_ncit2doid, ncit, doid, features='internal')\n",
        "print(\"Total (internal) sentences (NCIT to DOID, neighbour neg. sampling): \", len(sentences_int_neighbour_ncit2doid[0]))"
      ],
      "metadata": {
        "colab": {
          "base_uri": "https://localhost:8080/"
        },
        "id": "j7PJ5Hn7qPgw",
        "outputId": "cca1f522-62ca-4388-b093-9edaaa89b1ab"
      },
      "execution_count": 286,
      "outputs": [
        {
          "output_type": "stream",
          "name": "stderr",
          "text": [
            "100%|██████████| 25784/25784 [00:00<00:00, 36309.16it/s]"
          ]
        },
        {
          "output_type": "stream",
          "name": "stdout",
          "text": [
            "\n",
            "Total (internal) sentences (NCIT to DOID, neighbour neg. sampling):  25784\n"
          ]
        },
        {
          "output_type": "stream",
          "name": "stderr",
          "text": [
            "\n"
          ]
        }
      ]
    },
    {
      "cell_type": "code",
      "source": [
        "sentences_ext_neighbour_ncit2doid = get_labelled_biencoder_sentences(subs_ncit2doid, neg_neighbour_ncit2doid, ncit, doid, features='external')\n",
        "print(\"Total (external) sentences (NCIT to DOID, neighbour neg. sampling): \", len(sentences_ext_neighbour_ncit2doid[0]))"
      ],
      "metadata": {
        "colab": {
          "base_uri": "https://localhost:8080/"
        },
        "id": "kbyuff2QqYXC",
        "outputId": "4b1f061f-d62f-4bfa-f5ac-aed403ebbcdb"
      },
      "execution_count": 287,
      "outputs": [
        {
          "output_type": "stream",
          "name": "stderr",
          "text": [
            "100%|██████████| 25784/25784 [00:06<00:00, 4274.97it/s]"
          ]
        },
        {
          "output_type": "stream",
          "name": "stdout",
          "text": [
            "\n",
            "Total (external) sentences (NCIT to DOID, neighbour neg. sampling):  25784\n"
          ]
        },
        {
          "output_type": "stream",
          "name": "stderr",
          "text": [
            "\n"
          ]
        }
      ]
    },
    {
      "cell_type": "code",
      "source": [
        "write_biencoder_sentences(sentences_term_random_ncit2doid, \"sentences_term_random_ncit2doid.csv\")\n",
        "write_biencoder_sentences(sentences_int_random_ncit2doid, \"sentences_int_random_ncit2doid.csv\")\n",
        "write_biencoder_sentences(sentences_ext_random_ncit2doid, \"sentences_ext_random_ncit2doid.csv\")\n",
        "write_biencoder_sentences(sentences_term_multi_ncit2doid, \"sentences_term_multi_ncit2doid.csv\")\n",
        "write_biencoder_sentences(sentences_int_multi_ncit2doid, \"sentences_int_multi_ncit2doid.csv\")\n",
        "write_biencoder_sentences(sentences_ext_multi_ncit2doid, \"sentences_ext_multi_ncit2doid.csv\")\n",
        "write_biencoder_sentences(sentences_term_neighbour_ncit2doid, \"sentences_term_neighbour_ncit2doid.csv\")\n",
        "write_biencoder_sentences(sentences_int_neighbour_ncit2doid, \"sentences_int_neighbour_ncit2doid.csv\")\n",
        "write_biencoder_sentences(sentences_ext_neighbour_ncit2doid, \"sentences_ext_neighbour_ncit2doid.csv\")"
      ],
      "metadata": {
        "id": "BPL2eRH-renn"
      },
      "execution_count": 288,
      "outputs": []
    },
    {
      "cell_type": "code",
      "source": [
        "# from transformers import AutoTokenizer\n",
        "# term_id = \"DOID:0014667\"\n",
        "# tokenizer = AutoTokenizer.from_pretrained(\"microsoft/BiomedNLP-PubMedBERT-base-uncased-abstract\")\n",
        "\n",
        "# sentence = get_sentence(term_id, doid, features='children')\n",
        "# tokenized = tokenizer(sentence)\n",
        "\n",
        "# print(sentence)\n",
        "# tokenizer.convert_ids_to_tokens(tokenized['input_ids'])"
      ],
      "metadata": {
        "id": "aH60V1-tS29B"
      },
      "execution_count": 289,
      "outputs": []
    },
    {
      "cell_type": "markdown",
      "source": [
        "# String difference"
      ],
      "metadata": {
        "id": "jzzE4y2L20D0"
      }
    },
    {
      "cell_type": "markdown",
      "source": [
        "## Equivalences"
      ],
      "metadata": {
        "id": "k4Wx1cJ-CnTd"
      }
    },
    {
      "cell_type": "code",
      "source": [
        "str_equivalences = {doid.get_term(source).name.lower() : ncit.get_term(target).name.lower() for (source, target) in all_equivalences.items() if source in doid.terms() and target in ncit.terms()}\n",
        "\n",
        "distances = np.array([editdistance.eval(source, target) for (source, target) in str_equivalences.items()])\n",
        "lengths = np.array([max(len(source), len(target)) for (source, target) in str_equivalences.items()])\n",
        "normalised = np.round(distances / lengths, decimals=2)\n",
        "\n",
        "dist_distribution = Counter(distances)\n",
        "norm_distribution = Counter(normalised)"
      ],
      "metadata": {
        "id": "3rSI7W5S3Abk"
      },
      "execution_count": 290,
      "outputs": []
    },
    {
      "cell_type": "code",
      "source": [
        "plt.hist(distances, bins=len(dist_distribution))\n",
        "plt.xlabel(\"Edit distance\")\n",
        "plt.ylabel(\"No. of equivalences\")\n",
        "plt.title(\"Edit distance across equivalences\")\n",
        "print(\"Distances:\", sorted(dist_distribution.items(), key=lambda x:x[0]))\n",
        "print(f\"Median: {np.median(distances)}, Mean: {np.mean(distances):.2f}, STD: {np.std(distances):.2f}\")"
      ],
      "metadata": {
        "colab": {
          "base_uri": "https://localhost:8080/",
          "height": 527
        },
        "id": "JuKJbZnH-Yt6",
        "outputId": "09baf9cc-2386-4752-c459-29092580d148"
      },
      "execution_count": 291,
      "outputs": [
        {
          "output_type": "stream",
          "name": "stdout",
          "text": [
            "Distances: [(0, 2384), (1, 95), (2, 126), (3, 50), (4, 114), (5, 84), (6, 66), (7, 93), (8, 139), (9, 72), (10, 77), (11, 70), (12, 43), (13, 59), (14, 64), (15, 70), (16, 75), (17, 52), (18, 82), (19, 40), (20, 51), (21, 37), (22, 33), (23, 42), (24, 31), (25, 34), (26, 28), (27, 20), (28, 11), (29, 22), (30, 7), (31, 12), (32, 10), (33, 19), (34, 19), (35, 14), (36, 7), (37, 9), (38, 4), (39, 5), (40, 9), (41, 2), (42, 7), (43, 3), (44, 5), (45, 4), (46, 5), (47, 3), (48, 2), (49, 1), (50, 6), (51, 1), (52, 1), (53, 2), (54, 1), (55, 4), (58, 2), (59, 1), (82, 1), (95, 1)]\n",
            "Median: 0.0, Mean: 6.25, STD: 10.02\n"
          ]
        },
        {
          "output_type": "display_data",
          "data": {
            "text/plain": [
              "<Figure size 640x480 with 1 Axes>"
            ],
            "image/png": "[encoded data removed]"
          },
          "metadata": {}
        }
      ]
    },
    {
      "cell_type": "code",
      "source": [
        "plt.hist(distances[distances != 0], bins=len(dist_distribution))\n",
        "plt.xlabel(\"Edit distance\")\n",
        "plt.ylabel(\"No. of equivalences\")\n",
        "plt.title(\"Edit distance across equivalences (0s excluded)\")"
      ],
      "metadata": {
        "colab": {
          "base_uri": "https://localhost:8080/",
          "height": 489
        },
        "id": "IN2Vl3rxAeJU",
        "outputId": "48c69a21-4b98-4e9c-c6aa-3ceb2f070862"
      },
      "execution_count": 292,
      "outputs": [
        {
          "output_type": "execute_result",
          "data": {
            "text/plain": [
              "Text(0.5, 1.0, 'Edit distance across equivalences (0s excluded)')"
            ]
          },
          "metadata": {},
          "execution_count": 292
        },
        {
          "output_type": "display_data",
          "data": {
            "text/plain": [
              "<Figure size 640x480 with 1 Axes>"
            ],
            "image/png": "[encoded data removed]"
          },
          "metadata": {}
        }
      ]
    },
    {
      "cell_type": "code",
      "source": [
        "plt.hist(normalised, bins=len(norm_distribution))\n",
        "plt.xlabel(\"Normalised edit distance\")\n",
        "plt.ylabel(\"No. of equivalences\")\n",
        "plt.title(\"Normalised edit distance across equivalences\")\n",
        "print(\"Normalised:\", sorted(norm_distribution.items(), key=lambda x:x[0]))\n",
        "print(f\"Median: {np.median(normalised)}, Mean: {np.mean(normalised):.2f}, STD: {np.std(normalised):.2f}\")"
      ],
      "metadata": {
        "colab": {
          "base_uri": "https://localhost:8080/",
          "height": 527
        },
        "id": "DHzt8FQW-bk2",
        "outputId": "37f364ff-c9c2-44e2-f54c-b94e0b8c92e5"
      },
      "execution_count": 293,
      "outputs": [
        {
          "output_type": "stream",
          "name": "stdout",
          "text": [
            "Normalised: [(0.0, 2384), (0.01, 1), (0.02, 11), (0.03, 31), (0.04, 23), (0.05, 21), (0.06, 19), (0.07, 31), (0.08, 24), (0.09, 20), (0.1, 21), (0.11, 17), (0.12, 28), (0.13, 9), (0.14, 32), (0.15, 24), (0.16, 28), (0.17, 33), (0.18, 20), (0.19, 27), (0.2, 24), (0.21, 31), (0.22, 20), (0.23, 30), (0.24, 36), (0.25, 28), (0.26, 17), (0.27, 39), (0.28, 27), (0.29, 35), (0.3, 22), (0.31, 32), (0.32, 36), (0.33, 44), (0.34, 9), (0.35, 28), (0.36, 28), (0.37, 15), (0.38, 39), (0.39, 17), (0.4, 26), (0.41, 22), (0.42, 25), (0.43, 29), (0.44, 25), (0.45, 14), (0.46, 19), (0.47, 27), (0.48, 24), (0.49, 8), (0.5, 31), (0.51, 10), (0.52, 29), (0.53, 22), (0.54, 14), (0.55, 20), (0.56, 25), (0.57, 27), (0.58, 22), (0.59, 22), (0.6, 20), (0.61, 17), (0.62, 26), (0.63, 14), (0.64, 17), (0.65, 14), (0.66, 13), (0.67, 17), (0.68, 23), (0.69, 12), (0.7, 16), (0.71, 14), (0.72, 15), (0.73, 14), (0.74, 14), (0.75, 18), (0.76, 15), (0.77, 22), (0.78, 12), (0.79, 32), (0.8, 19), (0.81, 22), (0.82, 18), (0.83, 25), (0.84, 13), (0.85, 13), (0.86, 18), (0.87, 11), (0.88, 11), (0.89, 7), (0.9, 7), (0.91, 3), (0.92, 7), (0.93, 4), (0.95, 3), (0.96, 2), (1.0, 1)]\n",
            "Median: 0.0, Mean: 0.19, STD: 0.27\n"
          ]
        },
        {
          "output_type": "display_data",
          "data": {
            "text/plain": [
              "<Figure size 640x480 with 1 Axes>"
            ],
            "image/png": "[encoded data removed]"
          },
          "metadata": {}
        }
      ]
    },
    {
      "cell_type": "code",
      "source": [
        "plt.hist(normalised[normalised != 0], bins=len(norm_distribution))\n",
        "plt.xlabel(\"Normalised edit distance\")\n",
        "plt.ylabel(\"No. of equivalences\")\n",
        "plt.title(\"Normalised edit distance across equivalences (0s excluded)\")"
      ],
      "metadata": {
        "colab": {
          "base_uri": "https://localhost:8080/",
          "height": 489
        },
        "id": "KvfD5oYRAr-1",
        "outputId": "83e9a933-0b50-45b7-c3db-be7ae07f9ad1"
      },
      "execution_count": 294,
      "outputs": [
        {
          "output_type": "execute_result",
          "data": {
            "text/plain": [
              "Text(0.5, 1.0, 'Normalised edit distance across equivalences (0s excluded)')"
            ]
          },
          "metadata": {},
          "execution_count": 294
        },
        {
          "output_type": "display_data",
          "data": {
            "text/plain": [
              "<Figure size 640x480 with 1 Axes>"
            ],
            "image/png": "[encoded data removed]"
          },
          "metadata": {}
        }
      ]
    },
    {
      "cell_type": "code",
      "source": [
        "plt.boxplot(normalised)"
      ],
      "metadata": {
        "colab": {
          "base_uri": "https://localhost:8080/",
          "height": 569
        },
        "id": "bSNLEEsafFdc",
        "outputId": "9f40a147-f043-41fc-bb80-e6da1012035f"
      },
      "execution_count": 295,
      "outputs": [
        {
          "output_type": "execute_result",
          "data": {
            "text/plain": [
              "{'whiskers': [<matplotlib.lines.Line2D at 0x7ff82a153b50>,\n",
              "  <matplotlib.lines.Line2D at 0x7ff82a153df0>],\n",
              " 'caps': [<matplotlib.lines.Line2D at 0x7ff82a1740d0>,\n",
              "  <matplotlib.lines.Line2D at 0x7ff82a174370>],\n",
              " 'boxes': [<matplotlib.lines.Line2D at 0x7ff82a1538b0>],\n",
              " 'medians': [<matplotlib.lines.Line2D at 0x7ff82a174610>],\n",
              " 'fliers': [<matplotlib.lines.Line2D at 0x7ff82a1748b0>],\n",
              " 'means': []}"
            ]
          },
          "metadata": {},
          "execution_count": 295
        },
        {
          "output_type": "display_data",
          "data": {
            "text/plain": [
              "<Figure size 640x480 with 1 Axes>"
            ],
            "image/png": "[encoded data removed]"
          },
          "metadata": {}
        }
      ]
    },
    {
      "cell_type": "code",
      "source": [
        "print(\"Equivalences with distinct terms:\\n\")\n",
        "\n",
        "count = 0\n",
        "for (source, target) in str_equivalences.items():\n",
        "  if editdistance.eval(source, target) / max(len(source), len(target)) > 0:\n",
        "    count += 1\n",
        "    if count % 100 == 0:\n",
        "      print(f\"{source} -> {target}\")\n",
        "\n",
        "print(f\"\\n{count} out of {len(str_equivalences)} ({(100 * count/len(str_equivalences)):.1f}%) are distinct\")"
      ],
      "metadata": {
        "colab": {
          "base_uri": "https://localhost:8080/"
        },
        "id": "gfvy02K059kf",
        "outputId": "89e78622-75a6-40c5-89dd-99f3254047f2"
      },
      "execution_count": 296,
      "outputs": [
        {
          "output_type": "stream",
          "name": "stdout",
          "text": [
            "Equivalences with distinct terms:\n",
            "\n",
            "gne myopathy -> nonaka myopathy\n",
            "immunodeficiency 11b -> immunodeficiency 11b with atopic dermatitis\n",
            "mediastinum neuroblastoma -> mediastinal neuroblastoma\n",
            "blood coagulation disease -> coagulation disorder\n",
            "hemangioma of subcutaneous tissue -> subcutaneous hemangioma\n",
            "maxillary sinus benign neoplasm -> maxillary sinus neoplasm\n",
            "systemic primary carnitine deficiency disease -> primary carnitine deficiency\n",
            "sympathetic neurilemmoma -> sympathetic schwannoma\n",
            "bartter disease -> bartter syndrome\n",
            "seminal vesicle tumor -> seminal vesicle neoplasm\n",
            "gastrointestinal adenoma -> digestive system adenoma\n",
            "adult endodermal sinus tumor -> adult yolk sac tumor\n",
            "refractory hematologic cancer -> refractory hematologic malignancy\n",
            "childhood supratentorial ependymoma -> childhood supratentorial ependymoma, not otherwise specified\n",
            "hilar lung neoplasm -> lung hilum neoplasm\n",
            "apocrine adenosis of breast -> breast apocrine adenosis\n",
            "central breast papilloma -> breast central papilloma\n",
            "cervix small cell carcinoma -> cervical small cell neuroendocrine carcinoma\n",
            "nasal cavity benign neoplasm -> benign nasal cavity neoplasm\n",
            "\n",
            "1947 out of 4331 (45.0%) are distinct\n"
          ]
        }
      ]
    },
    {
      "cell_type": "markdown",
      "source": [
        "## Subsumptions"
      ],
      "metadata": {
        "id": "vr9gvUIxDMme"
      }
    },
    {
      "cell_type": "code",
      "source": [
        "str_subsumptions = {doid.get_term(source).name.lower() : ncit.get_term(target).name.lower() for (source, target) in doid_to_ncit_subs.items() if source in doid.terms() and target in ncit.terms()}\n",
        "\n",
        "sub_distances = np.array([editdistance.eval(source, target) for (source, target) in str_subsumptions.items()])\n",
        "sub_lengths = np.array([max(len(source), len(target)) for (source, target) in str_subsumptions.items()])\n",
        "sub_normalised = np.round(sub_distances / sub_lengths, decimals=2)\n",
        "\n",
        "sub_dist_distribution = Counter(sub_distances)\n",
        "sub_norm_distribution = Counter(sub_normalised)"
      ],
      "metadata": {
        "id": "TZtd1jOoDMme"
      },
      "execution_count": 297,
      "outputs": []
    },
    {
      "cell_type": "code",
      "source": [
        "plt.hist(sub_distances, bins=len(sub_dist_distribution))\n",
        "plt.xlabel(\"Edit distance\")\n",
        "plt.ylabel(\"No. of subsumptions\")\n",
        "plt.title(\"Edit distance across subsumptions\")\n",
        "print(\"Distances:\", sorted(sub_dist_distribution.items(), key=lambda x:x[0]))\n",
        "print(f\"Median: {np.median(sub_distances)}, Mean: {np.mean(sub_distances):.2f}, STD: {np.std(sub_distances):.2f}\")"
      ],
      "metadata": {
        "colab": {
          "base_uri": "https://localhost:8080/",
          "height": 527
        },
        "outputId": "304d9012-84ff-4d25-d31e-a586f4ccfaf7",
        "id": "bBr0IpmfDMme"
      },
      "execution_count": 298,
      "outputs": [
        {
          "output_type": "stream",
          "name": "stdout",
          "text": [
            "Distances: [(0, 11), (1, 1), (2, 5), (3, 5), (4, 14), (5, 30), (6, 54), (7, 60), (8, 97), (9, 99), (10, 104), (11, 102), (12, 101), (13, 87), (14, 93), (15, 76), (16, 80), (17, 76), (18, 60), (19, 55), (20, 74), (21, 52), (22, 55), (23, 66), (24, 58), (25, 46), (26, 42), (27, 28), (28, 21), (29, 28), (30, 31), (31, 21), (32, 24), (33, 22), (34, 11), (35, 9), (36, 11), (37, 8), (38, 10), (39, 8), (40, 8), (41, 3), (42, 7), (43, 1), (44, 7), (45, 7), (46, 3), (47, 4), (48, 4), (49, 1), (52, 1), (53, 1), (54, 1)]\n",
            "Median: 16.0, Mean: 17.34, STD: 9.08\n"
          ]
        },
        {
          "output_type": "display_data",
          "data": {
            "text/plain": [
              "<Figure size 640x480 with 1 Axes>"
            ],
            "image/png": "[encoded data removed]"
          },
          "metadata": {}
        }
      ]
    },
    {
      "cell_type": "code",
      "source": [
        "plt.hist(sub_normalised, bins=len(sub_norm_distribution))\n",
        "plt.xlabel(\"Normalised edit distance\")\n",
        "plt.ylabel(\"No. of subsumptions\")\n",
        "plt.title(\"Normalised edit distance across subsumptions\")\n",
        "print(\"Normalised:\", sorted(sub_norm_distribution.items(), key=lambda x:x[0]))"
      ],
      "metadata": {
        "colab": {
          "base_uri": "https://localhost:8080/",
          "height": 509
        },
        "outputId": "07b983b9-acf1-4afa-c9c0-a44d47f9cbc8",
        "id": "EGlJPM5wDMmf"
      },
      "execution_count": 299,
      "outputs": [
        {
          "output_type": "stream",
          "name": "stdout",
          "text": [
            "Normalised: [(0.0, 11), (0.07, 1), (0.08, 1), (0.09, 1), (0.11, 2), (0.14, 2), (0.15, 2), (0.16, 1), (0.17, 6), (0.18, 4), (0.19, 4), (0.2, 3), (0.21, 6), (0.22, 5), (0.23, 9), (0.24, 7), (0.25, 11), (0.26, 9), (0.27, 8), (0.28, 8), (0.29, 13), (0.3, 14), (0.31, 22), (0.32, 13), (0.33, 25), (0.34, 10), (0.35, 27), (0.36, 25), (0.37, 14), (0.38, 24), (0.39, 26), (0.4, 25), (0.41, 21), (0.42, 28), (0.43, 33), (0.44, 31), (0.45, 35), (0.46, 20), (0.47, 27), (0.48, 25), (0.49, 6), (0.5, 67), (0.51, 7), (0.52, 31), (0.53, 34), (0.54, 21), (0.55, 34), (0.56, 48), (0.57, 28), (0.58, 22), (0.59, 24), (0.6, 23), (0.61, 22), (0.62, 28), (0.63, 13), (0.64, 21), (0.65, 26), (0.66, 13), (0.67, 31), (0.68, 26), (0.69, 17), (0.7, 33), (0.71, 34), (0.72, 14), (0.73, 22), (0.74, 33), (0.75, 34), (0.76, 26), (0.77, 29), (0.78, 34), (0.79, 83), (0.8, 41), (0.81, 51), (0.82, 43), (0.83, 48), (0.84, 47), (0.85, 37), (0.86, 41), (0.87, 19), (0.88, 28), (0.89, 27), (0.9, 11), (0.91, 7), (0.92, 8), (0.93, 11), (0.94, 11), (0.95, 4), (1.0, 6)]\n"
          ]
        },
        {
          "output_type": "display_data",
          "data": {
            "text/plain": [
              "<Figure size 640x480 with 1 Axes>"
            ],
            "image/png": "[encoded data removed]"
          },
          "metadata": {}
        }
      ]
    },
    {
      "cell_type": "code",
      "source": [
        "plt.boxplot(sub_normalised)"
      ],
      "metadata": {
        "colab": {
          "base_uri": "https://localhost:8080/",
          "height": 569
        },
        "id": "sFSkko6Te1TJ",
        "outputId": "3bb6d936-61dd-4cd5-cb5e-a46b4db682af"
      },
      "execution_count": 300,
      "outputs": [
        {
          "output_type": "execute_result",
          "data": {
            "text/plain": [
              "{'whiskers': [<matplotlib.lines.Line2D at 0x7ff829f68250>,\n",
              "  <matplotlib.lines.Line2D at 0x7ff829f684f0>],\n",
              " 'caps': [<matplotlib.lines.Line2D at 0x7ff829f68790>,\n",
              "  <matplotlib.lines.Line2D at 0x7ff829f68a30>],\n",
              " 'boxes': [<matplotlib.lines.Line2D at 0x7ff829f53f70>],\n",
              " 'medians': [<matplotlib.lines.Line2D at 0x7ff829f68cd0>],\n",
              " 'fliers': [<matplotlib.lines.Line2D at 0x7ff829f68f70>],\n",
              " 'means': []}"
            ]
          },
          "metadata": {},
          "execution_count": 300
        },
        {
          "output_type": "display_data",
          "data": {
            "text/plain": [
              "<Figure size 640x480 with 1 Axes>"
            ],
            "image/png": "[encoded data removed]"
          },
          "metadata": {}
        }
      ]
    },
    {
      "cell_type": "code",
      "source": [
        "print(\"Subsumptions with distinct terms:\\n\")\n",
        "\n",
        "sub_count = 0\n",
        "for (source, target) in str_subsumptions.items():\n",
        "  if editdistance.eval(source, target) / max(len(source), len(target)) > 0:\n",
        "    sub_count += 1\n",
        "    if sub_count % 100 == 0:\n",
        "      print(f\"{source} -> {target}\")\n",
        "\n",
        "print(f\"\\n{sub_count} out of {len(str_subsumptions)} ({(100 * sub_count/len(str_subsumptions)):.1f}%) are distinct\")"
      ],
      "metadata": {
        "colab": {
          "base_uri": "https://localhost:8080/"
        },
        "outputId": "4ab42b19-a086-4225-a1d7-e24964e32a18",
        "id": "JqEaMsS3DMmm"
      },
      "execution_count": 301,
      "outputs": [
        {
          "output_type": "stream",
          "name": "stdout",
          "text": [
            "Subsumptions with distinct terms:\n",
            "\n",
            "high-grade b-cell lymphoma double-hit/triple-hit -> high grade b-cell lymphoma with myc and bcl2 and/or bcl6 rearrangements\n",
            "mixed mineral dust pneumoconiosis -> pneumoconiosis\n",
            "methemoglobinemia -> non-neoplastic hematologic and lymphocytic disorder\n",
            "arachnoiditis -> central nervous system infectious disorder\n",
            "migraine without aura -> migraine\n",
            "nocardiosis -> bacterial infection\n",
            "addison's disease -> primary adrenal insufficiency\n",
            "farmer's lung -> pneumonitis\n",
            "junctional epidermolysis bullosa -> epidermolysis bullosa\n",
            "achondroplasia -> non-neoplastic bone disorder\n",
            "proliferative glomerulonephritis -> glomerulonephritis\n",
            "clear cell basal cell carcinoma -> skin basal cell carcinoma\n",
            "pancreatic cholera -> ectopic hormone secretion syndrome associated with neoplasia\n",
            "osteosarcoma arising in bone paget's disease -> secondary osteosarcoma\n",
            "sphenoorbital meningioma -> skull base meningioma\n",
            "vaginal tubulovillous adenoma -> vaginal adenoma\n",
            "bullous pemphigoid -> pemphigoid\n",
            "tracheitis -> non-neoplastic tracheal disorder\n",
            "\n",
            "1872 out of 1883 (99.4%) are distinct\n"
          ]
        }
      ]
    },
    {
      "cell_type": "code",
      "source": [
        "source_contained = np.array([1 if source in target else 0 for (source, target) in str_subsumptions.items()])\n",
        "target_contained = np.array([1 if target in source else 0 for (source, target) in str_subsumptions.items()])\n",
        "\n",
        "source_contained_distribution = Counter(source_contained)\n",
        "target_contained_distribution = Counter(target_contained)"
      ],
      "metadata": {
        "id": "SrUHQ7lmEiKP"
      },
      "execution_count": 302,
      "outputs": []
    },
    {
      "cell_type": "code",
      "source": [
        "plt.bar([\"not contained\", \"contained\"], [len(source_contained)-np.sum(source_contained), np.sum(source_contained)])\n",
        "plt.ylabel(\"No. of subsumptions\")\n",
        "plt.title(\"Source entity contained within target entity\")\n",
        "print(f\"Source contained in {source_contained_distribution[1]} out of {len(source_contained)} ({100*source_contained_distribution[1]/len(source_contained):.1f}%)\")"
      ],
      "metadata": {
        "colab": {
          "base_uri": "https://localhost:8080/",
          "height": 469
        },
        "id": "wYdmtfi6OKjw",
        "outputId": "9949c6fc-3680-4190-b85a-354f72c12fc1"
      },
      "execution_count": 303,
      "outputs": [
        {
          "output_type": "stream",
          "name": "stdout",
          "text": [
            "Source contained in 17 out of 1883 (0.9%)\n"
          ]
        },
        {
          "output_type": "display_data",
          "data": {
            "text/plain": [
              "<Figure size 640x480 with 1 Axes>"
            ],
            "image/png": "[encoded data removed]"
          },
          "metadata": {}
        }
      ]
    },
    {
      "cell_type": "code",
      "source": [
        "plt.bar([\"not contained\", \"contained\"], [len(target_contained)-np.sum(target_contained), np.sum(target_contained)])\n",
        "plt.ylabel(\"No. of subsumptions\")\n",
        "plt.title(\"Target entity contained within source entity\")\n",
        "print(f\"Target contained in {target_contained_distribution[1]} out of {len(target_contained)} ({100*target_contained_distribution[1]/len(target_contained):.1f}%)\")"
      ],
      "metadata": {
        "colab": {
          "base_uri": "https://localhost:8080/",
          "height": 469
        },
        "id": "EEt2oJoCOVcj",
        "outputId": "0a25a6f5-9f6a-4922-a23f-7512c13a3d9e"
      },
      "execution_count": 304,
      "outputs": [
        {
          "output_type": "stream",
          "name": "stdout",
          "text": [
            "Target contained in 513 out of 1883 (27.2%)\n"
          ]
        },
        {
          "output_type": "display_data",
          "data": {
            "text/plain": [
              "<Figure size 640x480 with 1 Axes>"
            ],
            "image/png": "[encoded data removed]"
          },
          "metadata": {}
        }
      ]
    },
    {
      "cell_type": "markdown",
      "source": [
        "## Negative mappings"
      ],
      "metadata": {
        "id": "vIDRWwiTYoLt"
      }
    },
    {
      "cell_type": "code",
      "source": [
        "str_nsubsumptions = {doid.get_term(source).name.lower() : ncit.get_term(target).name.lower() for (source, target) in neg_doid_to_ncit_subs.items() if source in doid.terms() and target in ncit.terms()}\n",
        "\n",
        "nsub_distances = np.array([editdistance.eval(source, target) for (source, target) in str_nsubsumptions.items()])\n",
        "nsub_lengths = np.array([max(len(source), len(target)) for (source, target) in str_nsubsumptions.items()])\n",
        "nsub_normalised = np.round(nsub_distances / nsub_lengths, decimals=2)\n",
        "\n",
        "nsub_dist_distribution = Counter(nsub_distances)\n",
        "nsub_norm_distribution = Counter(nsub_normalised)"
      ],
      "metadata": {
        "id": "CgtZ7pNeYoLu",
        "colab": {
          "base_uri": "https://localhost:8080/",
          "height": 263
        },
        "outputId": "1ed8eb2c-e47c-4574-c8aa-e737476050cd"
      },
      "execution_count": 305,
      "outputs": [
        {
          "output_type": "error",
          "ename": "NameError",
          "evalue": "name 'neg_doid_to_ncit_subs' is not defined",
          "traceback": [
            "\u001b[0;31m---------------------------------------------------------------------------\u001b[0m",
            "\u001b[0;31mNameError\u001b[0m                                 Traceback (most recent call last)",
            "\u001b[0;32m<ipython-input-305-7b0755fe84e1>\u001b[0m in \u001b[0;36m<cell line: 1>\u001b[0;34m()\u001b[0m\n\u001b[0;32m----> 1\u001b[0;31m \u001b[0mstr_nsubsumptions\u001b[0m \u001b[0;34m=\u001b[0m \u001b[0;34m{\u001b[0m\u001b[0mdoid\u001b[0m\u001b[0;34m.\u001b[0m\u001b[0mget_term\u001b[0m\u001b[0;34m(\u001b[0m\u001b[0msource\u001b[0m\u001b[0;34m)\u001b[0m\u001b[0;34m.\u001b[0m\u001b[0mname\u001b[0m\u001b[0;34m.\u001b[0m\u001b[0mlower\u001b[0m\u001b[0;34m(\u001b[0m\u001b[0;34m)\u001b[0m \u001b[0;34m:\u001b[0m \u001b[0mncit\u001b[0m\u001b[0;34m.\u001b[0m\u001b[0mget_term\u001b[0m\u001b[0;34m(\u001b[0m\u001b[0mtarget\u001b[0m\u001b[0;34m)\u001b[0m\u001b[0;34m.\u001b[0m\u001b[0mname\u001b[0m\u001b[0;34m.\u001b[0m\u001b[0mlower\u001b[0m\u001b[0;34m(\u001b[0m\u001b[0;34m)\u001b[0m \u001b[0;32mfor\u001b[0m \u001b[0;34m(\u001b[0m\u001b[0msource\u001b[0m\u001b[0;34m,\u001b[0m \u001b[0mtarget\u001b[0m\u001b[0;34m)\u001b[0m \u001b[0;32min\u001b[0m \u001b[0mneg_doid_to_ncit_subs\u001b[0m\u001b[0;34m.\u001b[0m\u001b[0mitems\u001b[0m\u001b[0;34m(\u001b[0m\u001b[0;34m)\u001b[0m \u001b[0;32mif\u001b[0m \u001b[0msource\u001b[0m \u001b[0;32min\u001b[0m \u001b[0mdoid\u001b[0m\u001b[0;34m.\u001b[0m\u001b[0mterms\u001b[0m\u001b[0;34m(\u001b[0m\u001b[0;34m)\u001b[0m \u001b[0;32mand\u001b[0m \u001b[0mtarget\u001b[0m \u001b[0;32min\u001b[0m \u001b[0mncit\u001b[0m\u001b[0;34m.\u001b[0m\u001b[0mterms\u001b[0m\u001b[0;34m(\u001b[0m\u001b[0;34m)\u001b[0m\u001b[0;34m}\u001b[0m\u001b[0;34m\u001b[0m\u001b[0;34m\u001b[0m\u001b[0m\n\u001b[0m\u001b[1;32m      2\u001b[0m \u001b[0;34m\u001b[0m\u001b[0m\n\u001b[1;32m      3\u001b[0m \u001b[0mnsub_distances\u001b[0m \u001b[0;34m=\u001b[0m \u001b[0mnp\u001b[0m\u001b[0;34m.\u001b[0m\u001b[0marray\u001b[0m\u001b[0;34m(\u001b[0m\u001b[0;34m[\u001b[0m\u001b[0meditdistance\u001b[0m\u001b[0;34m.\u001b[0m\u001b[0meval\u001b[0m\u001b[0;34m(\u001b[0m\u001b[0msource\u001b[0m\u001b[0;34m,\u001b[0m \u001b[0mtarget\u001b[0m\u001b[0;34m)\u001b[0m \u001b[0;32mfor\u001b[0m \u001b[0;34m(\u001b[0m\u001b[0msource\u001b[0m\u001b[0;34m,\u001b[0m \u001b[0mtarget\u001b[0m\u001b[0;34m)\u001b[0m \u001b[0;32min\u001b[0m \u001b[0mstr_nsubsumptions\u001b[0m\u001b[0;34m.\u001b[0m\u001b[0mitems\u001b[0m\u001b[0;34m(\u001b[0m\u001b[0;34m)\u001b[0m\u001b[0;34m]\u001b[0m\u001b[0;34m)\u001b[0m\u001b[0;34m\u001b[0m\u001b[0;34m\u001b[0m\u001b[0m\n\u001b[1;32m      4\u001b[0m \u001b[0mnsub_lengths\u001b[0m \u001b[0;34m=\u001b[0m \u001b[0mnp\u001b[0m\u001b[0;34m.\u001b[0m\u001b[0marray\u001b[0m\u001b[0;34m(\u001b[0m\u001b[0;34m[\u001b[0m\u001b[0mmax\u001b[0m\u001b[0;34m(\u001b[0m\u001b[0mlen\u001b[0m\u001b[0;34m(\u001b[0m\u001b[0msource\u001b[0m\u001b[0;34m)\u001b[0m\u001b[0;34m,\u001b[0m \u001b[0mlen\u001b[0m\u001b[0;34m(\u001b[0m\u001b[0mtarget\u001b[0m\u001b[0;34m)\u001b[0m\u001b[0;34m)\u001b[0m \u001b[0;32mfor\u001b[0m \u001b[0;34m(\u001b[0m\u001b[0msource\u001b[0m\u001b[0;34m,\u001b[0m \u001b[0mtarget\u001b[0m\u001b[0;34m)\u001b[0m \u001b[0;32min\u001b[0m \u001b[0mstr_nsubsumptions\u001b[0m\u001b[0;34m.\u001b[0m\u001b[0mitems\u001b[0m\u001b[0;34m(\u001b[0m\u001b[0;34m)\u001b[0m\u001b[0;34m]\u001b[0m\u001b[0;34m)\u001b[0m\u001b[0;34m\u001b[0m\u001b[0;34m\u001b[0m\u001b[0m\n\u001b[1;32m      5\u001b[0m \u001b[0mnsub_normalised\u001b[0m \u001b[0;34m=\u001b[0m \u001b[0mnp\u001b[0m\u001b[0;34m.\u001b[0m\u001b[0mround\u001b[0m\u001b[0;34m(\u001b[0m\u001b[0mnsub_distances\u001b[0m \u001b[0;34m/\u001b[0m \u001b[0mnsub_lengths\u001b[0m\u001b[0;34m,\u001b[0m \u001b[0mdecimals\u001b[0m\u001b[0;34m=\u001b[0m\u001b[0;36m2\u001b[0m\u001b[0;34m)\u001b[0m\u001b[0;34m\u001b[0m\u001b[0;34m\u001b[0m\u001b[0m\n",
            "\u001b[0;31mNameError\u001b[0m: name 'neg_doid_to_ncit_subs' is not defined"
          ]
        }
      ]
    },
    {
      "cell_type": "code",
      "source": [
        "plt.hist(nsub_distances, bins=len(nsub_dist_distribution))\n",
        "plt.xlabel(\"Edit distance\")\n",
        "plt.ylabel(\"No. of negative subsumptions\")\n",
        "plt.title(\"Edit distance across negative subsumptions\")\n",
        "print(\"Distances:\", sorted(nsub_dist_distribution.items(), key=lambda x:x[0]))\n",
        "print(f\"Median: {np.median(nsub_distances)}, Mean: {np.mean(nsub_distances):.2f}, STD: {np.std(nsub_distances):.2f}\")"
      ],
      "metadata": {
        "id": "6V1hcKTWYoLu"
      },
      "execution_count": null,
      "outputs": []
    },
    {
      "cell_type": "code",
      "source": [
        "plt.hist(nsub_normalised, bins=len(nsub_norm_distribution))\n",
        "plt.xlabel(\"Normalised edit distance\")\n",
        "plt.ylabel(\"No. of negative subsumptions\")\n",
        "plt.title(\"Normalised edit distance across negative subsumptions\")\n",
        "print(\"Normalised:\", sorted(nsub_norm_distribution.items(), key=lambda x:x[0]))\n",
        "print(f\"Median: {np.median(nsub_normalised)}, Mean: {np.mean(nsub_normalised):.2f}, STD: {np.std(nsub_normalised):.2f}\")"
      ],
      "metadata": {
        "id": "Ke5iwo2uYoLu"
      },
      "execution_count": null,
      "outputs": []
    },
    {
      "cell_type": "code",
      "source": [
        "plt.boxplot(nsub_normalised)"
      ],
      "metadata": {
        "id": "1_xHGjMvetNm"
      },
      "execution_count": null,
      "outputs": []
    },
    {
      "cell_type": "code",
      "source": [
        "print(\"Negative subsumptions with distinct terms:\\n\")\n",
        "\n",
        "nsub_count = 0\n",
        "for (source, target) in str_nsubsumptions.items():\n",
        "  if editdistance.eval(source, target) / max(len(source), len(target)) > 0:\n",
        "    nsub_count += 1\n",
        "    if nsub_count % 100 == 0:\n",
        "      print(f\"{source} -> {target}\")\n",
        "\n",
        "print(f\"\\n{nsub_count} out of {len(str_nsubsumptions)} ({(100 * nsub_count/len(str_nsubsumptions)):.1f}%) are distinct\")"
      ],
      "metadata": {
        "id": "V7JxFK7uYoLu"
      },
      "execution_count": null,
      "outputs": []
    },
    {
      "cell_type": "code",
      "source": [
        "nsource_contained = np.array([1 if source in target else 0 for (source, target) in str_nsubsumptions.items()])\n",
        "ntarget_contained = np.array([1 if target in source else 0 for (source, target) in str_nsubsumptions.items()])\n",
        "\n",
        "nsource_contained_distribution = Counter(nsource_contained)\n",
        "ntarget_contained_distribution = Counter(ntarget_contained)"
      ],
      "metadata": {
        "id": "lmLlr5MeYoLv"
      },
      "execution_count": null,
      "outputs": []
    },
    {
      "cell_type": "code",
      "source": [
        "plt.bar([\"not contained\", \"contained\"], [len(nsource_contained)-np.sum(nsource_contained), np.sum(nsource_contained)])\n",
        "plt.ylabel(\"No. of negative subsumptions\")\n",
        "plt.title(\"Source entity contained within negative target entity\")\n",
        "print(f\"Source contained in {nsource_contained_distribution[1]} out of {len(nsource_contained)} ({100*nsource_contained_distribution[1]/len(nsource_contained):.1f}%)\")"
      ],
      "metadata": {
        "id": "TU3RMCE4YoLv"
      },
      "execution_count": null,
      "outputs": []
    },
    {
      "cell_type": "code",
      "source": [
        "plt.bar([\"not contained\", \"contained\"], [len(ntarget_contained)-np.sum(ntarget_contained), np.sum(ntarget_contained)])\n",
        "plt.ylabel(\"No. of negative subsumptions\")\n",
        "plt.title(\"Negative target entity contained within source entity\")\n",
        "print(f\"Target contained in {ntarget_contained_distribution[1]} out of {len(ntarget_contained)} ({100*ntarget_contained_distribution[1]/len(ntarget_contained):.1f}%)\")"
      ],
      "metadata": {
        "id": "UHppRjrDYoLw"
      },
      "execution_count": null,
      "outputs": []
    }
  ]
}
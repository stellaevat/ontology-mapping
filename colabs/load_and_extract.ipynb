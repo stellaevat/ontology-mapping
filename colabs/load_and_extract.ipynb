{
  "nbformat": 4,
  "nbformat_minor": 0,
  "metadata": {
    "colab": {
      "provenance": [],
      "authorship_tag": "ABX9TyNLH9y9ms57bhGK1cOuYw+s",
      "include_colab_link": true
    },
    "kernelspec": {
      "name": "python3",
      "display_name": "Python 3"
    },
    "language_info": {
      "name": "python"
    }
  },
  "cells": [
    {
      "cell_type": "markdown",
      "metadata": {
        "id": "view-in-github",
        "colab_type": "text"
      },
      "source": [
        "<a href=\"https://colab.research.google.com/github/stellaevat/ontology-mapping/blob/main/colabs/load_and_extract.ipynb\" target=\"_parent\"><img src=\"https://colab.research.google.com/assets/colab-badge.svg\" alt=\"Open In Colab\"/></a>"
      ]
    },
    {
      "cell_type": "code",
      "execution_count": null,
      "metadata": {
        "id": "g_3vYAktNfuX"
      },
      "outputs": [],
      "source": [
        "!pip install pronto owlready2 \\\n",
        "&& wget -O doid.obo https://gla-my.sharepoint.com/:u:/g/personal/2526934t_student_gla_ac_uk/EfUC_RdrfZdOsOrtmNATjuoBPDaIkSTUMyxJXyO2KKC6yw?download=1 \\\n",
        "&& wget -O ncit.obo https://gla-my.sharepoint.com/:u:/g/personal/2526934t_student_gla_ac_uk/ETmaJIC0fAlItdsp8WQxS_wBzKN_6x08EZrtsOxVnbzvSg?download=1 \\\n",
        "&& wget -O doid.owl https://gla-my.sharepoint.com/:u:/g/personal/2526934t_student_gla_ac_uk/EVjp-NoZlZtDq42LqxZH08ABz2h7IWqdw2gxetzvA-u3hQ?download=1"
      ]
    },
    {
      "cell_type": "code",
      "source": [
        "import pronto\n",
        "import owlready2"
      ],
      "metadata": {
        "id": "iF7osbmPQIZJ"
      },
      "execution_count": 2,
      "outputs": []
    },
    {
      "cell_type": "code",
      "source": [
        "ncit = pronto.Ontology(\"ncit.obo\")\n",
        "doid = pronto.Ontology(\"doid.obo\")\n",
        "doid_owl = owlready2.get_ontology(\"doid.owl\").load()"
      ],
      "metadata": {
        "id": "JimB2a7ic-fx"
      },
      "execution_count": 3,
      "outputs": []
    },
    {
      "cell_type": "markdown",
      "source": [
        "# Extract equivalences"
      ],
      "metadata": {
        "id": "m2PuvvobBAlQ"
      }
    },
    {
      "cell_type": "code",
      "source": [
        "# Get Property object with the given name, from the given owlready2 Ontology\n",
        "\n",
        "def get_owl_property(onto, target_prop_name):\n",
        "  all_props = list(onto.properties())\n",
        "  target_prop = None\n",
        "  for prop in all_props:\n",
        "    if prop.python_name == target_prop_name:\n",
        "      target_prop = prop\n",
        "      break\n",
        "  return target_prop\n",
        "\n",
        "print(\"Found: \", get_owl_property(doid_owl, \"hasDbXref\"))"
      ],
      "metadata": {
        "colab": {
          "base_uri": "https://localhost:8080/"
        },
        "id": "U4X1zUbCldXo",
        "outputId": "fc685e0d-470d-4c15-c76f-7afcec73cc34"
      },
      "execution_count": 4,
      "outputs": [
        {
          "output_type": "stream",
          "name": "stdout",
          "text": [
            "Found:  oboInOwl.hasDbXref\n"
          ]
        }
      ]
    },
    {
      "cell_type": "code",
      "source": [
        "# Correct the ontology code in the given entity id\n",
        "\n",
        "def correct_code(entity_id, corrections={\"NCI\" : \"NCIT\"}, delimiter=\":\"):\n",
        "  code, num = entity_id.split(delimiter)\n",
        "  if code in corrections:\n",
        "    return corrections[code] + delimiter + num\n",
        "  else:\n",
        "    return entity_id\n",
        "\n",
        "# Get entity equivalences encoded by the given Property name to the given target ontology, in the given owlready2 Ontology\n",
        "\n",
        "def get_owl_entity_equivalences(source_onto, target_onto_code=\"NCI:\", xref_prop_name=\"hasDbXref\"):\n",
        "  all_equivalences = {}\n",
        "  xref_prop = get_owl_property(source_onto, xref_prop_name)\n",
        "\n",
        "  if xref_prop:\n",
        "    for entity in list(source_onto.classes()):\n",
        "      if xref_prop in entity.get_properties(entity):\n",
        "        xrefs = [correct_code(ref) for ref in xref_prop[entity] if target_onto_code in ref]\n",
        "        # Only keep equivalences with single target\n",
        "        if xrefs and len(xrefs) == 1:\n",
        "          all_equivalences[correct_code(entity.id[0])] = xrefs[0]\n",
        "  return all_equivalences"
      ],
      "metadata": {
        "id": "adxRnVI9iVmB"
      },
      "execution_count": 5,
      "outputs": []
    },
    {
      "cell_type": "code",
      "source": [
        "def write_mappings(mappings, filepath):\n",
        "  with open(filepath, \"w\") as f:\n",
        "    for source_id, target_id in mappings.items():\n",
        "      f.write(f\"{source_id},{target_id}\\n\")"
      ],
      "metadata": {
        "id": "Ikinwsx2YVoq"
      },
      "execution_count": 6,
      "outputs": []
    },
    {
      "cell_type": "code",
      "source": [
        "all_equivalences = get_owl_entity_equivalences(doid_owl)\n",
        "print(\"External equivalences: \", all_equivalences)\n",
        "print(\"Total: \", len(all_equivalences))"
      ],
      "metadata": {
        "id": "LWCKc_SEnsqY"
      },
      "execution_count": null,
      "outputs": []
    },
    {
      "cell_type": "code",
      "source": [
        "write_mappings(all_equivalences, \"doid2ncit_equiv.csv\")\n",
        "write_mappings({v:k for (k,v) in all_equivalences.items()}, \"ncit2doid_equiv.csv\")"
      ],
      "metadata": {
        "id": "ysakzHF5BDum"
      },
      "execution_count": 8,
      "outputs": []
    },
    {
      "cell_type": "markdown",
      "source": [
        "# Derive subsumptions"
      ],
      "metadata": {
        "id": "C-zxv0gAxmtQ"
      }
    },
    {
      "cell_type": "code",
      "source": [
        "def get_subsumptions_from_equivalences(equivalences, source_onto, target_onto, reverse=False):\n",
        "  subsumptions = {}\n",
        "  for source_id, target_id in equivalences.items():\n",
        "    if source_id in source_onto.terms():\n",
        "      source_entity = source_onto.get_term(source_id)\n",
        "      source_parent_ids = [p.id for p in source_entity.superclasses(distance=1, with_self=False)]\n",
        "\n",
        "      if target_id in target_onto.terms():\n",
        "        target_entity = target_onto.get_term(target_id)\n",
        "        target_parent_ids = [p.id for p in target_entity.superclasses(distance=1, with_self=False)]\n",
        "\n",
        "        # Only keep mappings with single parent\n",
        "        if not reverse and target_parent_ids and len(target_parent_ids) == 1:\n",
        "          subsumptions[source_id] = target_parent_ids[0]\n",
        "        elif reverse and source_parent_ids and len(source_parent_ids) == 1:\n",
        "          subsumptions[target_id] = source_parent_ids[0]\n",
        "\n",
        "  return subsumptions"
      ],
      "metadata": {
        "id": "2jZ2N1PypsUP"
      },
      "execution_count": 9,
      "outputs": []
    },
    {
      "cell_type": "code",
      "source": [
        "doid_to_ncit_subs = get_subsumptions_from_equivalences(all_equivalences, doid, ncit)\n",
        "print(\"Subsumption relations (DOID to NCIT): \", doid_to_ncit_subs)\n",
        "print(\"Total: \", len(doid_to_ncit_subs))"
      ],
      "metadata": {
        "id": "sylB4TTzsRJq"
      },
      "execution_count": null,
      "outputs": []
    },
    {
      "cell_type": "code",
      "source": [
        "ncit_to_doid_subs = get_subsumptions_from_equivalences(all_equivalences, doid, ncit, reverse=True)\n",
        "print(\"Subsumption relations (NCIT to DOID): \", ncit_to_doid_subs)\n",
        "print(\"Total: \", len(ncit_to_doid_subs))"
      ],
      "metadata": {
        "id": "H3wykwdpww7e"
      },
      "execution_count": null,
      "outputs": []
    },
    {
      "cell_type": "code",
      "source": [
        "write_mappings(doid_to_ncit_subs, \"doid2ncit_subs.csv\")\n",
        "write_mappings(ncit_to_doid_subs, \"ncit2doid_subs.csv\")"
      ],
      "metadata": {
        "id": "S172YgAJ-65_"
      },
      "execution_count": 12,
      "outputs": []
    }
  ]
}
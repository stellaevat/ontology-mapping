{
  "nbformat": 4,
  "nbformat_minor": 0,
  "metadata": {
    "colab": {
      "provenance": [],
      "authorship_tag": "ABX9TyOKlr5pRxaLt3G2edxtfs74",
      "include_colab_link": true
    },
    "kernelspec": {
      "name": "python3",
      "display_name": "Python 3"
    },
    "language_info": {
      "name": "python"
    }
  },
  "cells": [
    {
      "cell_type": "markdown",
      "metadata": {
        "id": "view-in-github",
        "colab_type": "text"
      },
      "source": [
        "<a href=\"https://colab.research.google.com/github/stellaevat/ontology-mapping/blob/main/colabs/load_and_extract.ipynb\" target=\"_parent\"><img src=\"https://colab.research.google.com/assets/colab-badge.svg\" alt=\"Open In Colab\"/></a>"
      ]
    },
    {
      "cell_type": "code",
      "execution_count": 31,
      "metadata": {
        "id": "g_3vYAktNfuX",
        "colab": {
          "base_uri": "https://localhost:8080/"
        },
        "outputId": "f0063449-5c7d-41ba-a3b8-6a026057ed9d"
      },
      "outputs": [
        {
          "output_type": "stream",
          "name": "stdout",
          "text": [
            "Requirement already satisfied: pronto in /usr/local/lib/python3.10/dist-packages (2.5.5)\n",
            "Requirement already satisfied: owlready2 in /usr/local/lib/python3.10/dist-packages (0.44)\n",
            "Requirement already satisfied: chardet~=5.0 in /usr/local/lib/python3.10/dist-packages (from pronto) (5.2.0)\n",
            "Requirement already satisfied: fastobo~=0.12.2 in /usr/local/lib/python3.10/dist-packages (from pronto) (0.12.2)\n",
            "Requirement already satisfied: networkx<4.0,>=2.3 in /usr/local/lib/python3.10/dist-packages (from pronto) (3.2)\n",
            "Requirement already satisfied: python-dateutil~=2.8 in /usr/local/lib/python3.10/dist-packages (from pronto) (2.8.2)\n",
            "Requirement already satisfied: six>=1.5 in /usr/local/lib/python3.10/dist-packages (from python-dateutil~=2.8->pronto) (1.16.0)\n",
            "--2023-11-06 19:31:33--  https://gla-my.sharepoint.com/:u:/g/personal/2526934t_student_gla_ac_uk/EfUC_RdrfZdOsOrtmNATjuoBPDaIkSTUMyxJXyO2KKC6yw?download=1\n",
            "Resolving gla-my.sharepoint.com (gla-my.sharepoint.com)... 13.107.136.10, 13.107.138.10, 2620:1ec:8f8::10, ...\n",
            "Connecting to gla-my.sharepoint.com (gla-my.sharepoint.com)|13.107.136.10|:443... connected.\n",
            "HTTP request sent, awaiting response... 302 Found\n",
            "Location: /personal/2526934t_student_gla_ac_uk/Documents/UG%20COMPSCI/Year%204/Individual%20Project/ontologies/doid.obo?ga=1 [following]\n",
            "--2023-11-06 19:31:35--  https://gla-my.sharepoint.com/personal/2526934t_student_gla_ac_uk/Documents/UG%20COMPSCI/Year%204/Individual%20Project/ontologies/doid.obo?ga=1\n",
            "Reusing existing connection to gla-my.sharepoint.com:443.\n",
            "HTTP request sent, awaiting response... 200 OK\n",
            "Length: 6634417 (6.3M) [application/octet-stream]\n",
            "Saving to: ‘doid.obo’\n",
            "\n",
            "doid.obo            100%[===================>]   6.33M  2.93MB/s    in 2.2s    \n",
            "\n",
            "2023-11-06 19:31:37 (2.93 MB/s) - ‘doid.obo’ saved [6634417/6634417]\n",
            "\n",
            "--2023-11-06 19:31:37--  https://gla-my.sharepoint.com/:u:/g/personal/2526934t_student_gla_ac_uk/ETmaJIC0fAlItdsp8WQxS_wBzKN_6x08EZrtsOxVnbzvSg?download=1\n",
            "Resolving gla-my.sharepoint.com (gla-my.sharepoint.com)... 13.107.136.10, 13.107.138.10, 2620:1ec:8f8::10, ...\n",
            "Connecting to gla-my.sharepoint.com (gla-my.sharepoint.com)|13.107.136.10|:443... connected.\n",
            "HTTP request sent, awaiting response... 302 Found\n",
            "Location: /personal/2526934t_student_gla_ac_uk/Documents/UG%20COMPSCI/Year%204/Individual%20Project/ontologies/ncit.obo?ga=1 [following]\n",
            "--2023-11-06 19:31:38--  https://gla-my.sharepoint.com/personal/2526934t_student_gla_ac_uk/Documents/UG%20COMPSCI/Year%204/Individual%20Project/ontologies/ncit.obo?ga=1\n",
            "Reusing existing connection to gla-my.sharepoint.com:443.\n",
            "HTTP request sent, awaiting response... 200 OK\n",
            "Length: 276885735 (264M) [application/octet-stream]\n",
            "Saving to: ‘ncit.obo’\n",
            "\n",
            "ncit.obo            100%[===================>] 264.06M  65.6MB/s    in 7.1s    \n",
            "\n",
            "2023-11-06 19:31:45 (37.1 MB/s) - ‘ncit.obo’ saved [276885735/276885735]\n",
            "\n",
            "--2023-11-06 19:31:45--  https://gla-my.sharepoint.com/:u:/g/personal/2526934t_student_gla_ac_uk/EVjp-NoZlZtDq42LqxZH08ABz2h7IWqdw2gxetzvA-u3hQ?download=1\n",
            "Resolving gla-my.sharepoint.com (gla-my.sharepoint.com)... 13.107.136.10, 13.107.138.10, 2620:1ec:8f8::10, ...\n",
            "Connecting to gla-my.sharepoint.com (gla-my.sharepoint.com)|13.107.136.10|:443... connected.\n",
            "HTTP request sent, awaiting response... 302 Found\n",
            "Location: /personal/2526934t_student_gla_ac_uk/Documents/UG%20COMPSCI/Year%204/Individual%20Project/ontologies/doid.owl?ga=1 [following]\n",
            "--2023-11-06 19:31:46--  https://gla-my.sharepoint.com/personal/2526934t_student_gla_ac_uk/Documents/UG%20COMPSCI/Year%204/Individual%20Project/ontologies/doid.owl?ga=1\n",
            "Reusing existing connection to gla-my.sharepoint.com:443.\n",
            "HTTP request sent, awaiting response... 200 OK\n",
            "Length: 24063696 (23M) [application/octet-stream]\n",
            "Saving to: ‘doid.owl’\n",
            "\n",
            "doid.owl            100%[===================>]  22.95M  6.87MB/s    in 3.3s    \n",
            "\n",
            "2023-11-06 19:31:50 (6.87 MB/s) - ‘doid.owl’ saved [24063696/24063696]\n",
            "\n"
          ]
        }
      ],
      "source": [
        "!pip install pronto owlready2 \\\n",
        "&& wget -O doid.obo https://gla-my.sharepoint.com/:u:/g/personal/2526934t_student_gla_ac_uk/EfUC_RdrfZdOsOrtmNATjuoBPDaIkSTUMyxJXyO2KKC6yw?download=1 \\\n",
        "&& wget -O ncit.obo https://gla-my.sharepoint.com/:u:/g/personal/2526934t_student_gla_ac_uk/ETmaJIC0fAlItdsp8WQxS_wBzKN_6x08EZrtsOxVnbzvSg?download=1 \\\n",
        "&& wget -O doid.owl https://gla-my.sharepoint.com/:u:/g/personal/2526934t_student_gla_ac_uk/EVjp-NoZlZtDq42LqxZH08ABz2h7IWqdw2gxetzvA-u3hQ?download=1"
      ]
    },
    {
      "cell_type": "code",
      "source": [
        "import pronto\n",
        "import owlready2\n",
        "import numpy as np\n",
        "from tqdm import tqdm\n",
        "from collections import Counter"
      ],
      "metadata": {
        "id": "iF7osbmPQIZJ"
      },
      "execution_count": 54,
      "outputs": []
    },
    {
      "cell_type": "code",
      "source": [
        "ncit = pronto.Ontology(\"ncit.obo\")\n",
        "doid = pronto.Ontology(\"doid.obo\")\n",
        "doid_owl = owlready2.get_ontology(\"doid.owl\").load()"
      ],
      "metadata": {
        "id": "JimB2a7ic-fx"
      },
      "execution_count": 33,
      "outputs": []
    },
    {
      "cell_type": "markdown",
      "source": [
        "# Extract equivalences"
      ],
      "metadata": {
        "id": "m2PuvvobBAlQ"
      }
    },
    {
      "cell_type": "code",
      "source": [
        "# Get Property object with the given name, from the given owlready2 Ontology\n",
        "\n",
        "def get_owl_property(onto, target_prop_name):\n",
        "  all_props = list(onto.properties())\n",
        "  target_prop = None\n",
        "  for prop in all_props:\n",
        "    if prop.python_name == target_prop_name:\n",
        "      target_prop = prop\n",
        "      break\n",
        "  return target_prop\n",
        "\n",
        "print(\"Found: \", get_owl_property(doid_owl, \"hasDbXref\"))"
      ],
      "metadata": {
        "colab": {
          "base_uri": "https://localhost:8080/"
        },
        "id": "U4X1zUbCldXo",
        "outputId": "186f4f36-47e8-497b-9aa8-a270fb80fb8a"
      },
      "execution_count": 100,
      "outputs": [
        {
          "output_type": "stream",
          "name": "stdout",
          "text": [
            "Found:  oboInOwl.hasDbXref\n"
          ]
        }
      ]
    },
    {
      "cell_type": "code",
      "source": [
        "# Correct the ontology code in the given entity id\n",
        "\n",
        "def correct_code(entity_id, corrections={\"NCI\" : \"NCIT\"}, delimiter=\":\"):\n",
        "  code, num = entity_id.split(delimiter)\n",
        "  if code in corrections:\n",
        "    return corrections[code] + delimiter + num\n",
        "  else:\n",
        "    return entity_id\n",
        "\n",
        "# Get entity equivalences encoded by the given Property name to the given target ontology, in the given owlready2 Ontology\n",
        "\n",
        "def get_owl_entity_equivalences(source_onto, target_onto_code=\"NCI:\", xref_prop_name=\"hasDbXref\"):\n",
        "  all_equivalences = {}\n",
        "  xref_prop = get_owl_property(source_onto, xref_prop_name)\n",
        "\n",
        "  if xref_prop:\n",
        "    for entity in list(source_onto.classes()):\n",
        "      if xref_prop in entity.get_properties(entity):\n",
        "        xrefs = [correct_code(ref) for ref in xref_prop[entity] if target_onto_code in ref]\n",
        "        # Only keep equivalences with single target\n",
        "        if xrefs and len(xrefs) == 1:\n",
        "          all_equivalences[correct_code(entity.id[0])] = xrefs[0]\n",
        "  return all_equivalences"
      ],
      "metadata": {
        "id": "adxRnVI9iVmB"
      },
      "execution_count": 101,
      "outputs": []
    },
    {
      "cell_type": "code",
      "source": [
        "def write_mappings(mappings, filepath):\n",
        "  with open(filepath, \"w\") as f:\n",
        "    for source_id, target_id in mappings.items():\n",
        "      f.write(f\"{source_id},{target_id}\\n\")"
      ],
      "metadata": {
        "id": "Ikinwsx2YVoq"
      },
      "execution_count": 102,
      "outputs": []
    },
    {
      "cell_type": "code",
      "source": [
        "all_equivalences = get_owl_entity_equivalences(doid_owl)\n",
        "# print(\"Equivalences (DOID to NCIT): \", all_equivalences)\n",
        "print(\"Total equivalences: \", len(all_equivalences))"
      ],
      "metadata": {
        "id": "LWCKc_SEnsqY",
        "colab": {
          "base_uri": "https://localhost:8080/"
        },
        "outputId": "fb1c0eb1-9cf8-4699-f87c-3e02a65928df"
      },
      "execution_count": 103,
      "outputs": [
        {
          "output_type": "stream",
          "name": "stdout",
          "text": [
            "Total equivalences:  4331\n"
          ]
        }
      ]
    },
    {
      "cell_type": "code",
      "source": [
        "write_mappings(all_equivalences, \"equiv_doid2ncit.csv\")\n",
        "write_mappings({v:k for (k,v) in all_equivalences.items()}, \"equiv_ncit2doid.csv\")"
      ],
      "metadata": {
        "id": "ysakzHF5BDum"
      },
      "execution_count": 104,
      "outputs": []
    },
    {
      "cell_type": "markdown",
      "source": [
        "# Derive subsumptions"
      ],
      "metadata": {
        "id": "C-zxv0gAxmtQ"
      }
    },
    {
      "cell_type": "code",
      "source": [
        "def get_subsumptions_from_equivalences(equivalences, source_onto, target_onto, negative=False, reverse=False):\n",
        "  np.random.seed(3)\n",
        "  source_ids = [term.id for term in source_onto.terms()]\n",
        "  target_ids = [term.id for term in target_onto.terms()]\n",
        "  subsumptions = {}\n",
        "\n",
        "  for source_id, target_id in tqdm(equivalences.items()):\n",
        "    if source_id in source_onto.terms():\n",
        "      source_entity = source_onto.get_term(source_id)\n",
        "      source_parents = source_entity.superclasses(distance=1, with_self=False)\n",
        "\n",
        "      if target_id in target_onto.terms():\n",
        "        target_entity = target_onto.get_term(target_id)\n",
        "        target_parents = target_entity.superclasses(distance=1, with_self=False)\n",
        "\n",
        "        # Only keep mappings with single parents\n",
        "        if target_parents and source_parents and len(set(target_parents)) == 1 and len(set(source_parents)) == 1:\n",
        "\n",
        "          if not negative:\n",
        "            if reverse:\n",
        "              subsumptions[target_id] = set(source_parents).pop().id\n",
        "            else:\n",
        "              subsumptions[source_id] = set(target_parents).pop().id\n",
        "\n",
        "          else:\n",
        "            if reverse:\n",
        "              source_parent_id = list(source_parents)[0].id\n",
        "              neg_sub = source_ids[np.random.randint(0, len(source_ids))]\n",
        "              while neg_sub == source_parent_id:\n",
        "                neg_sub = source_ids[np.random.randint(0, len(source_ids))]\n",
        "              subsumptions[target_id] = neg_sub\n",
        "            else:\n",
        "              target_parent_id = list(target_parents)[0].id\n",
        "              neg_sub = target_ids[np.random.randint(0, len(target_ids))]\n",
        "              while neg_sub == target_parent_id:\n",
        "                neg_sub = target_ids[np.random.randint(0, len(target_ids))]\n",
        "              subsumptions[source_id] = neg_sub\n",
        "  print()\n",
        "  return subsumptions"
      ],
      "metadata": {
        "id": "fWX88gEq-WQn"
      },
      "execution_count": 112,
      "outputs": []
    },
    {
      "cell_type": "code",
      "source": [
        "doid_to_ncit_subs = get_subsumptions_from_equivalences(all_equivalences, doid, ncit)\n",
        "# print(\"Subsumption relations (DOID to NCIT): \", doid_to_ncit_subs)\n",
        "print(\"Total subsumptions (DOID to NCIT): \", len(doid_to_ncit_subs))"
      ],
      "metadata": {
        "id": "sylB4TTzsRJq",
        "colab": {
          "base_uri": "https://localhost:8080/"
        },
        "outputId": "2b08c51d-7299-48ec-b308-bac5fe5d8b59"
      },
      "execution_count": 113,
      "outputs": [
        {
          "output_type": "stream",
          "name": "stderr",
          "text": [
            "100%|██████████| 4331/4331 [00:00<00:00, 8483.95it/s]\n"
          ]
        },
        {
          "output_type": "stream",
          "name": "stdout",
          "text": [
            "\n",
            "Total subsumptions (DOID to NCIT):  1883\n"
          ]
        }
      ]
    },
    {
      "cell_type": "code",
      "source": [
        "neg_doid_to_ncit_subs = get_subsumptions_from_equivalences(all_equivalences, doid, ncit, negative=True)\n",
        "# print(\"Negative subsumption relations (DOID to NCIT): \", neg_doid_to_ncit_subs)\n",
        "print(\"Total negative subsumptions (DOID to NCIT): \", len(neg_doid_to_ncit_subs))"
      ],
      "metadata": {
        "colab": {
          "base_uri": "https://localhost:8080/"
        },
        "id": "9_5FYPC5HHuX",
        "outputId": "2f607ff5-8b9d-4e4b-df90-d6ba07bc0106"
      },
      "execution_count": 114,
      "outputs": [
        {
          "output_type": "stream",
          "name": "stderr",
          "text": [
            "100%|██████████| 4331/4331 [00:00<00:00, 7329.69it/s]"
          ]
        },
        {
          "output_type": "stream",
          "name": "stdout",
          "text": [
            "\n",
            "Total negative subsumptions (DOID to NCIT):  1883\n"
          ]
        },
        {
          "output_type": "stream",
          "name": "stderr",
          "text": [
            "\n"
          ]
        }
      ]
    },
    {
      "cell_type": "code",
      "source": [
        "ncit_to_doid_subs = get_subsumptions_from_equivalences(all_equivalences, doid, ncit, reverse=True)\n",
        "# print(\"Subsumption relations (NCIT to DOID): \", ncit_to_doid_subs)\n",
        "print(\"Total subsumptions (NCIT to DOID): \", len(ncit_to_doid_subs))"
      ],
      "metadata": {
        "id": "H3wykwdpww7e",
        "colab": {
          "base_uri": "https://localhost:8080/"
        },
        "outputId": "5219392c-b952-43c8-c692-e659fcd32eb1"
      },
      "execution_count": 115,
      "outputs": [
        {
          "output_type": "stream",
          "name": "stderr",
          "text": [
            "100%|██████████| 4331/4331 [00:00<00:00, 4988.32it/s]"
          ]
        },
        {
          "output_type": "stream",
          "name": "stdout",
          "text": [
            "\n",
            "Total subsumptions (NCIT to DOID):  1873\n"
          ]
        },
        {
          "output_type": "stream",
          "name": "stderr",
          "text": [
            "\n"
          ]
        }
      ]
    },
    {
      "cell_type": "code",
      "source": [
        "neg_ncit_to_doid_subs = get_subsumptions_from_equivalences(all_equivalences, doid, ncit, negative=True, reverse=True)\n",
        "# print(\"Negative subsumption relations (NCIT to DOID): \", neg_ncit_to_doid_subs)\n",
        "print(\"Total negative subsumptions (NCIT to DOID): \", len(neg_ncit_to_doid_subs))"
      ],
      "metadata": {
        "colab": {
          "base_uri": "https://localhost:8080/"
        },
        "id": "mAWvUq16HH4d",
        "outputId": "c6a1d707-51b4-4eb3-af01-9e443be1ded1"
      },
      "execution_count": 116,
      "outputs": [
        {
          "output_type": "stream",
          "name": "stderr",
          "text": [
            "100%|██████████| 4331/4331 [00:00<00:00, 5270.07it/s]\n"
          ]
        },
        {
          "output_type": "stream",
          "name": "stdout",
          "text": [
            "\n",
            "Total negative subsumptions (NCIT to DOID):  1873\n"
          ]
        }
      ]
    },
    {
      "cell_type": "code",
      "source": [
        "write_mappings(doid_to_ncit_subs, \"subs_doid2ncit.csv\")\n",
        "write_mappings(neg_doid_to_ncit_subs, \"neg_subs_doid2ncit.csv\")\n",
        "write_mappings(ncit_to_doid_subs, \"subs_ncit2doid.csv\")\n",
        "write_mappings(neg_ncit_to_doid_subs, \"neg_subs_ncit2doid.csv\")"
      ],
      "metadata": {
        "id": "S172YgAJ-65_"
      },
      "execution_count": 117,
      "outputs": []
    }
  ]
}
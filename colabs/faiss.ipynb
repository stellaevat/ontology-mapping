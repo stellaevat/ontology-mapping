{
  "nbformat": 4,
  "nbformat_minor": 0,
  "metadata": {
    "colab": {
      "provenance": [],
      "collapsed_sections": [
        "6uM7hsKBdLSa",
        "VEH4XQTPOV7i",
        "wFh2fa4BuyHC",
        "-qsVTyaqR76g"
      ],
      "include_colab_link": true
    },
    "kernelspec": {
      "name": "python3",
      "display_name": "Python 3"
    },
    "language_info": {
      "name": "python"
    }
  },
  "cells": [
    {
      "cell_type": "markdown",
      "metadata": {
        "id": "view-in-github",
        "colab_type": "text"
      },
      "source": [
        "<a href=\"https://colab.research.google.com/github/stellaevat/ontology-mapping/blob/main/colabs/faiss.ipynb\" target=\"_parent\"><img src=\"https://colab.research.google.com/assets/colab-badge.svg\" alt=\"Open In Colab\"/></a>"
      ]
    },
    {
      "cell_type": "code",
      "execution_count": 3,
      "metadata": {
        "id": "zg1BOxf1KlAU",
        "colab": {
          "base_uri": "https://localhost:8080/"
        },
        "outputId": "f9ea2334-871f-47e7-9692-ca07d827bc30"
      },
      "outputs": [
        {
          "output_type": "stream",
          "name": "stdout",
          "text": [
            "Collecting faiss-gpu\n",
            "  Downloading faiss_gpu-1.7.2-cp310-cp310-manylinux_2_17_x86_64.manylinux2014_x86_64.whl (85.5 MB)\n",
            "\u001b[2K     \u001b[90m━━━━━━━━━━━━━━━━━━━━━━━━━━━━━━━━━━━━━━━━\u001b[0m \u001b[32m85.5/85.5 MB\u001b[0m \u001b[31m8.0 MB/s\u001b[0m eta \u001b[36m0:00:00\u001b[0m\n",
            "\u001b[?25hInstalling collected packages: faiss-gpu\n",
            "Successfully installed faiss-gpu-1.7.2\n"
          ]
        }
      ],
      "source": [
        "!pip install faiss-gpu"
      ]
    },
    {
      "cell_type": "code",
      "source": [
        "from google.colab import drive\n",
        "drive.mount('/content/drive')"
      ],
      "metadata": {
        "id": "fyACOW5XgpgZ"
      },
      "execution_count": null,
      "outputs": []
    },
    {
      "cell_type": "code",
      "source": [
        "import os\n",
        "os.environ['CUDA_LAUNCH_BLOCKING'] = \"1\"\n",
        "os.environ['CUBLAS_WORKSPACE_CONFIG'] = \":4096:8\""
      ],
      "metadata": {
        "id": "RQPDnoD3mcxf"
      },
      "execution_count": null,
      "outputs": []
    },
    {
      "cell_type": "code",
      "source": [
        "import gc\n",
        "import itertools\n",
        "import json\n",
        "import torch\n",
        "import faiss\n",
        "import numpy as np\n",
        "import pandas as pd\n",
        "import matplotlib.pyplot as plt\n",
        "from tqdm import tqdm"
      ],
      "metadata": {
        "id": "YFVyasHU3Hk7"
      },
      "execution_count": 4,
      "outputs": []
    },
    {
      "cell_type": "markdown",
      "source": [
        "# Read/Write to file"
      ],
      "metadata": {
        "id": "6uM7hsKBdLSa"
      }
    },
    {
      "cell_type": "code",
      "source": [
        "def read_bi_embeddings_from_file(filepath):\n",
        "  indices, sources, targets = [], [], []\n",
        "\n",
        "  with open(filepath) as f:\n",
        "    for line in tqdm(f):\n",
        "      strings = line.strip().split(\",[\")\n",
        "      lists = [list(map(float, s.strip(\"[]\").split(\",\"))) for s in strings[1:]]\n",
        "      source, target = lists\n",
        "      index = int(strings[0])\n",
        "\n",
        "      indices.append(index)\n",
        "      sources.append(source)\n",
        "      targets.append(target)\n",
        "\n",
        "  bi_embeddings = {\"indices\" : indices,\n",
        "                   \"sources\" : np.array(sources, dtype=np.single),\n",
        "                   \"targets\" : np.array(targets, dtype=np.single)}\n",
        "  return bi_embeddings\n",
        "\n",
        "def read_onto_embeddings_from_file(filepath):\n",
        "  indices, embeddings = [], None\n",
        "\n",
        "  with open(filepath) as f:\n",
        "    for line in tqdm(f):\n",
        "      strings = line.strip().split(\",[\")\n",
        "      embedding = np.array(list(map(float, strings[1].strip(\"[]\").split(\",\"))), dtype=np.single).reshape(1,-1)\n",
        "      index = int(strings[0])\n",
        "\n",
        "      indices.append(index)\n",
        "      embeddings = embedding if embeddings is None else np.concatenate((embeddings, embedding), axis=0, dtype=np.single)\n",
        "\n",
        "  onto_embeddings = {\"indices\"    : indices,\n",
        "                     \"embeddings\" : embeddings}\n",
        "  return onto_embeddings"
      ],
      "metadata": {
        "id": "cnmwfmWTdOqh"
      },
      "execution_count": null,
      "outputs": []
    },
    {
      "cell_type": "markdown",
      "source": [
        "# Faiss ranking"
      ],
      "metadata": {
        "id": "VEH4XQTPOV7i"
      }
    },
    {
      "cell_type": "code",
      "source": [
        "def get_real_ranks(I, bi_embeddings, db_embeddings):\n",
        "  ranks = []\n",
        "  for i, target_embed in tqdm(enumerate(bi_embeddings[\"targets\"])):\n",
        "    for rank, j in enumerate(I[i]):\n",
        "      ranked_embed = db_embeddings[j]\n",
        "      if np.array_equal(target_embed, ranked_embed):\n",
        "        ranks.append(rank + 1)\n",
        "        break\n",
        "  return ranks\n",
        "\n",
        "def plot_ranks(ranks, feature, negatives, database):\n",
        "  plt.figure()\n",
        "  plt.hist(ranks, bins=max(ranks) // 100)\n",
        "  plt.xlabel(\"Subsumer rank\")\n",
        "  plt.ylabel(\"No. of queries\")\n",
        "  plt.title(f\"Correct subsumer rank distribution across queries ({feature}, {negatives}, {database})\")\n",
        "  plt.savefig(f\"bi_ranking_histogram_{feature}_{negatives}_{database}.png\")\n",
        "\n",
        "def compute_result(ranks):\n",
        "  result = {}\n",
        "\n",
        "  raw_at_rank = lambda x: len([r for r in ranks if r <= x])\n",
        "  hits_at_rank = lambda x: x / len(ranks)\n",
        "  for r in [1, 10, 100, 1000]:\n",
        "    score = hits_at_rank(raw_at_rank(r))\n",
        "    result[f\"Hits@{r}\"] = score\n",
        "\n",
        "  result[\"MRR\"]     = np.mean(1 / np.array(ranks))\n",
        "  result[\"Highest\"] = np.min(ranks)\n",
        "  result[\"Median\"]  = np.median(ranks)\n",
        "  result[\"Mean\"]    = np.mean(ranks)\n",
        "  result[\"Lowest\"]  = np.max(ranks)\n",
        "\n",
        "  return result\n",
        "\n",
        "def pretty_print_result(result, feature, negatives, database):\n",
        "  result_str = f\"\\nPerformance on ({feature}, {negatives}, {database}):\\n\\n\"\n",
        "\n",
        "  for (name, value) in result.items():\n",
        "    if name.startswith(\"Hits@\"):\n",
        "      result_str += f\"{name:<6} = {value:.3f}\\n\"\n",
        "    elif name == \"MRR\":\n",
        "      result_str += f\"MRR    = {value:.3f}\\n\\n\"\n",
        "    elif not isinstance(value, str):\n",
        "      result_str += f\"{name}:\" + \" \" * (13 - len(name)) + f\"{value:.1f}\\n\"\n",
        "\n",
        "  result_str += \"\\n\"\n",
        "  print(result_str)"
      ],
      "metadata": {
        "id": "gse87owrvf_3"
      },
      "execution_count": null,
      "outputs": []
    },
    {
      "cell_type": "code",
      "source": [
        "dir = \"\"\n",
        "dir = \"/content/drive/MyDrive/embeddings/\"\n",
        "features = ['term', 'int', 'ext']\n",
        "negative_sampling = ['random', 'multi', 'neighbour']\n",
        "columns = [\"database\", \"feature\", \"negatives\", \"Hits@1\", \"Hits@10\", \"Hits@100\", \"Hits@1000\", \"MRR\", \"Highest\", \"Median\", \"Mean\", \"Lowest\"]\n",
        "results_df = pd.DataFrame(columns=columns)\n",
        "all_ranks = {}\n",
        "\n",
        "for (feature, negatives) in list(itertools.product(features, negative_sampling)):\n",
        "  bi_embeddings = read_bi_embeddings_from_file(f\"{dir}bi_test_embeddings_{feature}_{negatives}.csv\")\n",
        "  random_embeddings = read_onto_embeddings_from_file(f\"{dir}random_embeddings_{feature}_{negatives}.csv\")\n",
        "  hard_embeddings = read_onto_embeddings_from_file(f\"{dir}hard_embeddings_{feature}_{negatives}.csv\")\n",
        "  onto_embeddings = read_onto_embeddings_from_file(f\"{dir}doid_embeddings_{feature}_{negatives}.csv\")\n",
        "  databases = {\"hard\" : hard_embeddings, \"onto\" : onto_embeddings, \"random\" : random_embeddings}\n",
        "\n",
        "  for (db_type, db_embeddings) in databases.items():\n",
        "    if db_embeddings is None:\n",
        "      continue\n",
        "\n",
        "    print()\n",
        "    print(feature, negatives, db_type)\n",
        "\n",
        "    xq = bi_embeddings[\"sources\"]\n",
        "    xb = db_embeddings[\"embeddings\"]\n",
        "\n",
        "    xb = np.concatenate((xb, bi_embeddings[\"targets\"]), axis=0)\n",
        "    print(f\"Database ({db_type}) contains {len(xb)} terms\")\n",
        "\n",
        "    d = xb[0].shape[0]\n",
        "    q_size = len(xq)\n",
        "    db_size = len(xb)\n",
        "\n",
        "    res = faiss.StandardGpuResources()\n",
        "    index_flat = faiss.IndexFlatIP(d)\n",
        "    index_flat.add(xb)\n",
        "    D, I = index_flat.search(xq, db_size)\n",
        "\n",
        "    ranks = get_real_ranks(I, bi_embeddings, xb)\n",
        "    if not ranks:\n",
        "      print(\"No ranks!\\n\")\n",
        "      continue\n",
        "    else:\n",
        "      print(len(ranks))\n",
        "\n",
        "    plot_ranks(ranks, feature, negatives, db_type)\n",
        "    result = {\"database\" : db_type, \"feature\" : feature, \"negatives\" : negatives}\n",
        "    result = result | compute_result(ranks)\n",
        "    # pretty_print_result(result, feature, negatives, db_type)\n",
        "\n",
        "    results_df.loc[len(results_df)] = result\n",
        "    results_df.sort_values(by=[\"database\", \"feature\", \"negatives\"]).to_csv(\"bi_ranking_metrics.csv\", index=False)\n",
        "\n",
        "    all_ranks[(db_type, feature, negatives)] = ranks\n",
        "    with open(\"bi_ranks.csv\", \"a\") as f:\n",
        "      f.write(f\"{db_type},{feature},{negatives},{','.join(list(map(str, ranks)))}\\n\")\n",
        "\n",
        "    print()"
      ],
      "metadata": {
        "id": "FI95Q0Q_dTEa"
      },
      "execution_count": null,
      "outputs": []
    },
    {
      "cell_type": "code",
      "source": [
        "json_ranks = {\",\".join(k) : v for (k,v) in all_ranks.items()}\n",
        "with open('ranks.json', 'w', encoding='utf-8') as f:\n",
        "    json.dump(json_ranks, f, ensure_ascii=False, indent=4)"
      ],
      "metadata": {
        "id": "fLOA9J0xY54M"
      },
      "execution_count": null,
      "outputs": []
    },
    {
      "cell_type": "markdown",
      "source": [
        "# Box plots"
      ],
      "metadata": {
        "id": "wFh2fa4BuyHC"
      }
    },
    {
      "cell_type": "code",
      "source": [
        "import matplotlib as mpl\n",
        "import matplotlib.pyplot as plt"
      ],
      "metadata": {
        "id": "S-iO-qAyyUwH"
      },
      "execution_count": 15,
      "outputs": []
    },
    {
      "cell_type": "code",
      "source": [
        "with open('ranks.json', 'r', encoding='utf-8') as f:\n",
        "  ranks = json.load(f)"
      ],
      "metadata": {
        "id": "sxrahFPJv597"
      },
      "execution_count": 36,
      "outputs": []
    },
    {
      "cell_type": "code",
      "source": [
        "ranks_clean = {tuple(k.split(\",\")) : v for (k,v) in ranks.items()}\n",
        "print(ranks_clean.keys())"
      ],
      "metadata": {
        "colab": {
          "base_uri": "https://localhost:8080/"
        },
        "id": "dhDtQ-AWzpzF",
        "outputId": "7f702fff-3f9c-43e2-8571-bcc800155e47"
      },
      "execution_count": 37,
      "outputs": [
        {
          "output_type": "stream",
          "name": "stdout",
          "text": [
            "dict_keys([('hard', 'int', 'random'), ('onto', 'int', 'random'), ('random', 'int', 'random'), ('hard', 'int', 'multi'), ('onto', 'int', 'multi'), ('random', 'int', 'multi'), ('hard', 'int', 'neighbour'), ('onto', 'int', 'neighbour'), ('random', 'int', 'neighbour'), ('hard', 'ext', 'random'), ('onto', 'ext', 'random'), ('random', 'ext', 'random'), ('hard', 'ext', 'multi'), ('onto', 'ext', 'multi'), ('random', 'ext', 'multi'), ('hard', 'ext', 'neighbour'), ('onto', 'ext', 'neighbour'), ('random', 'ext', 'neighbour'), ('hard', 'term', 'random'), ('onto', 'term', 'random'), ('random', 'term', 'random'), ('hard', 'term', 'multi'), ('onto', 'term', 'multi'), ('random', 'term', 'multi'), ('hard', 'term', 'neighbour'), ('onto', 'term', 'neighbour'), ('random', 'term', 'neighbour')])\n"
          ]
        }
      ]
    },
    {
      "cell_type": "code",
      "source": [
        "features = ['term', 'int', 'ext']\n",
        "negative_sampling = ['random', 'multi', 'neighbour']\n",
        "\n",
        "onto_ranks = {k[1:] : v for (k,v) in ranks_clean.items() if k[0] == \"onto\" and k[1] == \"ext\"}\n",
        "print(onto_ranks.keys())\n",
        "\n",
        "list_ranks = [onto_ranks[k] for k in itertools.product(features, negative_sampling) if k in onto_ranks]\n",
        "print(len(list_ranks))"
      ],
      "metadata": {
        "colab": {
          "base_uri": "https://localhost:8080/"
        },
        "id": "aFdrR92hwVhX",
        "outputId": "e52ef602-cc0a-4e8d-ec6f-0cf64c0864a7"
      },
      "execution_count": 39,
      "outputs": [
        {
          "output_type": "stream",
          "name": "stdout",
          "text": [
            "dict_keys([('ext', 'random'), ('ext', 'multi'), ('ext', 'neighbour')])\n",
            "3\n"
          ]
        }
      ]
    },
    {
      "cell_type": "code",
      "source": [
        "fig = plt.figure(figsize=(7,3))\n",
        "ax = fig.add_subplot(1,1,1)\n",
        "main_color = \"whitesmoke\"\n",
        "\n",
        "ax.boxplot(list_ranks[::-1], notch=True, vert=False,\n",
        "           positions=np.arange(len(list_ranks))/2,\n",
        "           widths=0.3, bootstrap=40,\n",
        "           showfliers=False,\n",
        "           patch_artist=True, showcaps=True,\n",
        "           boxprops={\"facecolor\":\"None\", \"edgecolor\":'mediumslateblue', \"linewidth\":1},\n",
        "           whiskerprops={\"linewidth\":0.5, \"linestyle\":(5, (10, 3))},\n",
        "           capprops={\"linewidth\":0.5},\n",
        "           flierprops={\"markersize\":3, \"alpha\" : 0.2},\n",
        "           medianprops = {\"color\":'tomato', \"linewidth\":1})\n",
        "ax.set_yticklabels(\n",
        "    [\"E-feat+R-neg\", \"E-feat+MR-neg\", \"E-feat+MN-neg\"][::-1],\n",
        "    fontfamily=\"serif\"\n",
        ")\n",
        "for label in ax.get_xticklabels():\n",
        "  label.set_fontproperties(\"serif\")\n",
        "ax.set_xlabel(\"True subsumer ranks\", fontfamily=\"serif\")\n",
        "ax.set_facecolor(main_color)\n",
        "ax.grid(color=\"white\", linewidth=2)\n",
        "for spine in [\"top\", \"right\", \"bottom\", \"left\"]:\n",
        "  ax.spines[spine].set_visible(False)"
      ],
      "metadata": {
        "colab": {
          "base_uri": "https://localhost:8080/",
          "height": 311
        },
        "id": "d0iInesuvrHK",
        "outputId": "a5632ef5-86ab-4d77-e6b3-234241254926"
      },
      "execution_count": 212,
      "outputs": [
        {
          "output_type": "display_data",
          "data": {
            "text/plain": [
              "<Figure size 700x300 with 1 Axes>"
            ],
            "image/png": "[encoded data removed]"
          },
          "metadata": {}
        }
      ]
    },
    {
      "cell_type": "code",
      "source": [
        "fig = plt.figure(figsize=(7,3))\n",
        "ax = fig.add_subplot(1,1,1)\n",
        "main_color = \"whitesmoke\"\n",
        "positions = np.arange(len(list_ranks))/2\n",
        "\n",
        "ax.boxplot(\n",
        "    list_ranks[::-1], notch=True, vert=False,\n",
        "    positions=positions,\n",
        "    widths=0.3, bootstrap=40,\n",
        "    showfliers=True,\n",
        "    patch_artist=True, showcaps=True,\n",
        "    boxprops={\"facecolor\":\"None\", \"edgecolor\":'mediumslateblue', \"linewidth\":1},\n",
        "    whiskerprops={\"linewidth\":0.5, \"linestyle\":(5, (10, 3))},\n",
        "    capprops={\"linewidth\":0.5},\n",
        "    flierprops={\"markersize\":3, \"alpha\" : 0.1, \"markeredgecolor\":\"red\"},\n",
        "    medianprops = {\"color\":'tomato', \"linewidth\":1}\n",
        ")\n",
        "ax.plot(4324, positions[0], marker='o', markersize=3, markeredgecolor=\"red\", markerfacecolor='red', linestyle='', alpha=1)\n",
        "ax.plot(12996, positions[1], marker='o', markersize=3, markeredgecolor=\"red\", markerfacecolor='red', linestyle='', alpha=1)\n",
        "ax.plot(13977, positions[2], marker='o', markersize=3, markeredgecolor=\"red\", markerfacecolor='red', linestyle='', alpha=1)\n",
        "\n",
        "ax.set_yticklabels(\n",
        "    [\"E-feat+R-neg\", \"E-feat+MR-neg\", \"E-feat+MN-neg\"][::-1],\n",
        "    fontfamily=\"serif\"\n",
        ")\n",
        "for label in ax.get_xticklabels():\n",
        "  label.set_fontproperties(\"serif\")\n",
        "ax.set_xlabel(\"True subsumer ranks\", fontfamily=\"serif\")\n",
        "ax.set_facecolor(main_color)\n",
        "ax.grid(color=\"white\", linewidth=2)\n",
        "for spine in [\"top\", \"right\", \"bottom\", \"left\"]:\n",
        "  ax.spines[spine].set_visible(False)"
      ],
      "metadata": {
        "colab": {
          "base_uri": "https://localhost:8080/",
          "height": 311
        },
        "id": "4jrKhZ0p_apS",
        "outputId": "f1dfb29f-b6ca-4bec-f15c-1ae97a02ca96"
      },
      "execution_count": 213,
      "outputs": [
        {
          "output_type": "display_data",
          "data": {
            "text/plain": [
              "<Figure size 700x300 with 1 Axes>"
            ],
            "image/png": "[encoded data removed]"
          },
          "metadata": {}
        }
      ]
    },
    {
      "cell_type": "markdown",
      "source": [
        "# Search space pruning"
      ],
      "metadata": {
        "id": "-qsVTyaqR76g"
      }
    },
    {
      "cell_type": "code",
      "source": [
        "def read_bi_sentences(filepath):\n",
        "  source_sentences, target_sentences, labels = [], [], []\n",
        "  with open(filepath) as f:\n",
        "    for line in f:\n",
        "      source_sentence, target_sentence, label = [field.strip('\"') for field in line.strip().split('\",\"')]\n",
        "      source_sentences.append(source_sentence)\n",
        "      target_sentences.append(target_sentence)\n",
        "      labels.append(label)\n",
        "  return source_sentences, target_sentences, labels\n",
        "\n",
        "def read_onto_sentences(filepath):\n",
        "  sentences = []\n",
        "  with open(filepath) as f:\n",
        "    for line in f:\n",
        "      sentences.append(line.strip().strip('\"'))\n",
        "  return sentences\n",
        "\n",
        "def write_cross_encoder_sentences(sentences, filepath):\n",
        "  sentences, labels = sentences\n",
        "  with open(filepath, \"w\") as f:\n",
        "    for (sentence, label) in zip(sentences, labels):\n",
        "      f.write(f'\"{sentence}\",\"{label}\"\\n')"
      ],
      "metadata": {
        "id": "bhs7r1-xR7VE"
      },
      "execution_count": null,
      "outputs": []
    },
    {
      "cell_type": "code",
      "source": [
        "dir = \"/content/drive/MyDrive\"\n",
        "feature, negatives, db_type = 'ext', 'multi', \"onto\"\n",
        "direction = \"ncit2doid\"\n",
        "print(feature, negatives, db_type)\n",
        "\n",
        "bi_embeddings = read_bi_embeddings_from_file(f\"{dir}/embeddings/bi_test_embeddings_{feature}_{negatives}.csv\")\n",
        "db_embeddings = read_onto_embeddings_from_file(f\"{dir}/embeddings/doid_embeddings_{feature}_{negatives}.csv\")"
      ],
      "metadata": {
        "id": "7tKlEuQaPXb5"
      },
      "execution_count": null,
      "outputs": []
    },
    {
      "cell_type": "code",
      "source": [
        "xq = bi_embeddings[\"sources\"]\n",
        "xb = db_embeddings[\"embeddings\"]\n",
        "xb = np.concatenate((xb, bi_embeddings[\"targets\"]), axis=0)\n",
        "\n",
        "\n",
        "offset = len(db_embeddings[\"embeddings\"])\n",
        "index = {i : f\"o{db_embeddings['indices'][i]}\" for i in range(offset)}\n",
        "for i in range(len(xq)):\n",
        "  index[offset + i] = f\"t{bi_embeddings['indices'][i]}\"\n",
        "\n",
        "d = xb[0].shape[0]\n",
        "q_size = len(xq)\n",
        "db_size = len(xb)\n",
        "\n",
        "res = faiss.StandardGpuResources()\n",
        "index_flat = faiss.IndexFlatIP(d)\n",
        "index_flat.add(xb)\n",
        "D, I = index_flat.search(xq, db_size)\n",
        "\n",
        "ranks = get_real_ranks(I, bi_embeddings, xb)\n",
        "compute_result(ranks)"
      ],
      "metadata": {
        "id": "c-zoM0fqZOCG"
      },
      "execution_count": null,
      "outputs": []
    },
    {
      "cell_type": "code",
      "source": [
        "sentence_feature = \"int\"\n",
        "source_sentences, target_sentences, labels = read_bi_sentences(f\"{dir}/sentences/bi_sentences_{sentence_feature}_{negatives}_{direction}.csv\")\n",
        "onto_sentences = read_onto_sentences(f\"{dir}/sentences/{direction.split('2')[1]}_sentences_{sentence_feature}.csv\")\n",
        "sentences, labels = [], []\n",
        "cutoff = 100\n",
        "\n",
        "for i in range(len(xq)):\n",
        "  for j in I[i][:cutoff]:\n",
        "    label = 0\n",
        "\n",
        "    source_index = bi_embeddings[\"indices\"][i]\n",
        "    source_sentence = source_sentences[source_index]\n",
        "\n",
        "    target_code, target_index = index[j][0], int(index[j][1:])\n",
        "    if target_code == \"t\":\n",
        "      target_sentence = target_sentences[target_index]\n",
        "      if source_index == target_index:\n",
        "        label = 1\n",
        "    else:\n",
        "      target_sentence = onto_sentences[target_index]\n",
        "\n",
        "\n",
        "    sentence = \"[SEP][CLS]\".join([source_sentence, target_sentence])\n",
        "    sentences.append(sentence)\n",
        "    labels.append(label)\n",
        "\n",
        "write_cross_encoder_sentences((sentences, labels), f\"faiss_{cutoff}_sentences_{sentence_feature}_{direction}.csv\")"
      ],
      "metadata": {
        "id": "czAAAz_TWoX5"
      },
      "execution_count": null,
      "outputs": []
    }
  ]
}
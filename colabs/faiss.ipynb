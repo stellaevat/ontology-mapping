{
  "nbformat": 4,
  "nbformat_minor": 0,
  "metadata": {
    "colab": {
      "provenance": [],
      "authorship_tag": "ABX9TyOcn5SbpNJWcLMOYOllTDlV",
      "include_colab_link": true
    },
    "kernelspec": {
      "name": "python3",
      "display_name": "Python 3"
    },
    "language_info": {
      "name": "python"
    }
  },
  "cells": [
    {
      "cell_type": "markdown",
      "metadata": {
        "id": "view-in-github",
        "colab_type": "text"
      },
      "source": [
        "<a href=\"https://colab.research.google.com/github/stellaevat/ontology-mapping/blob/main/colabs/faiss.ipynb\" target=\"_parent\"><img src=\"https://colab.research.google.com/assets/colab-badge.svg\" alt=\"Open In Colab\"/></a>"
      ]
    },
    {
      "cell_type": "code",
      "execution_count": null,
      "metadata": {
        "id": "zg1BOxf1KlAU"
      },
      "outputs": [],
      "source": [
        "!pip install faiss-gpu"
      ]
    },
    {
      "cell_type": "code",
      "source": [
        "from google.colab import drive\n",
        "drive.mount('/content/drive')"
      ],
      "metadata": {
        "id": "fyACOW5XgpgZ"
      },
      "execution_count": null,
      "outputs": []
    },
    {
      "cell_type": "code",
      "source": [
        "import os\n",
        "os.environ['CUDA_LAUNCH_BLOCKING'] = \"1\"\n",
        "os.environ['CUBLAS_WORKSPACE_CONFIG'] = \":4096:8\""
      ],
      "metadata": {
        "id": "RQPDnoD3mcxf"
      },
      "execution_count": null,
      "outputs": []
    },
    {
      "cell_type": "code",
      "source": [
        "import gc\n",
        "import torch\n",
        "import faiss\n",
        "import numpy as np\n",
        "import pandas as pd\n",
        "import matplotlib.pyplot as plt\n",
        "from tqdm import tqdm"
      ],
      "metadata": {
        "id": "YFVyasHU3Hk7"
      },
      "execution_count": null,
      "outputs": []
    },
    {
      "cell_type": "markdown",
      "source": [
        "# Read/Write to file"
      ],
      "metadata": {
        "id": "6uM7hsKBdLSa"
      }
    },
    {
      "cell_type": "code",
      "source": [
        "def read_bi_embeddings_from_file(filepath):\n",
        "  indices, sources, targets = [], [], []\n",
        "\n",
        "  with open(filepath) as f:\n",
        "    progress_bar = tqdm(range(len(f)), position=0, leave=True)\n",
        "    for line in f:\n",
        "      strings = line.strip().split(\",[\")\n",
        "      lists = [list(map(float, s.strip(\"[]\").split(\",\"))) for s in strings[1:]]\n",
        "      source, target = lists\n",
        "      index = int(strings[0])\n",
        "\n",
        "      indices.append(index)\n",
        "      sources.append(source)\n",
        "      targets.append(target)\n",
        "      progress_bar.update(1)\n",
        "\n",
        "  bi_embeddings = {\"indices\" : indices,\n",
        "                   \"sources\" : np.array(sources, dtype=np.single),\n",
        "                   \"targets\" : np.array(targets, dtype=np.single)}\n",
        "  return bi_embeddings\n",
        "\n",
        "def read_onto_embeddings_from_file(filepath):\n",
        "  indices, embeddings = [], []\n",
        "\n",
        "  with open(filepath) as f:\n",
        "    progress_bar = tqdm(range(len(f)), position=0, leave=True)\n",
        "    for line in f:\n",
        "      strings = line.strip().split(\",[\")\n",
        "      embedding = list(map(float, strings[1].strip(\"[]\").split(\",\")))\n",
        "      index = int(strings[0])\n",
        "\n",
        "      indices.append(index)\n",
        "      embeddings.append(embeddings)\n",
        "      progress_bar.update(1)\n",
        "\n",
        "  onto_embeddings = {\"indices\"    : indices,\n",
        "                     \"embeddings\" : np.array(embeddings, dtype=np.single)}\n",
        "  return onto_embeddings"
      ],
      "metadata": {
        "id": "cnmwfmWTdOqh"
      },
      "execution_count": null,
      "outputs": []
    },
    {
      "cell_type": "code",
      "source": [
        "features = ['term', 'int', 'ext']\n",
        "negative_sampling = ['random', 'multi', 'neighbour']\n",
        "\n",
        "feature = features[2]\n",
        "negatives = negative_sampling[2]\n",
        "\n",
        "dir = \"\"\n",
        "dir = \"/content/drive/MyDrive/embeddings/\"\n",
        "\n",
        "bi_embeddings = read_bi_embeddings_from_file(f\"{dir}bi_embeddings_{feature}_{negatives}.csv\")\n",
        "onto_embeddings = read_onto_embeddings_from_file(f\"{dir}doid_embeddings_{feature}_{negatives}.csv\")"
      ],
      "metadata": {
        "id": "FI95Q0Q_dTEa"
      },
      "execution_count": null,
      "outputs": []
    },
    {
      "cell_type": "markdown",
      "source": [
        "# Faiss"
      ],
      "metadata": {
        "id": "VEH4XQTPOV7i"
      }
    },
    {
      "cell_type": "code",
      "source": [
        "xq = bi_embeddings[\"sources\"]\n",
        "xb = onto_embeddings[\"embeddings\"]\n",
        "d = len(xb[0])\n",
        "\n",
        "print(d, xq.shape, xb.shape)"
      ],
      "metadata": {
        "id": "LjEMl6vydYKm"
      },
      "execution_count": null,
      "outputs": []
    },
    {
      "cell_type": "code",
      "source": [
        "offset = 0\n",
        "q_size = len(xq)\n",
        "db_size = len(xb)"
      ],
      "metadata": {
        "id": "VLTbhwwrCCfD"
      },
      "execution_count": null,
      "outputs": []
    },
    {
      "cell_type": "code",
      "source": [
        "res = faiss.StandardGpuResources()  # use a single GPU\n",
        "\n",
        "index_flat = faiss.IndexFlatIP(d)   # build a flat (CPU) index\n",
        "\n",
        "index_flat.add(xb)                  # add vectors to the index\n",
        "print(index_flat.ntotal)\n",
        "\n",
        "k = db_size                         # we want to see 100 nearest neighbors\n",
        "D, I = index_flat.search(xq, k)     # actual search"
      ],
      "metadata": {
        "id": "JfhazGnF6tce"
      },
      "execution_count": null,
      "outputs": []
    },
    {
      "cell_type": "code",
      "source": [
        "# count = 0\n",
        "# sim = torch.nn.CosineSimilarity(dim=-1)\n",
        "# for i in range(q_size):\n",
        "#   score = sim(tokenized_queries[i], tokenized_database[i])\n",
        "#   if score >= 0.95:\n",
        "#     count += 1\n",
        "#     # print(score)\n",
        "\n",
        "# print(count)"
      ],
      "metadata": {
        "id": "4MMPNl586r22"
      },
      "execution_count": null,
      "outputs": []
    },
    {
      "cell_type": "code",
      "source": [
        "# ranks = []\n",
        "# for i in range(q_size):\n",
        "#   source, target = queries[offset + i], database[offset + i]\n",
        "#   # print(\"\\nSource:\", source)\n",
        "#   # print(\"Target:\", target)\n",
        "\n",
        "#   for n, index in enumerate(I[i]):\n",
        "#     # print(n + 1, database[offset + index])\n",
        "#     if database[offset + index] == target:\n",
        "#       ranks.append(n + 1)\n",
        "#       # print(\"Rank found:\", n + 1)\n",
        "#       break\n",
        "#     # if n == k - 1:\n",
        "#     #   print(\"Not found\")"
      ],
      "metadata": {
        "id": "RE5GxBXRgMbt"
      },
      "execution_count": null,
      "outputs": []
    },
    {
      "cell_type": "code",
      "source": [
        "# plt.hist(ranks, bins=max(ranks) // 10)"
      ],
      "metadata": {
        "id": "Z37GxccYwYS-"
      },
      "execution_count": null,
      "outputs": []
    },
    {
      "cell_type": "code",
      "source": [
        "# to_consider = 100\n",
        "# in_first = ranks.count(1)\n",
        "# in_ten = len([r for r in ranks if r <= 10])\n",
        "# in_consider = len([r for r in ranks if r <= to_consider])\n",
        "# in_all = len(ranks)\n",
        "# mrr = np.mean(1 / np.array(ranks))\n",
        "\n",
        "# print(f\"In first result: {in_first} ({(100 * in_first / len(ranks)):.1f}%)\")\n",
        "# print(f\"In first 10 results: {in_ten} ({(100 * in_ten / len(ranks)):.1f}%)\")\n",
        "# print(f\"In first {to_consider} results: {in_consider} ({(100 * in_consider / len(ranks)):.1f}%)\")\n",
        "# print(f\"In first {k} results: {in_all} ({(100 * in_all / len(ranks)):.1f}%)\")\n",
        "# print(f\"Lowest rank: {max(ranks)}\")\n",
        "# print(f\"MRR: {mrr:.3f}\")\n",
        "\n",
        "# ## (can you load-unload model to file?)"
      ],
      "metadata": {
        "id": "IXFaM2QmeBTs"
      },
      "execution_count": null,
      "outputs": []
    },
    {
      "cell_type": "code",
      "source": [
        "# del xq\n",
        "# del xb\n",
        "# del bi_embeddings\n",
        "# del onto_embeddings\n",
        "# gc.collect()"
      ],
      "metadata": {
        "id": "OkC_VNPZgMSk"
      },
      "execution_count": null,
      "outputs": []
    }
  ]
}
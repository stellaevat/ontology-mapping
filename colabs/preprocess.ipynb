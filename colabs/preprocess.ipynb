{
  "nbformat": 4,
  "nbformat_minor": 0,
  "metadata": {
    "colab": {
      "provenance": [],
      "gpuType": "T4",
      "authorship_tag": "ABX9TyOPYSrmRiHTMr/L0pFo2zSk",
      "include_colab_link": true
    },
    "kernelspec": {
      "name": "python3",
      "display_name": "Python 3"
    },
    "language_info": {
      "name": "python"
    },
    "accelerator": "GPU",
    "widgets": {
      "application/vnd.jupyter.widget-state+json": {
        "922f1ee5cd38490faef5bad5455fc3dc": {
          "model_module": "@jupyter-widgets/controls",
          "model_name": "HBoxModel",
          "model_module_version": "1.5.0",
          "state": {
            "_dom_classes": [],
            "_model_module": "@jupyter-widgets/controls",
            "_model_module_version": "1.5.0",
            "_model_name": "HBoxModel",
            "_view_count": null,
            "_view_module": "@jupyter-widgets/controls",
            "_view_module_version": "1.5.0",
            "_view_name": "HBoxView",
            "box_style": "",
            "children": [
              "IPY_MODEL_28a14f6981704a1cab2a83c890e7841a",
              "IPY_MODEL_8602307be446408a8b4e60fe3e526782",
              "IPY_MODEL_fd90928faddc48a29e383422fd2fcbb8"
            ],
            "layout": "IPY_MODEL_fa77c905c0954fa5941a935621b3cc16"
          }
        },
        "28a14f6981704a1cab2a83c890e7841a": {
          "model_module": "@jupyter-widgets/controls",
          "model_name": "HTMLModel",
          "model_module_version": "1.5.0",
          "state": {
            "_dom_classes": [],
            "_model_module": "@jupyter-widgets/controls",
            "_model_module_version": "1.5.0",
            "_model_name": "HTMLModel",
            "_view_count": null,
            "_view_module": "@jupyter-widgets/controls",
            "_view_module_version": "1.5.0",
            "_view_name": "HTMLView",
            "description": "",
            "description_tooltip": null,
            "layout": "IPY_MODEL_2b1244ada7574fc3848fe892411b0c00",
            "placeholder": "​",
            "style": "IPY_MODEL_674b988942144401a101e46e3ab95ad3",
            "value": "Downloading pytorch_model.bin: 100%"
          }
        },
        "8602307be446408a8b4e60fe3e526782": {
          "model_module": "@jupyter-widgets/controls",
          "model_name": "FloatProgressModel",
          "model_module_version": "1.5.0",
          "state": {
            "_dom_classes": [],
            "_model_module": "@jupyter-widgets/controls",
            "_model_module_version": "1.5.0",
            "_model_name": "FloatProgressModel",
            "_view_count": null,
            "_view_module": "@jupyter-widgets/controls",
            "_view_module_version": "1.5.0",
            "_view_name": "ProgressView",
            "bar_style": "success",
            "description": "",
            "description_tooltip": null,
            "layout": "IPY_MODEL_3a3fa55f93f6437499962ba92a5cc280",
            "max": 440474434,
            "min": 0,
            "orientation": "horizontal",
            "style": "IPY_MODEL_f749ffafdab244ef91441423da501a20",
            "value": 440474434
          }
        },
        "fd90928faddc48a29e383422fd2fcbb8": {
          "model_module": "@jupyter-widgets/controls",
          "model_name": "HTMLModel",
          "model_module_version": "1.5.0",
          "state": {
            "_dom_classes": [],
            "_model_module": "@jupyter-widgets/controls",
            "_model_module_version": "1.5.0",
            "_model_name": "HTMLModel",
            "_view_count": null,
            "_view_module": "@jupyter-widgets/controls",
            "_view_module_version": "1.5.0",
            "_view_name": "HTMLView",
            "description": "",
            "description_tooltip": null,
            "layout": "IPY_MODEL_59ec00a20fa9452f8a2e8749f8fe62ea",
            "placeholder": "​",
            "style": "IPY_MODEL_eaff623fd0344bf991cd1cbc19fd1a20",
            "value": " 440M/440M [00:05&lt;00:00, 92.2MB/s]"
          }
        },
        "fa77c905c0954fa5941a935621b3cc16": {
          "model_module": "@jupyter-widgets/base",
          "model_name": "LayoutModel",
          "model_module_version": "1.2.0",
          "state": {
            "_model_module": "@jupyter-widgets/base",
            "_model_module_version": "1.2.0",
            "_model_name": "LayoutModel",
            "_view_count": null,
            "_view_module": "@jupyter-widgets/base",
            "_view_module_version": "1.2.0",
            "_view_name": "LayoutView",
            "align_content": null,
            "align_items": null,
            "align_self": null,
            "border": null,
            "bottom": null,
            "display": null,
            "flex": null,
            "flex_flow": null,
            "grid_area": null,
            "grid_auto_columns": null,
            "grid_auto_flow": null,
            "grid_auto_rows": null,
            "grid_column": null,
            "grid_gap": null,
            "grid_row": null,
            "grid_template_areas": null,
            "grid_template_columns": null,
            "grid_template_rows": null,
            "height": null,
            "justify_content": null,
            "justify_items": null,
            "left": null,
            "margin": null,
            "max_height": null,
            "max_width": null,
            "min_height": null,
            "min_width": null,
            "object_fit": null,
            "object_position": null,
            "order": null,
            "overflow": null,
            "overflow_x": null,
            "overflow_y": null,
            "padding": null,
            "right": null,
            "top": null,
            "visibility": null,
            "width": null
          }
        },
        "2b1244ada7574fc3848fe892411b0c00": {
          "model_module": "@jupyter-widgets/base",
          "model_name": "LayoutModel",
          "model_module_version": "1.2.0",
          "state": {
            "_model_module": "@jupyter-widgets/base",
            "_model_module_version": "1.2.0",
            "_model_name": "LayoutModel",
            "_view_count": null,
            "_view_module": "@jupyter-widgets/base",
            "_view_module_version": "1.2.0",
            "_view_name": "LayoutView",
            "align_content": null,
            "align_items": null,
            "align_self": null,
            "border": null,
            "bottom": null,
            "display": null,
            "flex": null,
            "flex_flow": null,
            "grid_area": null,
            "grid_auto_columns": null,
            "grid_auto_flow": null,
            "grid_auto_rows": null,
            "grid_column": null,
            "grid_gap": null,
            "grid_row": null,
            "grid_template_areas": null,
            "grid_template_columns": null,
            "grid_template_rows": null,
            "height": null,
            "justify_content": null,
            "justify_items": null,
            "left": null,
            "margin": null,
            "max_height": null,
            "max_width": null,
            "min_height": null,
            "min_width": null,
            "object_fit": null,
            "object_position": null,
            "order": null,
            "overflow": null,
            "overflow_x": null,
            "overflow_y": null,
            "padding": null,
            "right": null,
            "top": null,
            "visibility": null,
            "width": null
          }
        },
        "674b988942144401a101e46e3ab95ad3": {
          "model_module": "@jupyter-widgets/controls",
          "model_name": "DescriptionStyleModel",
          "model_module_version": "1.5.0",
          "state": {
            "_model_module": "@jupyter-widgets/controls",
            "_model_module_version": "1.5.0",
            "_model_name": "DescriptionStyleModel",
            "_view_count": null,
            "_view_module": "@jupyter-widgets/base",
            "_view_module_version": "1.2.0",
            "_view_name": "StyleView",
            "description_width": ""
          }
        },
        "3a3fa55f93f6437499962ba92a5cc280": {
          "model_module": "@jupyter-widgets/base",
          "model_name": "LayoutModel",
          "model_module_version": "1.2.0",
          "state": {
            "_model_module": "@jupyter-widgets/base",
            "_model_module_version": "1.2.0",
            "_model_name": "LayoutModel",
            "_view_count": null,
            "_view_module": "@jupyter-widgets/base",
            "_view_module_version": "1.2.0",
            "_view_name": "LayoutView",
            "align_content": null,
            "align_items": null,
            "align_self": null,
            "border": null,
            "bottom": null,
            "display": null,
            "flex": null,
            "flex_flow": null,
            "grid_area": null,
            "grid_auto_columns": null,
            "grid_auto_flow": null,
            "grid_auto_rows": null,
            "grid_column": null,
            "grid_gap": null,
            "grid_row": null,
            "grid_template_areas": null,
            "grid_template_columns": null,
            "grid_template_rows": null,
            "height": null,
            "justify_content": null,
            "justify_items": null,
            "left": null,
            "margin": null,
            "max_height": null,
            "max_width": null,
            "min_height": null,
            "min_width": null,
            "object_fit": null,
            "object_position": null,
            "order": null,
            "overflow": null,
            "overflow_x": null,
            "overflow_y": null,
            "padding": null,
            "right": null,
            "top": null,
            "visibility": null,
            "width": null
          }
        },
        "f749ffafdab244ef91441423da501a20": {
          "model_module": "@jupyter-widgets/controls",
          "model_name": "ProgressStyleModel",
          "model_module_version": "1.5.0",
          "state": {
            "_model_module": "@jupyter-widgets/controls",
            "_model_module_version": "1.5.0",
            "_model_name": "ProgressStyleModel",
            "_view_count": null,
            "_view_module": "@jupyter-widgets/base",
            "_view_module_version": "1.2.0",
            "_view_name": "StyleView",
            "bar_color": null,
            "description_width": ""
          }
        },
        "59ec00a20fa9452f8a2e8749f8fe62ea": {
          "model_module": "@jupyter-widgets/base",
          "model_name": "LayoutModel",
          "model_module_version": "1.2.0",
          "state": {
            "_model_module": "@jupyter-widgets/base",
            "_model_module_version": "1.2.0",
            "_model_name": "LayoutModel",
            "_view_count": null,
            "_view_module": "@jupyter-widgets/base",
            "_view_module_version": "1.2.0",
            "_view_name": "LayoutView",
            "align_content": null,
            "align_items": null,
            "align_self": null,
            "border": null,
            "bottom": null,
            "display": null,
            "flex": null,
            "flex_flow": null,
            "grid_area": null,
            "grid_auto_columns": null,
            "grid_auto_flow": null,
            "grid_auto_rows": null,
            "grid_column": null,
            "grid_gap": null,
            "grid_row": null,
            "grid_template_areas": null,
            "grid_template_columns": null,
            "grid_template_rows": null,
            "height": null,
            "justify_content": null,
            "justify_items": null,
            "left": null,
            "margin": null,
            "max_height": null,
            "max_width": null,
            "min_height": null,
            "min_width": null,
            "object_fit": null,
            "object_position": null,
            "order": null,
            "overflow": null,
            "overflow_x": null,
            "overflow_y": null,
            "padding": null,
            "right": null,
            "top": null,
            "visibility": null,
            "width": null
          }
        },
        "eaff623fd0344bf991cd1cbc19fd1a20": {
          "model_module": "@jupyter-widgets/controls",
          "model_name": "DescriptionStyleModel",
          "model_module_version": "1.5.0",
          "state": {
            "_model_module": "@jupyter-widgets/controls",
            "_model_module_version": "1.5.0",
            "_model_name": "DescriptionStyleModel",
            "_view_count": null,
            "_view_module": "@jupyter-widgets/base",
            "_view_module_version": "1.2.0",
            "_view_name": "StyleView",
            "description_width": ""
          }
        }
      }
    }
  },
  "cells": [
    {
      "cell_type": "markdown",
      "metadata": {
        "id": "view-in-github",
        "colab_type": "text"
      },
      "source": [
        "<a href=\"https://colab.research.google.com/github/stellaevat/ontology-mapping/blob/main/colabs/preprocess.ipynb\" target=\"_parent\"><img src=\"https://colab.research.google.com/assets/colab-badge.svg\" alt=\"Open In Colab\"/></a>"
      ]
    },
    {
      "cell_type": "code",
      "execution_count": null,
      "metadata": {
        "id": "zg1BOxf1KlAU"
      },
      "outputs": [],
      "source": [
        "!pip install pronto transformers datasets evaluate \\\n",
        "&& wget -O doid.obo https://gla-my.sharepoint.com/:u:/g/personal/2526934t_student_gla_ac_uk/EfUC_RdrfZdOsOrtmNATjuoBPDaIkSTUMyxJXyO2KKC6yw?download=1 \\\n",
        "&& wget -O ncit.obo https://gla-my.sharepoint.com/:u:/g/personal/2526934t_student_gla_ac_uk/ETmaJIC0fAlItdsp8WQxS_wBzKN_6x08EZrtsOxVnbzvSg?download=1"
      ]
    },
    {
      "cell_type": "code",
      "source": [
        "import pronto\n",
        "from transformers import AutoTokenizer, AutoModel, BioGptTokenizer, BioGptModel"
      ],
      "metadata": {
        "id": "YFVyasHU3Hk7"
      },
      "execution_count": 23,
      "outputs": []
    },
    {
      "cell_type": "code",
      "source": [
        "ncit = pronto.Ontology(\"ncit.obo\")\n",
        "doid = pronto.Ontology(\"doid.obo\")"
      ],
      "metadata": {
        "id": "xbIac4iK3ZeK"
      },
      "execution_count": 3,
      "outputs": []
    },
    {
      "cell_type": "code",
      "source": [
        "# Get subsumptions from CSV file to a dictionary\n",
        "\n",
        "def get_mappings_from_file(filename):\n",
        "  mappings = {}\n",
        "  with open(filename) as f:\n",
        "    for line in f:\n",
        "      source_id, target_id = line.strip().split(',')\n",
        "      mappings[source_id] = target_id\n",
        "  return mappings"
      ],
      "metadata": {
        "id": "SwXk14NN4MtF"
      },
      "execution_count": 4,
      "outputs": []
    },
    {
      "cell_type": "code",
      "source": [
        "doid2ncit_equiv = get_mappings_from_file(\"doid2ncit_equiv.csv\")\n",
        "ncit2doid_equiv = get_mappings_from_file(\"ncit2doid_equiv.csv\")"
      ],
      "metadata": {
        "id": "6UQVGr1YGrUF"
      },
      "execution_count": 5,
      "outputs": []
    },
    {
      "cell_type": "markdown",
      "source": [
        "# Convert relations to sentences\n",
        "\n",
        "> Currently considering parents, children & siblings for conceptual reasons, but could also take 'n-hop' appraoch, e.g. 1-hop only with parents and children, or 2-hop to include grandparents, grandchildren and siblings.\n",
        "\n",
        "> How do I incorporate the desired mapping for training? Should I incorporate both all this AND target info, or too much? Could be SELF + desired relatives instead, or SELF + PARENT + DESIRED PARENT, etc."
      ],
      "metadata": {
        "id": "4kBAYe8J3pRD"
      }
    },
    {
      "cell_type": "code",
      "source": [
        "# Create sentence from the given entity, containing its direct parents, children & siblings\n",
        "\n",
        "def get_sentence(source_id, target_id, source_onto, target_onto):\n",
        "  markers = [\"[SUB]\", \"[/SUB]\", \"[SUP]\", \"[/SUP]\", \"[SIBL]\", \"[/SIBL]\"]\n",
        "  sub_in, sub_out, sup_in, sup_out, sibl_in, sibl_out = markers\n",
        "\n",
        "  if source_id not in source_onto.terms() or target_id not in target_onto.terms():\n",
        "    return\n",
        "\n",
        "  subsumer = source_onto.get_term(source_id)\n",
        "  equivalent = target_onto.get_term(target_id)\n",
        "  parents = list(equivalent.superclasses(distance=1, with_self=False))\n",
        "\n",
        "  if len(parents) != 1:\n",
        "    return\n",
        "\n",
        "  supersumer = parents[0]\n",
        "  siblings = set(supersumer.subclasses(distance=1, with_self=False))\n",
        "  siblings.remove(equivalent)\n",
        "\n",
        "  sentence = [sub_in, subsumer.name, sub_out, sup_in, supersumer.name, sup_out]\n",
        "  for sibling in siblings:\n",
        "    sentence.extend([sibl_in, sibling.name, sibl_out])\n",
        "\n",
        "  return \" \".join(sentence)"
      ],
      "metadata": {
        "id": "Yvx837pI3q2Z"
      },
      "execution_count": 15,
      "outputs": []
    },
    {
      "cell_type": "code",
      "source": [
        "source_id = \"DOID:0014667\"\n",
        "sentence = get_sentence(source_id, doid2ncit_equiv[source_id], doid, ncit)\n",
        "print(sentence)"
      ],
      "metadata": {
        "colab": {
          "base_uri": "https://localhost:8080/"
        },
        "id": "aa5kp9Pg3t8C",
        "outputId": "8cba46b9-4a2a-4646-bcc6-fcff110ed57a"
      },
      "execution_count": 19,
      "outputs": [
        {
          "output_type": "stream",
          "name": "stdout",
          "text": [
            "[SUB] disease of metabolism [/SUB] [SUP] Non-Neoplastic Disorder by Special Category [/SUP] [SIBL] Endemic Disorder [/SIBL] [SIBL] Epidemic Disorder [/SIBL] [SIBL] Degenerative Disorder [/SIBL] [SIBL] Radiation-Related Non-Neoplastic Disorder [/SIBL] [SIBL] Rare Non-Neoplastic Disorder [/SIBL] [SIBL] Hamartoma [/SIBL] [SIBL] Hyperplasia [/SIBL] [SIBL] Inflammatory Disorder [/SIBL] [SIBL] Congenital or Acquired Anatomic Abnormality [/SIBL] [SIBL] Non-Communicable Disorder [/SIBL]\n"
          ]
        }
      ]
    },
    {
      "cell_type": "code",
      "source": [
        "samples = []\n",
        "for (doid_id, ncit_id) in doid2ncit_equiv.items():\n",
        "  if (sentence := get_sentence(doid_id, ncit_id, doid, ncit)):\n",
        "    samples.append(sentence)"
      ],
      "metadata": {
        "id": "Ssj9hefVvSQg"
      },
      "execution_count": 16,
      "outputs": []
    },
    {
      "cell_type": "code",
      "source": [
        "tokenizer = AutoTokenizer.from_pretrained(\"microsoft/BiomedNLP-PubMedBERT-base-uncased-abstract\")\n",
        "tokenizer.add_tokens([\"[SUB]\", \"[/SUB]\", \"[SUP]\", \"[/SUP]\", \"[SIBL]\", \"[/SIBL]\"])"
      ],
      "metadata": {
        "colab": {
          "base_uri": "https://localhost:8080/"
        },
        "id": "QubatHjc00Gh",
        "outputId": "b21772e5-37e6-433d-c963-541c1b6f83f9"
      },
      "execution_count": 29,
      "outputs": [
        {
          "output_type": "execute_result",
          "data": {
            "text/plain": [
              "6"
            ]
          },
          "metadata": {},
          "execution_count": 29
        }
      ]
    },
    {
      "cell_type": "code",
      "source": [
        "tokenized = tokenizer(sentence)\n",
        "tokenizer.convert_ids_to_tokens(tokenized['input_ids'])\n",
        "\n",
        "## Should we separate at dashes?"
      ],
      "metadata": {
        "colab": {
          "base_uri": "https://localhost:8080/"
        },
        "id": "Rh-lZ2Ev0v2q",
        "outputId": "0f6eaf48-c440-4f9c-b705-7561aa07d74d"
      },
      "execution_count": 20,
      "outputs": [
        {
          "output_type": "execute_result",
          "data": {
            "text/plain": [
              "['[CLS]',\n",
              " '[SUB]',\n",
              " 'disease',\n",
              " 'of',\n",
              " 'metabolism',\n",
              " '[/SUB]',\n",
              " '[SUP]',\n",
              " 'non',\n",
              " '-',\n",
              " 'neoplastic',\n",
              " 'disorder',\n",
              " 'by',\n",
              " 'special',\n",
              " 'category',\n",
              " '[/SUP]',\n",
              " '[SIBL]',\n",
              " 'endemic',\n",
              " 'disorder',\n",
              " '[/SIBL]',\n",
              " '[SIBL]',\n",
              " 'epidemic',\n",
              " 'disorder',\n",
              " '[/SIBL]',\n",
              " '[SIBL]',\n",
              " 'degenerative',\n",
              " 'disorder',\n",
              " '[/SIBL]',\n",
              " '[SIBL]',\n",
              " 'radiation',\n",
              " '-',\n",
              " 'related',\n",
              " 'non',\n",
              " '-',\n",
              " 'neoplastic',\n",
              " 'disorder',\n",
              " '[/SIBL]',\n",
              " '[SIBL]',\n",
              " 'rare',\n",
              " 'non',\n",
              " '-',\n",
              " 'neoplastic',\n",
              " 'disorder',\n",
              " '[/SIBL]',\n",
              " '[SIBL]',\n",
              " 'hamart',\n",
              " '##oma',\n",
              " '[/SIBL]',\n",
              " '[SIBL]',\n",
              " 'hyperplasia',\n",
              " '[/SIBL]',\n",
              " '[SIBL]',\n",
              " 'inflammatory',\n",
              " 'disorder',\n",
              " '[/SIBL]',\n",
              " '[SIBL]',\n",
              " 'congenital',\n",
              " 'or',\n",
              " 'acquired',\n",
              " 'anatomic',\n",
              " 'abnormality',\n",
              " '[/SIBL]',\n",
              " '[SIBL]',\n",
              " 'non',\n",
              " '-',\n",
              " 'communicable',\n",
              " 'disorder',\n",
              " '[/SIBL]',\n",
              " '[SEP]']"
            ]
          },
          "metadata": {},
          "execution_count": 20
        }
      ]
    },
    {
      "cell_type": "code",
      "source": [
        "model = AutoModel.from_pretrained(\"microsoft/BiomedNLP-PubMedBERT-base-uncased-abstract\")\n",
        "model.resize_token_embeddings(len(tokenizer))"
      ],
      "metadata": {
        "colab": {
          "base_uri": "https://localhost:8080/",
          "height": 66,
          "referenced_widgets": [
            "922f1ee5cd38490faef5bad5455fc3dc",
            "28a14f6981704a1cab2a83c890e7841a",
            "8602307be446408a8b4e60fe3e526782",
            "fd90928faddc48a29e383422fd2fcbb8",
            "fa77c905c0954fa5941a935621b3cc16",
            "2b1244ada7574fc3848fe892411b0c00",
            "674b988942144401a101e46e3ab95ad3",
            "3a3fa55f93f6437499962ba92a5cc280",
            "f749ffafdab244ef91441423da501a20",
            "59ec00a20fa9452f8a2e8749f8fe62ea",
            "eaff623fd0344bf991cd1cbc19fd1a20"
          ]
        },
        "id": "PJT0_S2y16q0",
        "outputId": "a2db18fd-faf8-4404-bebd-0881a0fbd67f"
      },
      "execution_count": 22,
      "outputs": [
        {
          "output_type": "display_data",
          "data": {
            "text/plain": [
              "Downloading pytorch_model.bin:   0%|          | 0.00/440M [00:00<?, ?B/s]"
            ],
            "application/vnd.jupyter.widget-view+json": {
              "version_major": 2,
              "version_minor": 0,
              "model_id": "922f1ee5cd38490faef5bad5455fc3dc"
            }
          },
          "metadata": {}
        },
        {
          "output_type": "execute_result",
          "data": {
            "text/plain": [
              "Embedding(28901, 768)"
            ]
          },
          "metadata": {},
          "execution_count": 22
        }
      ]
    }
  ]
}
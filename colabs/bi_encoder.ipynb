{
  "nbformat": 4,
  "nbformat_minor": 0,
  "metadata": {
    "colab": {
      "provenance": [],
      "gpuType": "T4",
      "authorship_tag": "ABX9TyNIXVrjqw/TG6tmLS5vKE5T",
      "include_colab_link": true
    },
    "kernelspec": {
      "name": "python3",
      "display_name": "Python 3"
    },
    "language_info": {
      "name": "python"
    },
    "accelerator": "GPU"
  },
  "cells": [
    {
      "cell_type": "markdown",
      "metadata": {
        "id": "view-in-github",
        "colab_type": "text"
      },
      "source": [
        "<a href=\"https://colab.research.google.com/github/stellaevat/ontology-mapping/blob/main/colabs/bi_encoder.ipynb\" target=\"_parent\"><img src=\"https://colab.research.google.com/assets/colab-badge.svg\" alt=\"Open In Colab\"/></a>"
      ]
    },
    {
      "cell_type": "code",
      "execution_count": null,
      "metadata": {
        "id": "zg1BOxf1KlAU"
      },
      "outputs": [],
      "source": [
        "!pip install transformers[torch] datasets evaluate"
      ]
    },
    {
      "cell_type": "code",
      "source": [
        "import os\n",
        "os.environ['CUDA_LAUNCH_BLOCKING'] = \"1\"\n",
        "os.environ['CUBLAS_WORKSPACE_CONFIG'] = \":4096:8\""
      ],
      "metadata": {
        "id": "RQPDnoD3mcxf"
      },
      "execution_count": null,
      "outputs": []
    },
    {
      "cell_type": "code",
      "source": [
        "import gc\n",
        "import random\n",
        "import evaluate\n",
        "import torch\n",
        "import numpy as np\n",
        "from pprint import pprint\n",
        "from tqdm import tqdm\n",
        "from sklearn.model_selection import train_test_split, ParameterGrid\n",
        "from datasets import Dataset, DatasetDict\n",
        "from transformers import get_scheduler, AutoModel\n",
        "from transformers.modeling_outputs import SequenceClassifierOutput\n",
        "from torch.utils.data import DataLoader\n",
        "from torch.optim import AdamW"
      ],
      "metadata": {
        "id": "YFVyasHU3Hk7"
      },
      "execution_count": null,
      "outputs": []
    },
    {
      "cell_type": "markdown",
      "source": [
        "# Collate input dataset"
      ],
      "metadata": {
        "id": "P9cDB8uOQeGe"
      }
    },
    {
      "cell_type": "code",
      "source": [
        "def read_bi_tokenized_from_file(filepath):\n",
        "  s_input_ids, s_token_type_ids, s_attention_mask, t_input_ids, t_token_type_ids, t_attention_mask, labels = [], [], [], [], [], [], []\n",
        "  with open(filepath) as f:\n",
        "    for line in f:\n",
        "      strings = line.strip().split(\"],\")\n",
        "      lists = [list(map(int, s.strip(\"[\").split(\",\"))) for s in strings[:-1]]\n",
        "      s_input_id, s_token_type_id, s_attention, t_input_id, t_token_type_id, t_attention = lists\n",
        "      label = int(strings[-1])\n",
        "\n",
        "      s_input_ids.append(s_input_id)\n",
        "      s_token_type_ids.append(s_token_type_id)\n",
        "      s_attention_mask.append(s_attention)\n",
        "      t_input_ids.append(t_input_id)\n",
        "      t_token_type_ids.append(t_token_type_id)\n",
        "      t_attention_mask.append(t_attention)\n",
        "      labels.append(label)\n",
        "\n",
        "  source_tokenized = {\"input_ids\" : s_input_ids,\n",
        "                      \"token_type_ids\" : s_token_type_ids,\n",
        "                      \"attention_mask\" : s_attention_mask}\n",
        "  target_tokenized = {\"input_ids\" : t_input_ids,\n",
        "                      \"token_type_ids\" : t_token_type_ids,\n",
        "                      \"attention_mask\" : t_attention_mask}\n",
        "  return source_tokenized, target_tokenized, labels\n",
        "\n",
        "def read_cross_tokenized_from_file(filepath):\n",
        "  input_ids, token_type_ids, attention_mask, labels = [], [], [], []\n",
        "  with open(filepath) as f:\n",
        "    for line in f:\n",
        "      strings = line.strip().split(\"],\")\n",
        "      lists = [list(map(int, s.strip(\"[\").split(\",\"))) for s in strings[:-1]]\n",
        "      input_id, token_type_id, attention = lists\n",
        "      label = int(strings[-1])\n",
        "\n",
        "      input_ids.append(input_id)\n",
        "      token_type_ids.append(token_type_id)\n",
        "      attention_mask.append(attention)\n",
        "      labels.append(label)\n",
        "\n",
        "  tokenized = {\"input_ids\" : input_ids,\n",
        "               \"token_type_ids\" : token_type_ids,\n",
        "               \"attention_mask\" : attention_mask}\n",
        "  return tokenized, labels\n",
        "\n",
        "def onto_cross_tokenized_from_file(filepath):\n",
        "  input_ids, token_type_ids, attention_mask = [], [], []\n",
        "  with open(filepath) as f:\n",
        "    for line in f:\n",
        "      strings = line.strip().split(\"],\")\n",
        "      lists = [list(map(int, s.strip(\"[\").split(\",\"))) for s in strings]\n",
        "      input_id, token_type_id, attention = lists\n",
        "\n",
        "      input_ids.append(input_id)\n",
        "      token_type_ids.append(token_type_id)\n",
        "      attention_mask.append(attention)\n",
        "\n",
        "  tokenized = {\"input_ids\" : input_ids,\n",
        "               \"token_type_ids\" : token_type_ids,\n",
        "               \"attention_mask\" : attention_mask}\n",
        "  return tokenized"
      ],
      "metadata": {
        "id": "hfr-jwzWfy5c"
      },
      "execution_count": null,
      "outputs": []
    },
    {
      "cell_type": "code",
      "source": [
        "def filter_source_target(Xi, source, target):\n",
        "  X_source = {k : [v[i] for i in Xi] for (k, v) in source.items()}\n",
        "  X_target = {k : [v[i] for i in Xi] for (k, v) in target.items()}\n",
        "  return X_source, X_target\n",
        "\n",
        "\n",
        "def collate_dataset(X_train, X_val, X_test, y_train, y_val, y_test):\n",
        "  dataset_train = Dataset.from_dict(X_train | {'labels' : y_train})\n",
        "  dataset_val = Dataset.from_dict(X_val | {'labels' : y_val})\n",
        "  dataset_test = Dataset.from_dict(X_test | {'labels' : y_test})\n",
        "  dataset = DatasetDict({'train' : dataset_train,\n",
        "                         'val' : dataset_val,\n",
        "                         'test' : dataset_test})\n",
        "  dataset.set_format(type=\"torch\")\n",
        "  return dataset\n",
        "\n",
        "\n",
        "def get_bi_datasets_from_tokenized(source_tokenized, target_tokenized, labels):\n",
        "  Xi = np.arange(len(labels))\n",
        "  y = np.array(labels)\n",
        "  Xi_train_val, Xi_test, y_train_val, y_test = train_test_split(Xi, y, test_size=0.2, random_state=3)\n",
        "  Xi_train, Xi_val, y_train, y_val = train_test_split(Xi_train_val, y_train_val, test_size=0.25, random_state=3)\n",
        "\n",
        "  X_source_train, X_target_train = filter_source_target(Xi_train, source_tokenized, target_tokenized)\n",
        "  X_source_val, X_target_val = filter_source_target(Xi_val, source_tokenized, target_tokenized)\n",
        "  X_source_test, X_target_test = filter_source_target(Xi_test, source_tokenized, target_tokenized)\n",
        "\n",
        "  print(f\"Train: {len(y_train)}\")\n",
        "  print(f\"Validation: {len(y_val)}\")\n",
        "  print(f\"Test: {len(y_test)}\")\n",
        "\n",
        "  source_data = collate_dataset(X_source_train, X_source_val, X_source_test, y_train, y_val, y_test)\n",
        "  target_data = collate_dataset(X_target_train, X_target_val, X_target_test, y_train, y_val, y_test)\n",
        "  return source_data, target_data"
      ],
      "metadata": {
        "id": "00blfsjpIDl5"
      },
      "execution_count": null,
      "outputs": []
    },
    {
      "cell_type": "code",
      "source": [
        "negative_sampling = ['random', 'multi', 'neighbour']\n",
        "features = ['term', 'int', 'ext']\n",
        "direction = \"ncit2doid\"\n",
        "\n",
        "feature = features[0]\n",
        "negatives = negative_sampling[0]\n",
        "\n",
        "source_tokenized, target_tokenized, labels = read_bi_tokenized_from_file(f\"bi_tokenized_{feature}_{negatives}_{direction}.csv\")\n",
        "source_data, target_data = get_bi_datasets_from_tokenized(source_tokenized, target_tokenized, labels)"
      ],
      "metadata": {
        "id": "9gJFN9tS5hg8",
        "colab": {
          "base_uri": "https://localhost:8080/"
        },
        "outputId": "82eefc00-d53b-4edd-de70-f60f1a81a287"
      },
      "execution_count": null,
      "outputs": [
        {
          "output_type": "stream",
          "name": "stdout",
          "text": [
            "Train: 3860\n",
            "Validation: 1287\n",
            "Test: 1287\n"
          ]
        }
      ]
    },
    {
      "cell_type": "markdown",
      "source": [
        "# Bi-encoder"
      ],
      "metadata": {
        "id": "Mwy-uRdLOY69"
      }
    },
    {
      "cell_type": "code",
      "source": [
        "def full_determinism(seed):\n",
        "  random.seed(seed)\n",
        "  np.random.seed(seed)\n",
        "  torch.manual_seed(seed)\n",
        "  torch.cuda.manual_seed_all(seed)\n",
        "  torch.use_deterministic_algorithms(True)\n",
        "  torch.backends.cudnn.deterministic = True"
      ],
      "metadata": {
        "id": "1EeqaVxWfb_6"
      },
      "execution_count": null,
      "outputs": []
    },
    {
      "cell_type": "code",
      "source": [
        "class BiEncoderForSequenceClassification(torch.nn.Module):\n",
        "  def __init__(self, model_name, num_labels, id2label=None, label2id=None, token_embeddings_size=None, hidden_layer=-1):\n",
        "    super().__init__()\n",
        "    self.source_model = AutoModel.from_pretrained(model_name)\n",
        "    self.target_model = AutoModel.from_pretrained(model_name)\n",
        "    if token_embeddings_size:\n",
        "      self.source_model.resize_token_embeddings(token_embeddings_size)\n",
        "      self.target_model.resize_token_embeddings(token_embeddings_size)\n",
        "\n",
        "    self.num_labels = num_labels\n",
        "    self.hidden_layer = hidden_layer\n",
        "\n",
        "    self.sigmoid = torch.nn.Sigmoid()\n",
        "    self.dropout = torch.nn.Dropout(0.1)\n",
        "    self.similarity = torch.nn.CosineSimilarity(dim=-1)\n",
        "    self.loss = torch.nn.BCEWithLogitsLoss()\n",
        "\n",
        "  def forward(\n",
        "      self,\n",
        "      s_input_ids=None, t_input_ids=None,\n",
        "      s_attention_mask=None, t_attention_mask=None,\n",
        "      s_token_type_ids=None, t_token_type_ids=None,\n",
        "      s_position_ids=None, t_position_ids=None,\n",
        "      s_head_mask=None, t_head_mask=None,\n",
        "      s_inputs_embeds=None, t_inputs_embeds=None,\n",
        "      labels=None\n",
        "    ):\n",
        "\n",
        "    source_outputs = self.source_model(\n",
        "      s_input_ids,\n",
        "      attention_mask=s_attention_mask,\n",
        "      token_type_ids=s_token_type_ids,\n",
        "      position_ids=s_position_ids,\n",
        "      head_mask=s_head_mask,\n",
        "      inputs_embeds=s_inputs_embeds,\n",
        "    )\n",
        "\n",
        "    target_outputs = self.target_model(\n",
        "      t_input_ids,\n",
        "      attention_mask=t_attention_mask,\n",
        "      token_type_ids=t_token_type_ids,\n",
        "      position_ids=t_position_ids,\n",
        "      head_mask=t_head_mask,\n",
        "      inputs_embeds=t_inputs_embeds,\n",
        "    )\n",
        "\n",
        "    pooled_source_outputs = self.dropout(source_outputs[1])\n",
        "    pooled_target_outputs = self.dropout(target_outputs[1])\n",
        "\n",
        "    # similarities = self.similarity(pooled_source_outputs, pooled_target_outputs)\n",
        "    # logits = self.sigmoid(similarities)\n",
        "    logits = torch.sum(pooled_source_outputs * pooled_target_outputs, dim=-1)\n",
        "\n",
        "    loss = None\n",
        "    if labels is not None:\n",
        "      loss = self.loss(logits.view(-1), labels.view(-1).float())\n",
        "\n",
        "    return SequenceClassifierOutput(loss=loss, logits=logits)\n",
        "\n",
        "  def get_source_model_outputs(self, input_ids=None, token_type_ids=None, attention_mask=None, labels=None):\n",
        "    source_outputs = self.source_model(\n",
        "      input_ids,\n",
        "      attention_mask=attention_mask,\n",
        "      token_type_ids=token_type_ids\n",
        "    )\n",
        "    return source_outputs[1]\n",
        "\n",
        "  def get_target_model_outputs(self, input_ids=None, token_type_ids=None, attention_mask=None, labels=None):\n",
        "    target_outputs = self.target_model(\n",
        "      input_ids,\n",
        "      attention_mask=attention_mask,\n",
        "      token_type_ids=token_type_ids\n",
        "    )\n",
        "    return target_outputs[1]"
      ],
      "metadata": {
        "id": "xKdO0rN_wJsY"
      },
      "execution_count": null,
      "outputs": []
    },
    {
      "cell_type": "code",
      "source": [
        "class EarlyStopper:\n",
        "  def __init__(self, patience=1, delta=0):\n",
        "    self.patience = patience\n",
        "    self.delta = delta\n",
        "    self.counter = 0\n",
        "    self.min_loss = float('inf')\n",
        "\n",
        "    self.best_epoch = 0\n",
        "    self.best_metrics = {}\n",
        "    self.best_model_state = None\n",
        "    self.best_optimizer_state = None\n",
        "\n",
        "  def early_stop(self, loss, epoch, model_state, optimizer_state, metrics):\n",
        "    if loss < self.min_loss:\n",
        "      self.min_loss = loss\n",
        "      self.counter = 0\n",
        "\n",
        "      self.best_epoch = epoch\n",
        "      self.best_metrics = metrics\n",
        "      self.best_model_state = model_state\n",
        "      self.best_optimizer_state = optimizer_state\n",
        "\n",
        "    elif loss >= (self.min_loss + self.delta):\n",
        "      self.counter += 1\n",
        "      if self.counter >= self.patience:\n",
        "        return True\n",
        "    return False\n",
        "\n",
        "  def save_best_checkpoint(self, filepath):\n",
        "    with open(\"bi_encoder_metrics.csv\", 'a') as f:\n",
        "      f.write(f\"{filepath},{self.best_epoch},{self.min_loss},{self.best_metrics.get('accuracy')},{self.best_metrics.get('precision')},{self.best_metrics.get('recall')},{self.best_metrics.get('f1')}\\n\")\n",
        "\n",
        "    torch.save({\n",
        "      'epoch': self.best_epoch,\n",
        "      'model_state_dict': self.best_model_state,\n",
        "      'optimizer_state_dict': self.best_optimizer_state,\n",
        "      'loss': self.min_loss,\n",
        "      'accuracy': self.best_metrics.get('accuracy'),\n",
        "      'precision': self.best_metrics.get('precision'),\n",
        "      'recall': self.best_metrics.get('recall'),\n",
        "      'f1': self.best_metrics.get('f1'),\n",
        "      }, filepath)"
      ],
      "metadata": {
        "id": "eWaF541oJfVv"
      },
      "execution_count": null,
      "outputs": []
    },
    {
      "cell_type": "code",
      "source": [
        "def show_results(epoch, loss, metrics):\n",
        "  print(f\"\\n\\nEPOCH {epoch}\\n\")\n",
        "  print(f\"Training loss: {loss}\")\n",
        "  pprint(metrics)\n",
        "  print()\n",
        "\n",
        "\n",
        "def evaluate_biencoder(model, source_data, target_data, batch_size=32):\n",
        "  eval_dataloader_index = DataLoader(Dataset.from_dict({'index' : range(len(source_data[\"val\"]))}), batch_size=batch_size)\n",
        "  metrics = [evaluate.load(\"accuracy\"), evaluate.load(\"precision\"), evaluate.load('recall'), evaluate.load('f1')]\n",
        "\n",
        "  model.eval()\n",
        "  avg_loss = 0\n",
        "  for batch in eval_dataloader_index:\n",
        "    batch_index = list(batch[\"index\"])\n",
        "    source_batch = source_data[\"val\"][batch_index]\n",
        "    target_batch = target_data[\"val\"][batch_index]\n",
        "    labels = source_batch[\"labels\"]\n",
        "\n",
        "    source_batch = {\"s_\" + k: v.to(device) for (k, v) in source_batch.items() if k != \"labels\"}\n",
        "    target_batch = {\"t_\" + k: v.to(device) for (k, v) in target_batch.items() if k != \"labels\"}\n",
        "    params = source_batch | target_batch\n",
        "    params[\"labels\"] = labels.to(device)\n",
        "\n",
        "    with torch.no_grad():\n",
        "      outputs = model(**params)\n",
        "\n",
        "    logits = outputs.logits.cpu()\n",
        "    loss = outputs.loss.item()\n",
        "    avg_loss += loss * len(batch_index)\n",
        "\n",
        "    predictions = np.where(logits.squeeze() >= 0.5, 1, 0)\n",
        "    for metric in metrics:\n",
        "      metric.add_batch(predictions=predictions, references=labels.cpu())\n",
        "\n",
        "  avg_loss = avg_loss / len(source_data[\"val\"])\n",
        "  metric_dict = {\"Validation loss\" : avg_loss}\n",
        "  metric_dict.update(metrics[0].compute())\n",
        "  for metric in metrics[1:]:\n",
        "    metric_dict.update(metric.compute(average='macro'))\n",
        "\n",
        "  return metric_dict\n",
        "\n",
        "\n",
        "def train_biencoder(model, source_data, target_data, learning_rate=1e-5, epochs=3, batch_size=32, save_filepath=\"bi_encoder_state.pt\", verbose=True):\n",
        "  train_dataloader_index = DataLoader(Dataset.from_dict({'index' : range(len(source_data[\"train\"]))}), shuffle=True, batch_size=batch_size)\n",
        "  num_training_steps = epochs * len(train_dataloader_index)\n",
        "\n",
        "  optimizer = AdamW(model.parameters(), lr=learning_rate) ### consider changing to adam (bertsubs)\n",
        "  scheduler = get_scheduler(name=\"linear\", optimizer=optimizer, num_warmup_steps=0, num_training_steps=num_training_steps)\n",
        "  early_stopper = EarlyStopper(patience=3)\n",
        "\n",
        "  progress_bar = tqdm(range(num_training_steps), position=0, leave=True)\n",
        "\n",
        "  model.train()\n",
        "  for epoch in range(1, epochs+1):\n",
        "    avg_loss = 0\n",
        "    for batch in train_dataloader_index:\n",
        "      batch_index = list(batch[\"index\"])\n",
        "      source_batch = source_data[\"train\"][batch_index]\n",
        "      target_batch = target_data[\"train\"][batch_index]\n",
        "      labels = source_batch[\"labels\"]\n",
        "\n",
        "      source_batch = {\"s_\" + k: v.to(device) for (k, v) in source_batch.items() if k != \"labels\"}\n",
        "      target_batch = {\"t_\" + k: v.to(device) for (k, v) in target_batch.items() if k != \"labels\"}\n",
        "      params = source_batch | target_batch\n",
        "      params[\"labels\"] = labels.to(device)\n",
        "\n",
        "      outputs = model(**params)\n",
        "      loss = outputs.loss\n",
        "      avg_loss += loss * len(batch[\"index\"])\n",
        "      loss.backward()\n",
        "\n",
        "      optimizer.step()\n",
        "      scheduler.step()\n",
        "      optimizer.zero_grad()\n",
        "      progress_bar.update(1)\n",
        "\n",
        "    avg_loss = avg_loss / len(source_data[\"train\"])\n",
        "    metrics = evaluate_biencoder(model, source_data, target_data, batch_size=batch_size)\n",
        "    if verbose:\n",
        "      show_results(epoch, avg_loss, metrics)\n",
        "\n",
        "    val_loss = metrics[\"Validation loss\"]\n",
        "    if early_stopper.early_stop(val_loss, epoch, model.state_dict(), optimizer.state_dict(), metrics):\n",
        "      break\n",
        "\n",
        "  early_stopper.save_best_checkpoint(save_filepath)"
      ],
      "metadata": {
        "id": "2QFIQmGhGda9"
      },
      "execution_count": null,
      "outputs": []
    },
    {
      "cell_type": "markdown",
      "source": [
        "# Experiments"
      ],
      "metadata": {
        "id": "RfbVIcapntHE"
      }
    },
    {
      "cell_type": "code",
      "source": [
        "epochs = [10]\n",
        "batch_size = [2 ** i for i in range(4, 8)]\n",
        "learning_rate = [10 ** i for i in range(-6, -2)]\n",
        "param_grid = ParameterGrid({\"epochs\" : epochs, \"learning_rate\" : learning_rate, \"batch_size\" : batch_size})\n",
        "\n",
        "device = torch.device(\"cuda\") if torch.cuda.is_available() else torch.device(\"cpu\")\n",
        "pretrained = \"microsoft/BiomedNLP-PubMedBERT-base-uncased-abstract\"\n",
        "\n",
        "for params in list(param_grid)[6:16]:\n",
        "  full_determinism(seed=3)\n",
        "  model = BiEncoderForSequenceClassification(pretrained, num_labels=1)\n",
        "  model.to(device)\n",
        "\n",
        "  save_filepath = f\"bi_encoder_state_(lr={params['learning_rate']},bs={params['batch_size']}).pt\"\n",
        "  train_biencoder(model, source_data, target_data,\n",
        "                  save_filepath=save_filepath,\n",
        "                  verbose=False,\n",
        "                  **params)\n",
        "\n",
        "  model.to(torch.device(\"cpu\"))\n",
        "  model = None\n",
        "  gc.collect()\n",
        "  torch.cuda.empty_cache()"
      ],
      "metadata": {
        "id": "-IebuX4BGz0J"
      },
      "execution_count": null,
      "outputs": []
    },
    {
      "cell_type": "code",
      "source": [
        "# # # Transfer files to GDrive\n",
        "# from google.colab import drive\n",
        "# drive.mount('/content/drive')"
      ],
      "metadata": {
        "id": "KCjiyJRhgpPt",
        "colab": {
          "base_uri": "https://localhost:8080/"
        },
        "outputId": "d30e0a71-90ca-48be-9e1a-51af466dc654"
      },
      "execution_count": null,
      "outputs": [
        {
          "metadata": {
            "tags": null
          },
          "name": "stdout",
          "output_type": "stream",
          "text": [
            "Mounted at /content/drive\n"
          ]
        }
      ]
    },
    {
      "cell_type": "code",
      "source": [
        "# !cp \"/content/bi_encoder_state_(lr=1e-06,bs=32).pt\" \"/content/drive/My Drive/bi_encoder_state_(lr=1e-06,bs=32).pt\""
      ],
      "metadata": {
        "id": "A0tufSmF5tur"
      },
      "execution_count": null,
      "outputs": []
    },
    {
      "cell_type": "code",
      "source": [
        "# # Test loading saved model metrics\n",
        "# checkpoint = torch.load(\"/content/drive/My Drive/bi_encoder_state_(lr=1e-05,bs=16).pt\", map_location=torch.device('cpu'))\n",
        "# print(checkpoint['epoch'], checkpoint['accuracy'], checkpoint['precision'], checkpoint['recall'], checkpoint['f1'])"
      ],
      "metadata": {
        "id": "q0FrwwL_iLtn"
      },
      "execution_count": null,
      "outputs": []
    },
    {
      "cell_type": "code",
      "source": [
        "# # Test loading saved model\n",
        "# torch.cuda.empty_cache()\n",
        "# full_determinism(seed=3)\n",
        "# pretrained = \"microsoft/BiomedNLP-PubMedBERT-base-uncased-abstract\"\n",
        "# device = torch.device(\"cuda\") if torch.cuda.is_available() else torch.device(\"cpu\")\n",
        "\n",
        "# model = BiEncoderForSequenceClassification(pretrained, num_labels=1)\n",
        "# model.to(device)\n",
        "# train_biencoder(model, source_data, target_data)\n",
        "\n",
        "# model2 = BiEncoderForSequenceClassification(pretrained, num_labels=1)\n",
        "# checkpoint = torch.load(\"bi_encoder_state_dict\")\n",
        "# model2.load_state_dict(checkpoint['model_state_dict'])\n",
        "# model2.to(device)\n",
        "\n",
        "# source_try = model2.get_source_model_outputs(source_data[\"test\"][\"input_ids\"][:1].to(device), source_data[\"test\"][\"token_type_ids\"][:1].to(device), source_data[\"test\"][\"attention_mask\"][:1].to(device))\n",
        "# target_try = model2.get_source_model_outputs(target_data[\"test\"][\"input_ids\"][:1].to(device), target_data[\"test\"][\"token_type_ids\"][:1].to(device), target_data[\"test\"][\"attention_mask\"][:1].to(device))\n",
        "# source_real = model.get_source_model_outputs(source_data[\"test\"][\"input_ids\"][:1].to(device), source_data[\"test\"][\"token_type_ids\"][:1].to(device), source_data[\"test\"][\"attention_mask\"][:1].to(device))\n",
        "# target_real = model.get_source_model_outputs(target_data[\"test\"][\"input_ids\"][:1].to(device), target_data[\"test\"][\"token_type_ids\"][:1].to(device), target_data[\"test\"][\"attention_mask\"][:1].to(device))\n",
        "\n",
        "# print(torch.all(source_try == source_real))\n",
        "# print(torch.all(target_try == target_real))"
      ],
      "metadata": {
        "id": "xtrOEdWWa8oj"
      },
      "execution_count": null,
      "outputs": []
    }
  ]
}
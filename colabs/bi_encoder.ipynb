{
  "nbformat": 4,
  "nbformat_minor": 0,
  "metadata": {
    "colab": {
      "provenance": [],
      "gpuType": "T4",
      "authorship_tag": "ABX9TyOskoOs+hEpS5vB7TWmMEF+",
      "include_colab_link": true
    },
    "kernelspec": {
      "name": "python3",
      "display_name": "Python 3"
    },
    "language_info": {
      "name": "python"
    },
    "accelerator": "GPU"
  },
  "cells": [
    {
      "cell_type": "markdown",
      "metadata": {
        "id": "view-in-github",
        "colab_type": "text"
      },
      "source": [
        "<a href=\"https://colab.research.google.com/github/stellaevat/ontology-mapping/blob/main/colabs/bi_encoder.ipynb\" target=\"_parent\"><img src=\"https://colab.research.google.com/assets/colab-badge.svg\" alt=\"Open In Colab\"/></a>"
      ]
    },
    {
      "cell_type": "code",
      "execution_count": 1,
      "metadata": {
        "id": "zg1BOxf1KlAU",
        "colab": {
          "base_uri": "https://localhost:8080/"
        },
        "outputId": "d2ea1f1a-2c8f-4429-ff66-7f708c9f0403"
      },
      "outputs": [
        {
          "output_type": "stream",
          "name": "stdout",
          "text": [
            "Requirement already satisfied: transformers[torch] in /usr/local/lib/python3.10/dist-packages (4.37.2)\n",
            "Requirement already satisfied: datasets in /usr/local/lib/python3.10/dist-packages (2.17.1)\n",
            "Requirement already satisfied: evaluate in /usr/local/lib/python3.10/dist-packages (0.4.1)\n",
            "Requirement already satisfied: faiss-gpu in /usr/local/lib/python3.10/dist-packages (1.7.2)\n",
            "Requirement already satisfied: filelock in /usr/local/lib/python3.10/dist-packages (from transformers[torch]) (3.13.1)\n",
            "Requirement already satisfied: huggingface-hub<1.0,>=0.19.3 in /usr/local/lib/python3.10/dist-packages (from transformers[torch]) (0.20.3)\n",
            "Requirement already satisfied: numpy>=1.17 in /usr/local/lib/python3.10/dist-packages (from transformers[torch]) (1.25.2)\n",
            "Requirement already satisfied: packaging>=20.0 in /usr/local/lib/python3.10/dist-packages (from transformers[torch]) (23.2)\n",
            "Requirement already satisfied: pyyaml>=5.1 in /usr/local/lib/python3.10/dist-packages (from transformers[torch]) (6.0.1)\n",
            "Requirement already satisfied: regex!=2019.12.17 in /usr/local/lib/python3.10/dist-packages (from transformers[torch]) (2023.12.25)\n",
            "Requirement already satisfied: requests in /usr/local/lib/python3.10/dist-packages (from transformers[torch]) (2.31.0)\n",
            "Requirement already satisfied: tokenizers<0.19,>=0.14 in /usr/local/lib/python3.10/dist-packages (from transformers[torch]) (0.15.2)\n",
            "Requirement already satisfied: safetensors>=0.4.1 in /usr/local/lib/python3.10/dist-packages (from transformers[torch]) (0.4.2)\n",
            "Requirement already satisfied: tqdm>=4.27 in /usr/local/lib/python3.10/dist-packages (from transformers[torch]) (4.66.2)\n",
            "Requirement already satisfied: torch!=1.12.0,>=1.11 in /usr/local/lib/python3.10/dist-packages (from transformers[torch]) (2.1.0+cu121)\n",
            "Requirement already satisfied: accelerate>=0.21.0 in /usr/local/lib/python3.10/dist-packages (from transformers[torch]) (0.27.2)\n",
            "Requirement already satisfied: pyarrow>=12.0.0 in /usr/local/lib/python3.10/dist-packages (from datasets) (14.0.2)\n",
            "Requirement already satisfied: pyarrow-hotfix in /usr/local/lib/python3.10/dist-packages (from datasets) (0.6)\n",
            "Requirement already satisfied: dill<0.3.9,>=0.3.0 in /usr/local/lib/python3.10/dist-packages (from datasets) (0.3.8)\n",
            "Requirement already satisfied: pandas in /usr/local/lib/python3.10/dist-packages (from datasets) (1.5.3)\n",
            "Requirement already satisfied: xxhash in /usr/local/lib/python3.10/dist-packages (from datasets) (3.4.1)\n",
            "Requirement already satisfied: multiprocess in /usr/local/lib/python3.10/dist-packages (from datasets) (0.70.16)\n",
            "Requirement already satisfied: fsspec[http]<=2023.10.0,>=2023.1.0 in /usr/local/lib/python3.10/dist-packages (from datasets) (2023.6.0)\n",
            "Requirement already satisfied: aiohttp in /usr/local/lib/python3.10/dist-packages (from datasets) (3.9.3)\n",
            "Requirement already satisfied: responses<0.19 in /usr/local/lib/python3.10/dist-packages (from evaluate) (0.18.0)\n",
            "Requirement already satisfied: psutil in /usr/local/lib/python3.10/dist-packages (from accelerate>=0.21.0->transformers[torch]) (5.9.5)\n",
            "Requirement already satisfied: aiosignal>=1.1.2 in /usr/local/lib/python3.10/dist-packages (from aiohttp->datasets) (1.3.1)\n",
            "Requirement already satisfied: attrs>=17.3.0 in /usr/local/lib/python3.10/dist-packages (from aiohttp->datasets) (23.2.0)\n",
            "Requirement already satisfied: frozenlist>=1.1.1 in /usr/local/lib/python3.10/dist-packages (from aiohttp->datasets) (1.4.1)\n",
            "Requirement already satisfied: multidict<7.0,>=4.5 in /usr/local/lib/python3.10/dist-packages (from aiohttp->datasets) (6.0.5)\n",
            "Requirement already satisfied: yarl<2.0,>=1.0 in /usr/local/lib/python3.10/dist-packages (from aiohttp->datasets) (1.9.4)\n",
            "Requirement already satisfied: async-timeout<5.0,>=4.0 in /usr/local/lib/python3.10/dist-packages (from aiohttp->datasets) (4.0.3)\n",
            "Requirement already satisfied: typing-extensions>=3.7.4.3 in /usr/local/lib/python3.10/dist-packages (from huggingface-hub<1.0,>=0.19.3->transformers[torch]) (4.9.0)\n",
            "Requirement already satisfied: charset-normalizer<4,>=2 in /usr/local/lib/python3.10/dist-packages (from requests->transformers[torch]) (3.3.2)\n",
            "Requirement already satisfied: idna<4,>=2.5 in /usr/local/lib/python3.10/dist-packages (from requests->transformers[torch]) (3.6)\n",
            "Requirement already satisfied: urllib3<3,>=1.21.1 in /usr/local/lib/python3.10/dist-packages (from requests->transformers[torch]) (2.0.7)\n",
            "Requirement already satisfied: certifi>=2017.4.17 in /usr/local/lib/python3.10/dist-packages (from requests->transformers[torch]) (2024.2.2)\n",
            "Requirement already satisfied: sympy in /usr/local/lib/python3.10/dist-packages (from torch!=1.12.0,>=1.11->transformers[torch]) (1.12)\n",
            "Requirement already satisfied: networkx in /usr/local/lib/python3.10/dist-packages (from torch!=1.12.0,>=1.11->transformers[torch]) (3.2.1)\n",
            "Requirement already satisfied: jinja2 in /usr/local/lib/python3.10/dist-packages (from torch!=1.12.0,>=1.11->transformers[torch]) (3.1.3)\n",
            "Requirement already satisfied: triton==2.1.0 in /usr/local/lib/python3.10/dist-packages (from torch!=1.12.0,>=1.11->transformers[torch]) (2.1.0)\n",
            "Requirement already satisfied: python-dateutil>=2.8.1 in /usr/local/lib/python3.10/dist-packages (from pandas->datasets) (2.8.2)\n",
            "Requirement already satisfied: pytz>=2020.1 in /usr/local/lib/python3.10/dist-packages (from pandas->datasets) (2023.4)\n",
            "Requirement already satisfied: six>=1.5 in /usr/local/lib/python3.10/dist-packages (from python-dateutil>=2.8.1->pandas->datasets) (1.16.0)\n",
            "Requirement already satisfied: MarkupSafe>=2.0 in /usr/local/lib/python3.10/dist-packages (from jinja2->torch!=1.12.0,>=1.11->transformers[torch]) (2.1.5)\n",
            "Requirement already satisfied: mpmath>=0.19 in /usr/local/lib/python3.10/dist-packages (from sympy->torch!=1.12.0,>=1.11->transformers[torch]) (1.3.0)\n"
          ]
        }
      ],
      "source": [
        "!pip install transformers[torch] datasets evaluate faiss-gpu"
      ]
    },
    {
      "cell_type": "code",
      "source": [
        "from google.colab import drive\n",
        "drive.mount('/content/drive')"
      ],
      "metadata": {
        "colab": {
          "base_uri": "https://localhost:8080/"
        },
        "id": "jSa6E5b1h-YG",
        "outputId": "2c55bbef-c68b-41c0-e617-ac540cbdfab0"
      },
      "execution_count": 15,
      "outputs": [
        {
          "output_type": "stream",
          "name": "stdout",
          "text": [
            "Mounted at /content/drive\n"
          ]
        }
      ]
    },
    {
      "cell_type": "code",
      "source": [
        "import os\n",
        "os.environ['CUDA_LAUNCH_BLOCKING'] = \"1\"\n",
        "os.environ['CUBLAS_WORKSPACE_CONFIG'] = \":4096:8\""
      ],
      "metadata": {
        "id": "RQPDnoD3mcxf"
      },
      "execution_count": 2,
      "outputs": []
    },
    {
      "cell_type": "code",
      "source": [
        "import gc\n",
        "import random\n",
        "import evaluate\n",
        "import torch\n",
        "import faiss\n",
        "import numpy as np\n",
        "import matplotlib.pyplot as plt\n",
        "from pprint import pprint\n",
        "from tqdm import tqdm\n",
        "from sklearn.model_selection import train_test_split, ParameterGrid\n",
        "from datasets import Dataset, DatasetDict\n",
        "from transformers import get_scheduler, AutoModel\n",
        "from transformers.modeling_outputs import SequenceClassifierOutput\n",
        "from torch.utils.data import DataLoader\n",
        "from torch.optim import Adam, AdamW"
      ],
      "metadata": {
        "id": "YFVyasHU3Hk7"
      },
      "execution_count": 3,
      "outputs": []
    },
    {
      "cell_type": "markdown",
      "source": [
        "# Collate input dataset"
      ],
      "metadata": {
        "id": "P9cDB8uOQeGe"
      }
    },
    {
      "cell_type": "code",
      "source": [
        "def read_bi_tokenized_from_file(filepath):\n",
        "  s_input_ids, s_token_type_ids, s_attention_mask, t_input_ids, t_token_type_ids, t_attention_mask, labels = [], [], [], [], [], [], []\n",
        "  with open(filepath) as f:\n",
        "    for line in f:\n",
        "      strings = line.strip().split(\"],\")\n",
        "      lists = [list(map(int, s.strip(\"[\").split(\",\"))) for s in strings[:-1]]\n",
        "      s_input_id, s_token_type_id, s_attention, t_input_id, t_token_type_id, t_attention = lists\n",
        "      label = int(strings[-1])\n",
        "\n",
        "      s_input_ids.append(s_input_id)\n",
        "      s_token_type_ids.append(s_token_type_id)\n",
        "      s_attention_mask.append(s_attention)\n",
        "      t_input_ids.append(t_input_id)\n",
        "      t_token_type_ids.append(t_token_type_id)\n",
        "      t_attention_mask.append(t_attention)\n",
        "      labels.append(label)\n",
        "\n",
        "  source_tokenized = {\"input_ids\" : s_input_ids,\n",
        "                      \"token_type_ids\" : s_token_type_ids,\n",
        "                      \"attention_mask\" : s_attention_mask}\n",
        "  target_tokenized = {\"input_ids\" : t_input_ids,\n",
        "                      \"token_type_ids\" : t_token_type_ids,\n",
        "                      \"attention_mask\" : t_attention_mask}\n",
        "  return source_tokenized, target_tokenized, labels\n",
        "\n",
        "def read_cross_tokenized_from_file(filepath):\n",
        "  input_ids, token_type_ids, attention_mask, labels = [], [], [], []\n",
        "  with open(filepath) as f:\n",
        "    for line in f:\n",
        "      strings = line.strip().split(\"],\")\n",
        "      lists = [list(map(int, s.strip(\"[\").split(\",\"))) for s in strings[:-1]]\n",
        "      input_id, token_type_id, attention = lists\n",
        "      label = int(strings[-1])\n",
        "\n",
        "      input_ids.append(input_id)\n",
        "      token_type_ids.append(token_type_id)\n",
        "      attention_mask.append(attention)\n",
        "      labels.append(label)\n",
        "\n",
        "  tokenized = {\"input_ids\" : input_ids,\n",
        "               \"token_type_ids\" : token_type_ids,\n",
        "               \"attention_mask\" : attention_mask}\n",
        "  return tokenized, labels\n",
        "\n",
        "def onto_cross_tokenized_from_file(filepath):\n",
        "  input_ids, token_type_ids, attention_mask = [], [], []\n",
        "  with open(filepath) as f:\n",
        "    for line in f:\n",
        "      strings = line.strip().split(\"],\")\n",
        "      lists = [list(map(int, s.strip(\"[\").split(\",\"))) for s in strings]\n",
        "      input_id, token_type_id, attention = lists\n",
        "\n",
        "      input_ids.append(input_id)\n",
        "      token_type_ids.append(token_type_id)\n",
        "      attention_mask.append(attention)\n",
        "\n",
        "  tokenized = {\"input_ids\" : input_ids,\n",
        "               \"token_type_ids\" : token_type_ids,\n",
        "               \"attention_mask\" : attention_mask}\n",
        "  return tokenized"
      ],
      "metadata": {
        "id": "hfr-jwzWfy5c"
      },
      "execution_count": 4,
      "outputs": []
    },
    {
      "cell_type": "code",
      "source": [
        "negative_sampling = ['random', 'multi', 'neighbour']\n",
        "features = ['term', 'int', 'ext']\n",
        "direction = \"ncit2doid\"\n",
        "\n",
        "feature = features[0]\n",
        "negatives = negative_sampling[0]\n",
        "\n",
        "source_tokenized, target_tokenized, labels = read_bi_tokenized_from_file(f\"bi_tokenized_{feature}_{negatives}_{direction}.csv\")"
      ],
      "metadata": {
        "id": "9gJFN9tS5hg8"
      },
      "execution_count": 5,
      "outputs": []
    },
    {
      "cell_type": "code",
      "source": [
        "def filter_source_target(Xi, source, target):\n",
        "  X_source = {k : [v[i] for i in Xi] for (k, v) in source.items()}\n",
        "  X_target = {k : [v[i] for i in Xi] for (k, v) in target.items()}\n",
        "  return X_source, X_target"
      ],
      "metadata": {
        "id": "H_CahO_vC5kY"
      },
      "execution_count": 6,
      "outputs": []
    },
    {
      "cell_type": "code",
      "source": [
        "def collate_dataset(X_train, X_val, X_test, y_train, y_val, y_test):\n",
        "  dataset_train = Dataset.from_dict(X_train | {'labels' : y_train})\n",
        "  dataset_val = Dataset.from_dict(X_val | {'labels' : y_val})\n",
        "  dataset_test = Dataset.from_dict(X_test | {'labels' : y_test})\n",
        "  dataset = DatasetDict({'train' : dataset_train,\n",
        "                         'val' : dataset_val,\n",
        "                         'test' : dataset_test})\n",
        "  dataset.set_format(type=\"torch\")\n",
        "  return dataset"
      ],
      "metadata": {
        "id": "00blfsjpIDl5"
      },
      "execution_count": 7,
      "outputs": []
    },
    {
      "cell_type": "code",
      "source": [
        "Xi = np.arange(len(labels))\n",
        "y = np.array(labels)\n",
        "Xi_train_val, Xi_test, y_train_val, y_test = train_test_split(Xi, y, test_size=0.2, random_state=3)\n",
        "Xi_train, Xi_val, y_train, y_val = train_test_split(Xi_train_val, y_train_val, test_size=0.25, random_state=3)\n",
        "\n",
        "X_source_train, X_target_train = filter_source_target(Xi_train, source_tokenized, target_tokenized)\n",
        "X_source_val, X_target_val = filter_source_target(Xi_val, source_tokenized, target_tokenized)\n",
        "X_source_test, X_target_test = filter_source_target(Xi_test, source_tokenized, target_tokenized)\n",
        "\n",
        "print(f\"Train: {len(y_train)}\")\n",
        "print(f\"Validation: {len(y_val)}\")\n",
        "print(f\"Test: {len(y_test)}\")\n",
        "\n",
        "source_data = collate_dataset(X_source_train, X_source_val, X_source_test, y_train, y_val, y_test)\n",
        "target_data = collate_dataset(X_target_train, X_target_val, X_target_test, y_train, y_val, y_test)"
      ],
      "metadata": {
        "id": "ktcbbfRmFwuO",
        "colab": {
          "base_uri": "https://localhost:8080/"
        },
        "outputId": "cbd1b220-7cda-481a-8090-b64cb44aff2d"
      },
      "execution_count": 8,
      "outputs": [
        {
          "output_type": "stream",
          "name": "stdout",
          "text": [
            "Train: 3860\n",
            "Validation: 1287\n",
            "Test: 1287\n"
          ]
        }
      ]
    },
    {
      "cell_type": "markdown",
      "source": [
        "# Train end-to-end BERT-based bi-encoder"
      ],
      "metadata": {
        "id": "Mwy-uRdLOY69"
      }
    },
    {
      "cell_type": "code",
      "source": [
        "def full_determinism(seed):\n",
        "  random.seed(seed)\n",
        "  np.random.seed(seed)\n",
        "  torch.manual_seed(seed)\n",
        "  torch.cuda.manual_seed_all(seed)\n",
        "  torch.use_deterministic_algorithms(True)\n",
        "  torch.backends.cudnn.deterministic = True"
      ],
      "metadata": {
        "id": "1EeqaVxWfb_6"
      },
      "execution_count": 9,
      "outputs": []
    },
    {
      "cell_type": "code",
      "source": [
        "class BiEncoderForSequenceClassification(torch.nn.Module):\n",
        "  def __init__(self, model_name, num_labels, id2label=None, label2id=None, token_embeddings_size=None, hidden_layer=-1):\n",
        "    super().__init__()\n",
        "    self.source_model = AutoModel.from_pretrained(model_name)\n",
        "    self.target_model = AutoModel.from_pretrained(model_name)\n",
        "    if token_embeddings_size:\n",
        "      self.source_model.resize_token_embeddings(token_embeddings_size)\n",
        "      self.target_model.resize_token_embeddings(token_embeddings_size)\n",
        "\n",
        "    self.num_labels = num_labels\n",
        "    self.hidden_layer = hidden_layer\n",
        "\n",
        "    self.sigmoid = torch.nn.Sigmoid()\n",
        "    self.dropout = torch.nn.Dropout(0.1)\n",
        "    self.similarity = torch.nn.CosineSimilarity(dim=-1)\n",
        "    self.loss = torch.nn.BCEWithLogitsLoss()\n",
        "\n",
        "  def forward(\n",
        "      self,\n",
        "      s_input_ids=None, t_input_ids=None,\n",
        "      s_attention_mask=None, t_attention_mask=None,\n",
        "      s_token_type_ids=None, t_token_type_ids=None,\n",
        "      s_position_ids=None, t_position_ids=None,\n",
        "      s_head_mask=None, t_head_mask=None,\n",
        "      s_inputs_embeds=None, t_inputs_embeds=None,\n",
        "      labels=None\n",
        "    ):\n",
        "\n",
        "    source_outputs = self.source_model(\n",
        "      s_input_ids,\n",
        "      attention_mask=s_attention_mask,\n",
        "      token_type_ids=s_token_type_ids,\n",
        "      position_ids=s_position_ids,\n",
        "      head_mask=s_head_mask,\n",
        "      inputs_embeds=s_inputs_embeds,\n",
        "    )\n",
        "\n",
        "    target_outputs = self.target_model(\n",
        "      t_input_ids,\n",
        "      attention_mask=t_attention_mask,\n",
        "      token_type_ids=t_token_type_ids,\n",
        "      position_ids=t_position_ids,\n",
        "      head_mask=t_head_mask,\n",
        "      inputs_embeds=t_inputs_embeds,\n",
        "    )\n",
        "\n",
        "    pooled_source_outputs = self.dropout(source_outputs[1])\n",
        "    pooled_target_outputs = self.dropout(target_outputs[1])\n",
        "\n",
        "    # similarities = self.similarity(pooled_source_outputs, pooled_target_outputs)\n",
        "    # logits = self.sigmoid(similarities)\n",
        "    logits = torch.sum(pooled_source_outputs * pooled_target_outputs, dim=-1)\n",
        "\n",
        "    loss = None\n",
        "    if labels is not None:\n",
        "      loss = self.loss(logits.view(-1), labels.view(-1).float())\n",
        "\n",
        "    return SequenceClassifierOutput(loss=loss, logits=logits)\n",
        "\n",
        "  def get_source_model_outputs(self, input_ids=None, token_type_ids=None, attention_mask=None, labels=None):\n",
        "    source_outputs = self.source_model(\n",
        "      input_ids,\n",
        "      attention_mask=attention_mask,\n",
        "      token_type_ids=token_type_ids\n",
        "    )\n",
        "    return source_outputs[1]\n",
        "\n",
        "  def get_target_model_outputs(self, input_ids=None, token_type_ids=None, attention_mask=None, labels=None):\n",
        "    target_outputs = self.target_model(\n",
        "      input_ids,\n",
        "      attention_mask=attention_mask,\n",
        "      token_type_ids=token_type_ids\n",
        "    )\n",
        "    return target_outputs[1]"
      ],
      "metadata": {
        "id": "xKdO0rN_wJsY"
      },
      "execution_count": 10,
      "outputs": []
    },
    {
      "cell_type": "code",
      "source": [
        "class EarlyStopper:\n",
        "  def __init__(self, patience=1, delta=0):\n",
        "    self.patience = patience\n",
        "    self.min_delta = delta\n",
        "    self.counter = 0\n",
        "    self.min_loss = float('inf')\n",
        "\n",
        "    self.best_epoch = 0\n",
        "    self.best_f1 = 0\n",
        "    self.best_model_state = None\n",
        "    self.best_optimizer_state = None\n",
        "\n",
        "  def early_stop(self, loss, epoch, f1, model_state, optimizer_state):\n",
        "    if loss < self.min_loss:\n",
        "      self.min_loss = loss\n",
        "      self.counter = 0\n",
        "\n",
        "      self.best_epoch = epoch\n",
        "      self.best_f1 = f1\n",
        "      self.best_model_state = model_state\n",
        "      self.best_optimizer_state = optimizer_state\n",
        "\n",
        "    elif loss >= (self.min_loss + self.delta):\n",
        "      self.counter += 1\n",
        "      if self.counter >= self.patience:\n",
        "        return True\n",
        "    return False\n",
        "\n",
        "  def save_best_checkpoint(self, filepath):\n",
        "    torch.save({\n",
        "      'epoch': self.best_epoch,\n",
        "      'model_state_dict': self.best_model_state,\n",
        "      'optimizer_state_dict': self.best_optimizer_state,\n",
        "      'loss': self.min_loss,\n",
        "      'f1': self.best_f1\n",
        "      }, filepath)"
      ],
      "metadata": {
        "id": "eWaF541oJfVv"
      },
      "execution_count": 11,
      "outputs": []
    },
    {
      "cell_type": "code",
      "source": [
        "def show_results(epoch, loss, metrics):\n",
        "  print(f\"\\n\\nEPOCH {epoch}\\n\")\n",
        "  print(f\"Training loss: {loss}\")\n",
        "  pprint(metrics)\n",
        "  print()\n",
        "\n",
        "\n",
        "def evaluate_biencoder(model, source_data, target_data, batch_size=32):\n",
        "  eval_dataloader_index = DataLoader(Dataset.from_dict({'index' : range(len(source_data[\"val\"]))}), batch_size=batch_size)\n",
        "  metrics = [evaluate.load(\"accuracy\"), evaluate.load(\"precision\"), evaluate.load('recall'), evaluate.load('f1')]\n",
        "\n",
        "  model.eval()\n",
        "  avg_loss = 0\n",
        "  for batch in eval_dataloader_index:\n",
        "    batch_index = list(batch[\"index\"])\n",
        "    source_batch = source_data[\"val\"][batch_index]\n",
        "    target_batch = target_data[\"val\"][batch_index]\n",
        "    labels = source_batch[\"labels\"]\n",
        "\n",
        "    source_batch = {\"s_\" + k: v.to(device) for (k, v) in source_batch.items() if k != \"labels\"}\n",
        "    target_batch = {\"t_\" + k: v.to(device) for (k, v) in target_batch.items() if k != \"labels\"}\n",
        "    params = source_batch | target_batch\n",
        "    params[\"labels\"] = labels.to(device)\n",
        "\n",
        "    with torch.no_grad():\n",
        "      outputs = model(**params)\n",
        "\n",
        "    logits = outputs.logits.cpu()\n",
        "    loss = outputs.loss.item()\n",
        "    avg_loss += loss * len(batch_index)\n",
        "\n",
        "    predictions = np.where(logits.squeeze() >= 0.5, 1, 0)\n",
        "    for metric in metrics:\n",
        "      metric.add_batch(predictions=predictions, references=labels.cpu())\n",
        "\n",
        "  avg_loss = avg_loss / len(source_data[\"val\"])\n",
        "  metric_dict = {\"Validation loss\" : avg_loss}\n",
        "  metric_dict.update(metrics[0].compute())\n",
        "  for metric in metrics[1:]:\n",
        "    metric_dict.update(metric.compute(average='macro'))\n",
        "\n",
        "  return metric_dict\n",
        "\n",
        "\n",
        "def train_biencoder(model, source_data, target_data, learning_rate=1e-5, epochs=3, batch_size=32, save_filepath=\"bi_encoder_state_dict\"):\n",
        "  train_dataloader_index = DataLoader(Dataset.from_dict({'index' : range(len(source_data[\"train\"]))}), shuffle=True, batch_size=batch_size)\n",
        "  num_training_steps = epochs * len(train_dataloader_index)\n",
        "\n",
        "  optimizer = AdamW(model.parameters(), lr=learning_rate) ### consider changing to adam (bertsubs)\n",
        "  scheduler = get_scheduler(name=\"linear\", optimizer=optimizer, num_warmup_steps=0, num_training_steps=num_training_steps)\n",
        "  early_stopper = EarlyStopper(patience=3)\n",
        "\n",
        "  progress_bar = tqdm(range(num_training_steps), position=0, leave=True)\n",
        "\n",
        "  model.train()\n",
        "  for epoch in range(1, epochs+1):\n",
        "    avg_loss = 0\n",
        "    for batch in train_dataloader_index:\n",
        "      batch_index = list(batch[\"index\"])\n",
        "      source_batch = source_data[\"train\"][batch_index]\n",
        "      target_batch = target_data[\"train\"][batch_index]\n",
        "      labels = source_batch[\"labels\"]\n",
        "\n",
        "      source_batch = {\"s_\" + k: v.to(device) for (k, v) in source_batch.items() if k != \"labels\"}\n",
        "      target_batch = {\"t_\" + k: v.to(device) for (k, v) in target_batch.items() if k != \"labels\"}\n",
        "      params = source_batch | target_batch\n",
        "      params[\"labels\"] = labels.to(device)\n",
        "\n",
        "      outputs = model(**params)\n",
        "      loss = outputs.loss\n",
        "      avg_loss += loss * len(batch[\"index\"])\n",
        "      loss.backward()\n",
        "\n",
        "      optimizer.step()\n",
        "      scheduler.step()\n",
        "      optimizer.zero_grad()\n",
        "      progress_bar.update(1)\n",
        "\n",
        "    avg_loss = avg_loss / len(source_data[\"train\"])\n",
        "    metrics = evaluate_biencoder(model, source_data, target_data, batch_size=batch_size)\n",
        "    show_results(epoch, avg_loss, metrics)\n",
        "\n",
        "    val_loss = metrics[\"Validation loss\"]\n",
        "    if early_stopper.early_stop(val_loss, epoch, metrics[\"f1\"], model.state_dict(), optimizer.state_dict()):\n",
        "      break\n",
        "\n",
        "  early_stopper.save_best_checkpoint(save_filepath)"
      ],
      "metadata": {
        "id": "2QFIQmGhGda9"
      },
      "execution_count": 12,
      "outputs": []
    },
    {
      "cell_type": "code",
      "source": [
        "# Test loading saved model\n",
        "torch.cuda.empty_cache()\n",
        "full_determinism(seed=3)\n",
        "pretrained = \"microsoft/BiomedNLP-PubMedBERT-base-uncased-abstract\"\n",
        "device = torch.device(\"cuda\") if torch.cuda.is_available() else torch.device(\"cpu\")\n",
        "\n",
        "model = BiEncoderForSequenceClassification(pretrained, num_labels=1)\n",
        "model.to(device)\n",
        "train_biencoder(model, source_data, target_data)"
      ],
      "metadata": {
        "colab": {
          "base_uri": "https://localhost:8080/"
        },
        "id": "r2B4BXJ_fDlm",
        "outputId": "0d8f9aea-971e-4762-ff6a-dbcb739cdf39"
      },
      "execution_count": 14,
      "outputs": [
        {
          "output_type": "stream",
          "name": "stderr",
          "text": [
            " 33%|███▎      | 121/363 [01:20<02:28,  1.63it/s]"
          ]
        },
        {
          "output_type": "stream",
          "name": "stdout",
          "text": [
            "\n",
            "\n",
            "EPOCH 1\n",
            "\n",
            "Training loss: 10.964319229125977\n",
            "{'Validation loss': 2.4923452004593476,\n",
            " 'accuracy': 0.5322455322455323,\n",
            " 'f1': 0.4785475837932427,\n",
            " 'precision': 0.5574524129019433,\n",
            " 'recall': 0.5335002873799162}\n",
            "\n"
          ]
        },
        {
          "output_type": "stream",
          "name": "stderr",
          "text": [
            " 67%|██████▋   | 242/363 [02:48<01:10,  1.72it/s]"
          ]
        },
        {
          "output_type": "stream",
          "name": "stdout",
          "text": [
            "\n",
            "\n",
            "EPOCH 2\n",
            "\n",
            "Training loss: 1.112548589706421\n",
            "{'Validation loss': 0.9149126757830729,\n",
            " 'accuracy': 0.7148407148407149,\n",
            " 'f1': 0.7147573653967516,\n",
            " 'precision': 0.7149792609351433,\n",
            " 'recall': 0.7147850929517057}\n",
            "\n"
          ]
        },
        {
          "output_type": "stream",
          "name": "stderr",
          "text": [
            "100%|██████████| 363/363 [04:23<00:00,  1.34it/s]"
          ]
        },
        {
          "output_type": "stream",
          "name": "stdout",
          "text": [
            "\n",
            "\n",
            "EPOCH 3\n",
            "\n",
            "Training loss: 0.48030462861061096\n",
            "{'Validation loss': 0.8089892917950207,\n",
            " 'accuracy': 0.7117327117327117,\n",
            " 'f1': 0.711554388964234,\n",
            " 'precision': 0.7124475057035325,\n",
            " 'recall': 0.7118400525494704}\n",
            "\n"
          ]
        },
        {
          "output_type": "stream",
          "name": "stderr",
          "text": [
            "\r100%|██████████| 363/363 [04:55<00:00,  1.23it/s]\n"
          ]
        }
      ]
    },
    {
      "cell_type": "code",
      "source": [
        "# # Test loading saved model\n",
        "# torch.cuda.empty_cache()\n",
        "# full_determinism(seed=3)\n",
        "# pretrained = \"microsoft/BiomedNLP-PubMedBERT-base-uncased-abstract\"\n",
        "# device = torch.device(\"cuda\") if torch.cuda.is_available() else torch.device(\"cpu\")\n",
        "\n",
        "# model = BiEncoderForSequenceClassification(pretrained, num_labels=1)\n",
        "# model.to(device)\n",
        "# train_biencoder(model, source_data, target_data)\n",
        "\n",
        "# model2 = BiEncoderForSequenceClassification(pretrained, num_labels=1)\n",
        "# checkpoint = torch.load(\"bi_encoder_state_dict\")\n",
        "# model2.load_state_dict(checkpoint['model_state_dict'])\n",
        "# model2.to(device)\n",
        "\n",
        "# source_try = model2.get_source_model_outputs(source_data[\"test\"][\"input_ids\"][:1].to(device), source_data[\"test\"][\"token_type_ids\"][:1].to(device), source_data[\"test\"][\"attention_mask\"][:1].to(device))\n",
        "# target_try = model2.get_source_model_outputs(target_data[\"test\"][\"input_ids\"][:1].to(device), target_data[\"test\"][\"token_type_ids\"][:1].to(device), target_data[\"test\"][\"attention_mask\"][:1].to(device))\n",
        "# source_real = model.get_source_model_outputs(source_data[\"test\"][\"input_ids\"][:1].to(device), source_data[\"test\"][\"token_type_ids\"][:1].to(device), source_data[\"test\"][\"attention_mask\"][:1].to(device))\n",
        "# target_real = model.get_source_model_outputs(target_data[\"test\"][\"input_ids\"][:1].to(device), target_data[\"test\"][\"token_type_ids\"][:1].to(device), target_data[\"test\"][\"attention_mask\"][:1].to(device))\n",
        "\n",
        "# print(torch.all(source_try == source_real))\n",
        "# print(torch.all(target_try == target_real))"
      ],
      "metadata": {
        "colab": {
          "base_uri": "https://localhost:8080/"
        },
        "id": "xtrOEdWWa8oj",
        "outputId": "39280778-9d00-4c3f-ac72-71132727120c"
      },
      "execution_count": 23,
      "outputs": [
        {
          "output_type": "stream",
          "name": "stdout",
          "text": [
            "tensor(True, device='cuda:0')\n",
            "tensor(True, device='cuda:0')\n"
          ]
        }
      ]
    },
    {
      "cell_type": "code",
      "source": [
        "epochs = [10]\n",
        "batch_size = [2 ** i for i in range(4, 8)]\n",
        "learning_rate = [10 ** i for i in range(-6, -2)]\n",
        "param_grid = ParameterGrid({\"epochs\" : epochs, \"learning_rate\" : learning_rate, \"batch_size\" : batch_size})\n",
        "\n",
        "device = torch.device(\"cuda\") if torch.cuda.is_available() else torch.device(\"cpu\")\n",
        "pretrained = \"microsoft/BiomedNLP-PubMedBERT-base-uncased-abstract\"\n",
        "\n",
        "for params in param_grid:\n",
        "  full_determinism(seed=3)\n",
        "  model = BiEncoderForSequenceClassification(pretrained, num_labels=1)\n",
        "  model.to(device)\n",
        "\n",
        "  torch.cuda.empty_cache()\n",
        "  gc.collect()\n",
        "\n",
        "  save_filepath = f\"bi_encoder_state_dict_(lr={params['learning_rate']},bs={params['batch_size']}\"\n",
        "  train_biencoder(model, source_data, target_data, save_filepath, **params)\n",
        "  # colab_path = f\"/content/\"\n",
        "  # drive_path = f\"/content/drive/My Drive/{save_filepath}\"\n",
        "  # !cp colab_path drive_path"
      ],
      "metadata": {
        "id": "-IebuX4BGz0J",
        "colab": {
          "base_uri": "https://localhost:8080/"
        },
        "outputId": "9fe826cc-82a3-46c5-b17c-1432811302c6"
      },
      "execution_count": 55,
      "outputs": [
        {
          "output_type": "stream",
          "name": "stderr",
          "text": [
            " 33%|███▎      | 121/363 [01:21<02:24,  1.67it/s]"
          ]
        },
        {
          "output_type": "stream",
          "name": "stdout",
          "text": [
            "\n",
            "\n",
            "EPOCH 1\n",
            "\n",
            "Training loss: 3.600922107696533\n",
            "{'Validation loss': 0.5296826362609863,\n",
            " 'accuracy': 0.5322455322455323,\n",
            " 'f1': 0.4785475837932427,\n",
            " 'precision': 0.5574524129019433,\n",
            " 'recall': 0.5335002873799162}\n",
            "\n"
          ]
        },
        {
          "output_type": "stream",
          "name": "stderr",
          "text": [
            " 67%|██████▋   | 242/363 [02:56<01:13,  1.65it/s]"
          ]
        },
        {
          "output_type": "stream",
          "name": "stdout",
          "text": [
            "\n",
            "\n",
            "EPOCH 2\n",
            "\n",
            "Training loss: 0.7414628267288208\n",
            "{'Validation loss': 0.6765819191932678,\n",
            " 'accuracy': 0.7148407148407149,\n",
            " 'f1': 0.7147573653967516,\n",
            " 'precision': 0.7149792609351433,\n",
            " 'recall': 0.7147850929517057}\n",
            "\n"
          ]
        },
        {
          "output_type": "stream",
          "name": "stderr",
          "text": [
            "100%|██████████| 363/363 [04:46<00:00,  1.27it/s]"
          ]
        },
        {
          "output_type": "stream",
          "name": "stdout",
          "text": [
            "\n",
            "\n",
            "EPOCH 3\n",
            "\n",
            "Training loss: 0.9027135968208313\n",
            "{'Validation loss': 0.32415246963500977,\n",
            " 'accuracy': 0.7117327117327117,\n",
            " 'f1': 0.711554388964234,\n",
            " 'precision': 0.7124475057035325,\n",
            " 'recall': 0.7118400525494704}\n",
            "\n"
          ]
        },
        {
          "output_type": "stream",
          "name": "stderr",
          "text": [
            "\n"
          ]
        }
      ]
    },
    {
      "cell_type": "code",
      "source": [
        "torch.save(model.state_dict(), \"state_dict_bi_encoder.pt\")"
      ],
      "metadata": {
        "id": "NQ9GPNppWXPB"
      },
      "execution_count": null,
      "outputs": []
    },
    {
      "cell_type": "markdown",
      "source": [
        "# Faiss"
      ],
      "metadata": {
        "id": "VEH4XQTPOV7i"
      }
    },
    {
      "cell_type": "code",
      "source": [
        "torch.cuda.empty_cache()\n",
        "gc.collect()"
      ],
      "metadata": {
        "id": "neEMZu_DoL1L",
        "colab": {
          "base_uri": "https://localhost:8080/"
        },
        "outputId": "ff116068-6fd3-4cda-816e-fd72d329efef"
      },
      "execution_count": null,
      "outputs": [
        {
          "output_type": "execute_result",
          "data": {
            "text/plain": [
              "662"
            ]
          },
          "metadata": {},
          "execution_count": 22
        }
      ]
    },
    {
      "cell_type": "code",
      "source": [
        "queries_from = X_source_val\n",
        "database_from = X_target_val\n",
        "labels_from = y_val\n",
        "\n",
        "queries = queries_from[labels_from == 1]\n",
        "database = database_from[labels_from == 1]"
      ],
      "metadata": {
        "id": "QVlel1zmQXdZ"
      },
      "execution_count": null,
      "outputs": []
    },
    {
      "cell_type": "code",
      "source": [
        "offset = 0\n",
        "q_size = len(queries)\n",
        "db_size = len(database)"
      ],
      "metadata": {
        "id": "VLTbhwwrCCfD"
      },
      "execution_count": null,
      "outputs": []
    },
    {
      "cell_type": "code",
      "source": [
        "tokenized = tokenizer(list(queries[offset : offset + q_size]) + list(database[offset : offset + db_size]), padding=\"longest\")\n",
        "for (k, v) in tokenized.items():\n",
        "  tokenized[k] = torch.tensor(v, dtype=torch.int)\n",
        "\n",
        "tokenized_source = {k : v[:q_size].to(device) for (k, v) in tokenized.items()}\n",
        "tokenized_target = {k : v[q_size:].to(device) for (k, v) in tokenized.items()}"
      ],
      "metadata": {
        "id": "mYhBIqNLW9RB"
      },
      "execution_count": null,
      "outputs": []
    },
    {
      "cell_type": "code",
      "source": [
        "# Switch to cpu\n",
        "# tokenized_source, tokenized_target = None, None\n",
        "# gc.collect()\n",
        "# model.cpu()\n",
        "# tokenized_source = {k : v[:q_size].cpu() for (k, v) in tokenized.items()}\n",
        "# tokenized_target = {k : v[q_size:].cpu() for (k, v) in tokenized.items()}"
      ],
      "metadata": {
        "id": "rK3N34DZVXuL"
      },
      "execution_count": null,
      "outputs": []
    },
    {
      "cell_type": "code",
      "source": [
        "tokenized_queries = model.get_source_model_outputs(**tokenized_source)\n",
        "tokenized_database = model.get_source_model_outputs(**tokenized_target)"
      ],
      "metadata": {
        "id": "aRJNNxneTrgP"
      },
      "execution_count": null,
      "outputs": []
    },
    {
      "cell_type": "code",
      "source": [
        "count = 0\n",
        "sim = torch.nn.CosineSimilarity(dim=-1)\n",
        "for i in range(q_size):\n",
        "  score = sim(tokenized_queries[i], tokenized_database[i])\n",
        "  if score >= 0.95:\n",
        "    count += 1\n",
        "    # print(score)\n",
        "\n",
        "print(count)"
      ],
      "metadata": {
        "id": "4MMPNl586r22"
      },
      "execution_count": null,
      "outputs": []
    },
    {
      "cell_type": "code",
      "source": [
        "d = len(tokenized_database[0])\n",
        "xq = np.array(tokenized_queries.cpu().detach().numpy(), dtype=np.single)\n",
        "xb = np.array(tokenized_database.cpu().detach().numpy(), dtype=np.single)\n",
        "\n",
        "print(d, xq.shape, xb.shape)"
      ],
      "metadata": {
        "id": "PDsJZoPr-Kss"
      },
      "execution_count": null,
      "outputs": []
    },
    {
      "cell_type": "code",
      "source": [
        "# tokenized = None\n",
        "# tokenized_source = None\n",
        "# tokenized_target = None\n",
        "tokenized_queries = None\n",
        "tokenized_database = None\n",
        "gc.collect()"
      ],
      "metadata": {
        "colab": {
          "base_uri": "https://localhost:8080/"
        },
        "id": "Mfl_rDXEb6mT",
        "outputId": "bd966031-1ddc-4bf9-fab9-a485eaedcc8a"
      },
      "execution_count": null,
      "outputs": [
        {
          "output_type": "execute_result",
          "data": {
            "text/plain": [
              "94"
            ]
          },
          "metadata": {},
          "execution_count": 32
        }
      ]
    },
    {
      "cell_type": "code",
      "source": [
        "res = faiss.StandardGpuResources()  # use a single GPU\n",
        "\n",
        "index_flat = faiss.IndexFlatIP(d)   # build a flat (CPU) index\n",
        "\n",
        "index_flat.add(xb)                  # add vectors to the index\n",
        "# print(index_flat.ntotal)\n",
        "\n",
        "k = db_size                         # we want to see 100 nearest neighbors\n",
        "D, I = index_flat.search(xq, k)     # actual search\n",
        "# print(I[:5])                        # neighbors of the 5 first queries\n",
        "# print(D[:5])                        # similarities of the 5 first queries"
      ],
      "metadata": {
        "id": "JfhazGnF6tce"
      },
      "execution_count": null,
      "outputs": []
    },
    {
      "cell_type": "code",
      "source": [
        "ranks = []\n",
        "for i in range(q_size):\n",
        "  source, target = queries[offset + i], database[offset + i]\n",
        "  # print(\"\\nSource:\", source)\n",
        "  # print(\"Target:\", target)\n",
        "\n",
        "  for n, index in enumerate(I[i]):\n",
        "    # print(n + 1, database[offset + index])\n",
        "    if database[offset + index] == target:\n",
        "      ranks.append(n + 1)\n",
        "      # print(\"Rank found:\", n + 1)\n",
        "      break\n",
        "    # if n == k - 1:\n",
        "    #   print(\"Not found\")"
      ],
      "metadata": {
        "id": "RE5GxBXRgMbt"
      },
      "execution_count": null,
      "outputs": []
    },
    {
      "cell_type": "code",
      "source": [
        "plt.hist(ranks, bins=max(ranks) // 10)"
      ],
      "metadata": {
        "id": "Z37GxccYwYS-"
      },
      "execution_count": null,
      "outputs": []
    },
    {
      "cell_type": "code",
      "source": [
        "to_consider = 100\n",
        "in_first = ranks.count(1)\n",
        "in_ten = len([r for r in ranks if r <= 10])\n",
        "in_consider = len([r for r in ranks if r <= to_consider])\n",
        "in_all = len(ranks)\n",
        "mrr = np.mean(1 / np.array(ranks))\n",
        "\n",
        "print(f\"In first result: {in_first} ({(100 * in_first / len(ranks)):.1f}%)\")\n",
        "print(f\"In first 10 results: {in_ten} ({(100 * in_ten / len(ranks)):.1f}%)\")\n",
        "print(f\"In first {to_consider} results: {in_consider} ({(100 * in_consider / len(ranks)):.1f}%)\")\n",
        "print(f\"In first {k} results: {in_all} ({(100 * in_all / len(ranks)):.1f}%)\")\n",
        "print(f\"Lowest rank: {max(ranks)}\")\n",
        "print(f\"MRR: {mrr:.3f}\")\n",
        "\n",
        "## (can you load-unload model to file?)"
      ],
      "metadata": {
        "id": "IXFaM2QmeBTs"
      },
      "execution_count": null,
      "outputs": []
    }
  ]
}